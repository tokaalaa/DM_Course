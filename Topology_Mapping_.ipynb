{
  "nbformat": 4,
  "nbformat_minor": 0,
  "metadata": {
    "colab": {
      "name": "Topology Mapping .ipynb",
      "provenance": [],
      "collapsed_sections": [],
      "toc_visible": true,
      "include_colab_link": true
    },
    "kernelspec": {
      "name": "python3",
      "display_name": "Python 3"
    }
  },
  "cells": [
    {
      "cell_type": "markdown",
      "metadata": {
        "id": "view-in-github",
        "colab_type": "text"
      },
      "source": [
        "<a href=\"https://colab.research.google.com/github/tokaalaa/DM_Course/blob/main/Topology_Mapping_.ipynb\" target=\"_parent\"><img src=\"https://colab.research.google.com/assets/colab-badge.svg\" alt=\"Open In Colab\"/></a>"
      ]
    },
    {
      "cell_type": "markdown",
      "metadata": {
        "id": "kymY-8VBiIT1"
      },
      "source": [
        "# **Imports**"
      ]
    },
    {
      "cell_type": "code",
      "metadata": {
        "id": "zfMz4a3xiM1e",
        "colab": {
          "base_uri": "https://localhost:8080/"
        },
        "outputId": "72c8f146-5a52-4e85-b5c4-b9f19f6efa6d"
      },
      "source": [
        "import numpy as np\n",
        "from sklearn.preprocessing import normalize\n",
        "from sklearn.cluster import KMeans\n",
        "!pip install pyitlib\n",
        "from pyitlib import discrete_random_variable as drv\n",
        "import math\n"
      ],
      "execution_count": null,
      "outputs": [
        {
          "output_type": "stream",
          "text": [
            "Collecting pyitlib\n",
            "  Downloading https://files.pythonhosted.org/packages/22/52/f79a6fc5c7d22cb67bdedfe3c791015021aea2d1d0307bf1ac81f3a10188/pyitlib-0.2.2.tar.gz\n",
            "Requirement already satisfied: pandas>=0.20.2numpy>=1.9.2 in /usr/local/lib/python3.6/dist-packages (from pyitlib) (1.1.4)\n",
            "Requirement already satisfied: scikit-learn>=0.16.0 in /usr/local/lib/python3.6/dist-packages (from pyitlib) (0.22.2.post1)\n",
            "Requirement already satisfied: scipy>=1.0.1 in /usr/local/lib/python3.6/dist-packages (from pyitlib) (1.4.1)\n",
            "Requirement already satisfied: future>=0.16.0 in /usr/local/lib/python3.6/dist-packages (from pyitlib) (0.16.0)\n",
            "Requirement already satisfied: python-dateutil>=2.7.3 in /usr/local/lib/python3.6/dist-packages (from pandas>=0.20.2numpy>=1.9.2->pyitlib) (2.8.1)\n",
            "Requirement already satisfied: pytz>=2017.2 in /usr/local/lib/python3.6/dist-packages (from pandas>=0.20.2numpy>=1.9.2->pyitlib) (2018.9)\n",
            "Requirement already satisfied: numpy>=1.15.4 in /usr/local/lib/python3.6/dist-packages (from pandas>=0.20.2numpy>=1.9.2->pyitlib) (1.18.5)\n",
            "Requirement already satisfied: joblib>=0.11 in /usr/local/lib/python3.6/dist-packages (from scikit-learn>=0.16.0->pyitlib) (0.17.0)\n",
            "Requirement already satisfied: six>=1.5 in /usr/local/lib/python3.6/dist-packages (from python-dateutil>=2.7.3->pandas>=0.20.2numpy>=1.9.2->pyitlib) (1.15.0)\n",
            "Building wheels for collected packages: pyitlib\n",
            "  Building wheel for pyitlib (setup.py) ... \u001b[?25l\u001b[?25hdone\n",
            "  Created wheel for pyitlib: filename=pyitlib-0.2.2-cp36-none-any.whl size=28503 sha256=c61e34ad0585389d46163d47aebfd91e97f583c38287e273f6feb63ef771d4ba\n",
            "  Stored in directory: /root/.cache/pip/wheels/1c/f8/41/f4b4e777dd6ea714f2c4900367fb479e9fca0eb000c46e73f3\n",
            "Successfully built pyitlib\n",
            "Installing collected packages: pyitlib\n",
            "Successfully installed pyitlib-0.2.2\n"
          ],
          "name": "stdout"
        }
      ]
    },
    {
      "cell_type": "code",
      "metadata": {
        "colab": {
          "base_uri": "https://localhost:8080/"
        },
        "id": "MOF7dY6fgoPC",
        "outputId": "65efc932-9b28-4b93-9c42-eea35bbca3d8"
      },
      "source": [
        "from google.colab import drive\n",
        "drive.mount('/content/drive', force_remount=True)"
      ],
      "execution_count": null,
      "outputs": [
        {
          "output_type": "stream",
          "text": [
            "Mounted at /content/drive\n"
          ],
          "name": "stdout"
        }
      ]
    },
    {
      "cell_type": "markdown",
      "metadata": {
        "id": "lqd75-ruiXVq"
      },
      "source": [
        "# **Load Topology**"
      ]
    },
    {
      "cell_type": "code",
      "metadata": {
        "id": "4Px3iCItdcGB"
      },
      "source": [
        "N = 10\n",
        "filename = '/content/drive/My Drive/DM2/Dataset/t_10_1.txt'\n",
        "with open(filename, 'r') as f:\n",
        "    l = [[int(num) for num in line.split(' ')] for line in f]\n",
        "topology = np.array(l)"
      ],
      "execution_count": null,
      "outputs": []
    },
    {
      "cell_type": "markdown",
      "metadata": {
        "id": "E0hX_Rrpcj0p"
      },
      "source": [
        "#**Visualization**"
      ]
    },
    {
      "cell_type": "code",
      "metadata": {
        "id": "PGdb2WFxjLT3"
      },
      "source": [
        "import matplotlib.pyplot as plt\n",
        "import networkx as nx\n",
        "\n",
        "def visualize(N,labels):\n",
        "  colors = ['#ffe6ee','#ff80aa','#bcbcbc','#cc3300','red','green','blue',\n",
        "            'purple','black', 'yellow','magenta', 'cyan','#F0E442',\n",
        "            '#c4ff4d', '#6699ff','#ccccff','#f0b3ff', '#d2a679','#003300',\n",
        "            '#cccc00','#b3ffcc','#00264d','#002266','#ffcc80','#006666'] \n",
        "  G = nx.Graph()  # Create empty graph\n",
        "  \n",
        "  G.add_nodes_from([i for i in range(1,N+1)])  # Add nodes\n",
        "  \n",
        "  color_map = []\n",
        "  # coloring nodes\n",
        "  i = 0\n",
        "  for node in G:\n",
        "        color_map.append(colors[labels[i]])\n",
        "        i= i + 1\n",
        "\n",
        "  # Add edges\n",
        "  for i in range(len(topology)):\n",
        "    G.add_edge(topology[i,0], topology[i,1], weight=topology[i,2])\n",
        "\n",
        "  \n",
        "  # Create drawing\n",
        "  #spring_layout(G)\n",
        "  pos = nx.shell_layout(G)  # List of positions of nodes\n",
        "  weights = nx.get_edge_attributes(G, \"weight\") # List of weights\n",
        "  nx.draw_networkx(G, pos, node_color=color_map, with_labels=True)\n",
        "  nx.draw_networkx_edge_labels(G, pos, edge_labels=weights)\n",
        "\n",
        "  plt.title(\"Basic Graphs with Networkx\")\n",
        "  plt.gcf().canvas.set_window_title(\"\")  # Hide window title\n",
        "  \n",
        "  # Display Graph\n",
        "  plt.show()\n",
        " "
      ],
      "execution_count": null,
      "outputs": []
    },
    {
      "cell_type": "code",
      "metadata": {
        "id": "YjsYPtPorie6",
        "colab": {
          "base_uri": "https://localhost:8080/",
          "height": 264
        },
        "outputId": "54b4544b-bef6-48c2-9c24-3ea9dc595cff"
      },
      "source": [
        "l = np.zeros((N)).astype(int)\n",
        "visualize(N,l)"
      ],
      "execution_count": null,
      "outputs": [
        {
          "output_type": "display_data",
          "data": {
            "image/png": "[encoded data removed]",
            "text/plain": [
              "<Figure size 432x288 with 1 Axes>"
            ]
          },
          "metadata": {
            "tags": []
          }
        }
      ]
    },
    {
      "cell_type": "markdown",
      "metadata": {
        "id": "8ILvAs9rtzC2"
      },
      "source": [
        "# **Spectral clustring**"
      ]
    },
    {
      "cell_type": "code",
      "metadata": {
        "colab": {
          "base_uri": "https://localhost:8080/"
        },
        "id": "XxFXBS921-6f",
        "outputId": "0968e03f-c057-46ef-825c-c63099f2c010"
      },
      "source": [
        "A = np.zeros((N, N))\n",
        "for i in range(len(topology)):\n",
        "  A[topology[i,0] - 1,topology[i,1] - 1] = topology[i,2]\n",
        "  A[topology[i,1] - 1,topology[i,0] - 1] = topology[i,2]\n",
        "A"
      ],
      "execution_count": null,
      "outputs": [
        {
          "output_type": "execute_result",
          "data": {
            "text/plain": [
              "array([[  0.,   0.,   0.,   0.,   0.,   0.,   0., 243., 666.,   0.],\n",
              "       [  0.,   0.,   0.,   0.,   0., 639.,   0.,   0.,   0.,   0.],\n",
              "       [  0.,   0.,   0., 777.,   0.,   0.,   0.,   0.,   0.,   0.],\n",
              "       [  0.,   0., 777.,   0., 327.,   0.,   0., 828.,   0., 140.],\n",
              "       [  0.,   0.,   0., 327.,   0.,   0., 966., 581.,   0.,   0.],\n",
              "       [  0., 639.,   0.,   0.,   0.,   0., 235.,   0.,   0.,   0.],\n",
              "       [  0.,   0.,   0.,   0., 966., 235.,   0., 242., 913.,   0.],\n",
              "       [243.,   0.,   0., 828., 581.,   0., 242.,   0., 720.,   0.],\n",
              "       [666.,   0.,   0.,   0.,   0.,   0., 913., 720.,   0.,   0.],\n",
              "       [  0.,   0.,   0., 140.,   0.,   0.,   0.,   0.,   0.,   0.]])"
            ]
          },
          "metadata": {
            "tags": []
          },
          "execution_count": 6
        }
      ]
    },
    {
      "cell_type": "code",
      "metadata": {
        "id": "RLFgLStut6r9"
      },
      "source": [
        "def Spectral_Clustring(k = 3):\n",
        "\n",
        "    print(\"A= \"+ str(A) + \"\\n\")\n",
        "\n",
        "    D = A.sum(axis = 1)\n",
        "    D = np.diag(D)\n",
        "    print(\"D= \"+ str(D) + \"\\n\")\n",
        "\n",
        "    L = D - A\n",
        "    \n",
        "\n",
        "    eigvals, eigvecs = np.linalg.eig(L)\n",
        "    sortedIndex = np.argsort(eigvals)\n",
        "    eigvals = eigvals[sortedIndex]\n",
        "    eigvecs= eigvecs[:, sortedIndex]\n",
        "    print(\"eigvals= \" + str(eigvals) + \"\\n\")\n",
        "    print(\"eigvecs= \" + str(eigvecs) + \"\\n\")\n",
        "\n",
        "\n",
        "    U = eigvecs[:, 0:k]\n",
        "    print(\"U= \" + str(U) + \"\\n\")\n",
        "\n",
        "    Y = normalize(U, axis = 1)\n",
        "    print(\"Y= \" + str(Y) + \"\\n\")\n",
        "\n",
        "    kmeans = KMeans(n_clusters=k).fit(Y)\n",
        "    label = kmeans.labels_\n",
        "    print(kmeans.labels_)\n",
        "    return label  "
      ],
      "execution_count": null,
      "outputs": []
    },
    {
      "cell_type": "code",
      "metadata": {
        "colab": {
          "base_uri": "https://localhost:8080/"
        },
        "id": "73aVh-Sz5Qy_",
        "outputId": "f92df412-99aa-461a-ebe6-aeb7c301a82a"
      },
      "source": [
        "label = Spectral_Clustring(k = 2)"
      ],
      "execution_count": null,
      "outputs": [
        {
          "output_type": "stream",
          "text": [
            "A= [[  0.   0.   0.   0.   0.   0.   0. 243. 666.   0.]\n",
            " [  0.   0.   0.   0.   0. 639.   0.   0.   0.   0.]\n",
            " [  0.   0.   0. 777.   0.   0.   0.   0.   0.   0.]\n",
            " [  0.   0. 777.   0. 327.   0.   0. 828.   0. 140.]\n",
            " [  0.   0.   0. 327.   0.   0. 966. 581.   0.   0.]\n",
            " [  0. 639.   0.   0.   0.   0. 235.   0.   0.   0.]\n",
            " [  0.   0.   0.   0. 966. 235.   0. 242. 913.   0.]\n",
            " [243.   0.   0. 828. 581.   0. 242.   0. 720.   0.]\n",
            " [666.   0.   0.   0.   0.   0. 913. 720.   0.   0.]\n",
            " [  0.   0.   0. 140.   0.   0.   0.   0.   0.   0.]]\n",
            "\n",
            "D= [[ 909.    0.    0.    0.    0.    0.    0.    0.    0.    0.]\n",
            " [   0.  639.    0.    0.    0.    0.    0.    0.    0.    0.]\n",
            " [   0.    0.  777.    0.    0.    0.    0.    0.    0.    0.]\n",
            " [   0.    0.    0. 2072.    0.    0.    0.    0.    0.    0.]\n",
            " [   0.    0.    0.    0. 1874.    0.    0.    0.    0.    0.]\n",
            " [   0.    0.    0.    0.    0.  874.    0.    0.    0.    0.]\n",
            " [   0.    0.    0.    0.    0.    0. 2356.    0.    0.    0.]\n",
            " [   0.    0.    0.    0.    0.    0.    0. 2614.    0.    0.]\n",
            " [   0.    0.    0.    0.    0.    0.    0.    0. 2299.    0.]\n",
            " [   0.    0.    0.    0.    0.    0.    0.    0.    0.  140.]]\n",
            "\n",
            "eigvals= [1.24979735e-13 1.04768429e+02 1.65441326e+02 4.63093144e+02\n",
            " 9.46182043e+02 1.40181027e+03 2.04348771e+03 2.27053633e+03\n",
            " 3.30111500e+03 3.85756575e+03]\n",
            "\n",
            "eigvecs= [[-0.31622777  0.05101708  0.2633411  -0.44198658  0.69756702  0.06179666\n",
            "   0.080668    0.34759731  0.08758058  0.08530205]\n",
            " [-0.31622777 -0.5943307  -0.35029276  0.07846374  0.14333207 -0.627827\n",
            "  -0.05442277 -0.00384323  0.01248102  0.00813906]\n",
            " [-0.31622777  0.16923507  0.16980918  0.75640371  0.27865536  0.09261161\n",
            "  -0.38453716  0.06575035 -0.17216446  0.04816125]\n",
            " [-0.31622777  0.14641591  0.13365287  0.30558598 -0.06067372 -0.07447193\n",
            "   0.62678454 -0.12638422  0.55928301 -0.19094455]\n",
            " [-0.31622777  0.04529031  0.18894176 -0.0756485  -0.49839538 -0.1249213\n",
            "  -0.00686794  0.63813397 -0.23613835 -0.3598616 ]\n",
            " [-0.31622777 -0.49688611 -0.25959965  0.02159986 -0.06890303  0.74947242\n",
            "   0.11961834  0.00981279 -0.05199674 -0.04099544]\n",
            " [-0.31622777 -0.01039644  0.16976805 -0.17558638 -0.36857716  0.02383919\n",
            "  -0.44730223 -0.04786424  0.50309233  0.49834782]\n",
            " [-0.31622777  0.0727952   0.19813711 -0.06375759 -0.14894034 -0.09924767\n",
            "   0.39294225 -0.28481721 -0.57121541  0.50747678]\n",
            " [-0.31622777  0.03504551  0.22171507 -0.27266029  0.0153987  -0.00951478\n",
            "  -0.28078351 -0.60669037 -0.10615235 -0.56281618]\n",
            " [-0.31622777  0.58181417 -0.73547274 -0.13241394  0.01053648  0.00826279\n",
            "  -0.0460995   0.00830485 -0.02476962  0.00719079]]\n",
            "\n",
            "U= [[-0.31622777  0.05101708]\n",
            " [-0.31622777 -0.5943307 ]\n",
            " [-0.31622777  0.16923507]\n",
            " [-0.31622777  0.14641591]\n",
            " [-0.31622777  0.04529031]\n",
            " [-0.31622777 -0.49688611]\n",
            " [-0.31622777 -0.01039644]\n",
            " [-0.31622777  0.0727952 ]\n",
            " [-0.31622777  0.03504551]\n",
            " [-0.31622777  0.58181417]]\n",
            "\n",
            "Y= [[-0.98723494  0.15927077]\n",
            " [-0.46972229 -0.88281424]\n",
            " [-0.88168027  0.47184733]\n",
            " [-0.90745141  0.42015704]\n",
            " [-0.98989907  0.14177388]\n",
            " [-0.53690875 -0.84364033]\n",
            " [-0.99946001 -0.03285869]\n",
            " [-0.97451288  0.22433154]\n",
            " [-0.99391506  0.11014928]\n",
            " [-0.47754178  0.87860904]]\n",
            "\n",
            "[0 1 0 0 0 1 0 0 0 0]\n"
          ],
          "name": "stdout"
        }
      ]
    },
    {
      "cell_type": "code",
      "metadata": {
        "colab": {
          "base_uri": "https://localhost:8080/",
          "height": 264
        },
        "id": "Vy9ubJ6uYqL6",
        "outputId": "9668a45b-6d29-4738-8508-6c340d2fa897"
      },
      "source": [
        "visualize(N,label)"
      ],
      "execution_count": null,
      "outputs": [
        {
          "output_type": "display_data",
          "data": {
            "image/png": "[encoded data removed]",
            "text/plain": [
              "<Figure size 432x288 with 1 Axes>"
            ]
          },
          "metadata": {
            "tags": []
          }
        }
      ]
    },
    {
      "cell_type": "markdown",
      "metadata": {
        "id": "LFNWNpOU9pVb"
      },
      "source": [
        "#Conditional Entropy"
      ]
    },
    {
      "cell_type": "code",
      "metadata": {
        "colab": {
          "base_uri": "https://localhost:8080/"
        },
        "id": "N1_OsbGT94mg",
        "outputId": "8a45eddc-87ca-4cb0-8a90-2f8a34fd9dbc"
      },
      "source": [
        "filename = '/content/drive/My Drive/DM2/Dataset/ground_truth.txt'\n",
        "r = 1 # row number\n",
        "with open(filename, 'r') as f:\n",
        "    l = [[int(num) for num in line.split(' ')] for line in f]\n",
        "True_clustring = np.array(l)\n",
        "print(True_clustring[1])\n",
        "\n",
        "drv.entropy_conditional(True_clustring[1],label)"
      ],
      "execution_count": null,
      "outputs": [
        {
          "output_type": "stream",
          "text": [
            "[0, 0, 0, 1, 1, 1, 1, 0, 0, 0]\n"
          ],
          "name": "stdout"
        },
        {
          "output_type": "execute_result",
          "data": {
            "text/plain": [
              "array(0.9635472)"
            ]
          },
          "metadata": {
            "tags": []
          },
          "execution_count": 14
        }
      ]
    },
    {
      "cell_type": "code",
      "metadata": {
        "id": "XVICYGBBxx-n"
      },
      "source": [
        "def entropy(Y):\n",
        "    unique, count = np.unique(Y, return_counts=True, axis=0)\n",
        "    print(unique, count)\n",
        "    print(len(Y))\n",
        "    prob = count/len(Y)\n",
        "    en = np.sum((-1)*prob*np.log2(prob))\n",
        "    return en\n",
        "\n",
        "#Joint Entropy\n",
        "def jEntropy(Y,X):\n",
        "    print(\"Y\",Y)\n",
        "    print(\"X\",X)\n",
        "    YX = np.c_[Y,X]\n",
        "    print(\"joint\")\n",
        "    return entropy(YX)\n",
        "\n",
        "#Conditional Entropy\n",
        "def cEntropy(Y, X):\n",
        "    return jEntropy(Y, X) - entropy(X)"
      ],
      "execution_count": null,
      "outputs": []
    },
    {
      "cell_type": "code",
      "metadata": {
        "colab": {
          "base_uri": "https://localhost:8080/"
        },
        "id": "_DfR2KnGwc1K",
        "outputId": "36770add-343d-45e3-8c51-75a9798aa127"
      },
      "source": [
        "cEntropy(X=label, Y=True_clustring[r])"
      ],
      "execution_count": null,
      "outputs": [
        {
          "output_type": "stream",
          "text": [
            "Y [0, 0, 0, 1, 1, 1, 1, 0, 0, 0]\n",
            "X [0 1 0 0 0 1 0 0 0 0]\n",
            "joint\n",
            "[[0 0]\n",
            " [0 1]\n",
            " [1 0]\n",
            " [1 1]] [5 1 3 1]\n",
            "10\n",
            "[0 1] [8 2]\n",
            "10\n"
          ],
          "name": "stdout"
        },
        {
          "output_type": "execute_result",
          "data": {
            "text/plain": [
              "0.963547202339972"
            ]
          },
          "metadata": {
            "tags": []
          },
          "execution_count": 15
        }
      ]
    },
    {
      "cell_type": "markdown",
      "metadata": {
        "id": "j6h39FNVFc6q"
      },
      "source": [
        "# F-Measure"
      ]
    },
    {
      "cell_type": "code",
      "metadata": {
        "colab": {
          "base_uri": "https://localhost:8080/"
        },
        "id": "0WF9J4ifFlKs",
        "outputId": "2cbdda8e-0c23-4d9c-a7d7-07c80cb5209b"
      },
      "source": [
        "def FMeasure(label, True_clustring):\n",
        "  print(\"label\", label)\n",
        "  print(\"True_clustring\", True_clustring)\n",
        "\n",
        "  YX = np.c_[label, True_clustring]\n",
        "  unique_label, count_label = np.unique(YX, return_counts=True, axis=0)\n",
        "  print(unique_label, count_label)\n",
        "  unique_clustring, count_clustring = np.unique(label, return_counts=True, axis=0)\n",
        "  print(unique_clustring, count_clustring)\n",
        "  n = len(unique_label)\n",
        "\n",
        "  prec = []\n",
        "  rec = []\n",
        "  max = []\n",
        "  sumClass = []\n",
        "  numclass = []\n",
        "  maxCurrent = 0\n",
        "  sumCurrent = 0\n",
        "  current = 0\n",
        "  current1 = 0\n",
        "  for i in range(n):\n",
        "    if current1 == unique_label[i][0]:\n",
        "      #print(\"enter\" + str(i))\n",
        "      sumCurrent = sumCurrent + count_label[i]\n",
        "      #print(sumCurrent)\n",
        "    else :\n",
        "      sumClass.append(sumCurrent)\n",
        "      current1 = unique_label[i][0]\n",
        "      sumCurrent = count_label[i]\n",
        "      #print(sumCurrent)\n",
        "    if current == unique_label[i][0]:\n",
        "      if maxCurrent < count_label[i]:\n",
        "        maxCurrent = count_label[i]\n",
        "    else :\n",
        "      #print(\"enter\" + str(i))\n",
        "      numclass.append(current)\n",
        "      max.append(maxCurrent)\n",
        "\n",
        "      current = unique_label[i][0]\n",
        "      maxCurrent = count_label[i]\n",
        "\n",
        "    if i == n-1 and len(max)!=len(count_clustring):\n",
        "      sumClass.append(sumCurrent)\n",
        "      numclass.append(current)\n",
        "      max.append(maxCurrent)\n",
        "    if i == n-1 and len(sumClass)!=len(count_clustring):\n",
        "      #print(\"end\" + str(sumCurrent))\n",
        "      sumClass.append(sumCurrent)\n",
        "      \n",
        "  print(\"max\",max)    \n",
        "  print(\"numclass\",numclass)    \n",
        "  print(\"sumClass\",sumClass)\n",
        "  Fi = []\n",
        "  for i in range(len(count_clustring)):\n",
        "    precValue = max[i]/count_clustring[i]\n",
        "    recValue = max[i]/sumClass[numclass[i]]\n",
        "    prec.append(precValue)\n",
        "    rec.append(recValue)\n",
        "    Fi.append((2*precValue*recValue)/(recValue+precValue))\n",
        "  print(\"prec\",prec)    \n",
        "  print(\"rec\",rec)\n",
        "  print(\"Fi\",Fi)\n",
        "  print(\"FMeasure= \",np.sum(Fi)/len(count_clustring))\n",
        "  return prec, rec\n",
        "#[0,0,0,0,0,0,1,1,1,1,1,1,1,2,2,2,2,2],[0,0,0,0,0,1,0,1,1,1,1,2,2,0,0,2,2,2]\n",
        "prec, rec = FMeasure(label, True_clustring[r])"
      ],
      "execution_count": null,
      "outputs": [
        {
          "output_type": "stream",
          "text": [
            "label [0 1 0 0 0 1 0 0 0 0]\n",
            "True_clustring [0, 0, 0, 1, 1, 1, 1, 0, 0, 0]\n",
            "[[0 0]\n",
            " [0 1]\n",
            " [1 0]\n",
            " [1 1]] [5 3 1 1]\n",
            "[0 1] [8 2]\n",
            "max [5, 1]\n",
            "numclass [0, 1]\n",
            "sumClass [8, 2]\n",
            "prec [0.625, 0.5]\n",
            "rec [0.625, 0.5]\n",
            "Fi [0.625, 0.5]\n",
            "FMeasure=  0.5625\n"
          ],
          "name": "stdout"
        }
      ]
    },
    {
      "cell_type": "markdown",
      "metadata": {
        "id": "Lw34PF-k-yKk"
      },
      "source": [
        "#Normalized-Cut "
      ]
    },
    {
      "cell_type": "code",
      "metadata": {
        "id": "mGI8jMeg-zbe",
        "colab": {
          "base_uri": "https://localhost:8080/"
        },
        "outputId": "2fd9690e-0992-4b7d-d6bc-e98b3ca80199"
      },
      "source": [
        "def NormalizedCut(label):\n",
        "  print(label)\n",
        "  unique_clustring, count_clustring = np.unique(label, return_counts=True, axis=0)\n",
        "  print(unique_clustring, count_clustring)\n",
        "  n = len(unique_clustring)\n",
        "  print(A)\n",
        "  WCC = np.zeros((n))\n",
        "  NC = 0\n",
        "  W = np.zeros((n,n))\n",
        "  for i in range(0,len(A)):\n",
        "    for j in range(i,len(A)):\n",
        "      if i != j:\n",
        "        W[label[i],label[j]] = W[label[i],label[j]] + math.exp(-0.01*A[i,j])\n",
        "        W[label[j],label[i]] = W[label[j],label[i]] + math.exp(-0.01*A[i,j])\n",
        "\n",
        "  for i in range(0,len(W)):\n",
        "    for j in range(0,len(W)):\n",
        "      if i == j:\n",
        "        W[i,j] =  W[i,j] / 2\n",
        "      if i != j:\n",
        "        WCC[i] = WCC[i] +  W[i,j]\n",
        "    NC = NC +  WCC[i] / ( WCC[i] + W[i,i])\n",
        "    print(WCC[i] / ( WCC[i] + W[i,i]))    \n",
        "\n",
        "  print(\"W = \",W)\n",
        "  print(\"WCC = \",WCC)\n",
        "  print(\"NC = \",NC)\n",
        "\n",
        "NormalizedCut(label)\n",
        "#W =  [[3.49348698e+01 1.50953692e+01]\n",
        "#[1.50953692e+01 3.35651240e-03]]\n",
        "#WCC =  [15.09536916 15.09536916]\n",
        "#NC =  1.4634659012389317"
      ],
      "execution_count": null,
      "outputs": [
        {
          "output_type": "stream",
          "text": [
            "[0 1 0 0 0 1 0 0 0 0]\n",
            "[0 1] [8 2]\n",
            "[[  0.   0.   0.   0.   0.   0.   0. 243. 666.   0.]\n",
            " [  0.   0.   0.   0.   0. 639.   0.   0.   0.   0.]\n",
            " [  0.   0.   0. 777.   0.   0.   0.   0.   0.   0.]\n",
            " [  0.   0. 777.   0. 327.   0.   0. 828.   0. 140.]\n",
            " [  0.   0.   0. 327.   0.   0. 966. 581.   0.   0.]\n",
            " [  0. 639.   0.   0.   0.   0. 235.   0.   0.   0.]\n",
            " [  0.   0.   0.   0. 966. 235.   0. 242. 913.   0.]\n",
            " [243.   0.   0. 828. 581.   0. 242.   0. 720.   0.]\n",
            " [666.   0.   0.   0.   0.   0. 913. 720.   0.   0.]\n",
            " [  0.   0.   0. 140.   0.   0.   0.   0.   0.   0.]]\n",
            "0.4635770657703049\n",
            "0.9998888354686267\n",
            "W =  [[1.74674349e+01 1.50953692e+01]\n",
            " [1.50953692e+01 1.67825620e-03]]\n",
            "WCC =  [15.09536916 15.09536916]\n",
            "NC =  1.4634659012389317\n"
          ],
          "name": "stdout"
        }
      ]
    },
    {
      "cell_type": "code",
      "metadata": {
        "id": "_SzseCRysVrc"
      },
      "source": [
        ""
      ],
      "execution_count": null,
      "outputs": []
    }
  ]
}