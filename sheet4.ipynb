{
  "nbformat": 4,
  "nbformat_minor": 0,
  "metadata": {
    "colab": {
      "name": "sheet4.ipynb",
      "provenance": [],
      "toc_visible": true,
      "authorship_tag": "ABX9TyPtgiRGZn5j8NbzicFLq4yM",
      "include_colab_link": true
    },
    "kernelspec": {
      "name": "python3",
      "display_name": "Python 3"
    }
  },
  "cells": [
    {
      "cell_type": "markdown",
      "metadata": {
        "id": "view-in-github",
        "colab_type": "text"
      },
      "source": [
        "<a href=\"https://colab.research.google.com/github/tokaalaa/DM_Course/blob/main/sheet4.ipynb\" target=\"_parent\"><img src=\"https://colab.research.google.com/assets/colab-badge.svg\" alt=\"Open In Colab\"/></a>"
      ]
    },
    {
      "cell_type": "markdown",
      "metadata": {
        "id": "s3JMMinjJsUv"
      },
      "source": [
        "# Imports"
      ]
    },
    {
      "cell_type": "code",
      "metadata": {
        "id": "JXBdgdgDE7AP"
      },
      "source": [
        "from sklearn.metrics.pairwise import rbf_kernel\n",
        "from sklearn.preprocessing import normalize\n",
        "from sklearn.neighbors import kneighbors_graph\n",
        "import numpy as np\n",
        "from sklearn.cluster import KMeans"
      ],
      "execution_count": null,
      "outputs": []
    },
    {
      "cell_type": "markdown",
      "metadata": {
        "id": "p_CTOlPvJw-6"
      },
      "source": [
        "# Data Points"
      ]
    },
    {
      "cell_type": "code",
      "metadata": {
        "id": "KZiFtMAp22QM"
      },
      "source": [
        "X = np.array([[2, 4],#p\n",
        "     [3, 3],#v\n",
        "     [3, 4],#q\n",
        "     [5, 4],#r\n",
        "     [5, 6],#h\n",
        "     [5, 8],#a\n",
        "     [6, 4],#s\n",
        "     [6, 5],#k\n",
        "     [6, 7],#d\n",
        "     [7, 3],#w\n",
        "     [7, 4],#t\n",
        "     [8, 2],#x\n",
        "     [9, 4],#l\n",
        "     [10, 6],#i\n",
        "     [10, 7],#e\n",
        "     [10, 9],#b\n",
        "     [11, 5],#m\n",
        "     [11, 8],#c\n",
        "     [12, 7],#f\n",
        "     [13, 6],#j\n",
        "     [13, 7],#g\n",
        "     [14, 6],#n\n",
        "     [15, 4],#u\n",
        "     [15, 5]#o\n",
        "     ])"
      ],
      "execution_count": null,
      "outputs": []
    },
    {
      "cell_type": "markdown",
      "metadata": {
        "id": "uuCTIj8GoqQx"
      },
      "source": [
        "# Plotting"
      ]
    },
    {
      "cell_type": "code",
      "metadata": {
        "id": "vZXjWjPQov4V"
      },
      "source": [
        "import matplotlib\n",
        "import matplotlib.pyplot as plt\n",
        "\n",
        "def plot_clusters():\n",
        "    colors = ['red','green','blue','purple','black', 'yellow']\n",
        "\n",
        "    fig = plt.figure(figsize=(8,8))\n",
        "    plt.scatter(X[:,0], X[:,1], c=label, cmap=matplotlib.colors.ListedColormap(colors))"
      ],
      "execution_count": null,
      "outputs": []
    },
    {
      "cell_type": "markdown",
      "metadata": {
        "id": "PiHeCIz-e85X"
      },
      "source": [
        "# **KMeans**"
      ]
    },
    {
      "cell_type": "markdown",
      "metadata": {
        "id": "h2SE2av6fDu6"
      },
      "source": [
        "## k = 2"
      ]
    },
    {
      "cell_type": "code",
      "metadata": {
        "colab": {
          "base_uri": "https://localhost:8080/"
        },
        "id": "sHBxRfPUeZe_",
        "outputId": "1784f123-2008-498b-c10b-f317c4979a4d"
      },
      "source": [
        "kmeans = KMeans(n_clusters=2).fit(X)\n",
        "label = kmeans.labels_\n",
        "kmeans.labels_"
      ],
      "execution_count": null,
      "outputs": [
        {
          "output_type": "execute_result",
          "data": {
            "text/plain": [
              "array([1, 1, 1, 1, 1, 1, 1, 1, 1, 1, 1, 1, 1, 0, 0, 0, 0, 0, 0, 0, 0, 0,\n",
              "       0, 0], dtype=int32)"
            ]
          },
          "metadata": {
            "tags": []
          },
          "execution_count": 7
        }
      ]
    },
    {
      "cell_type": "code",
      "metadata": {
        "colab": {
          "base_uri": "https://localhost:8080/",
          "height": 483
        },
        "id": "rZXDM2XFgqu7",
        "outputId": "e62597d0-f6c3-48d2-8410-0a1987c00333"
      },
      "source": [
        "plot_clusters()"
      ],
      "execution_count": null,
      "outputs": [
        {
          "output_type": "display_data",
          "data": {
            "image/png": "[encoded data removed]",
            "text/plain": [
              "<Figure size 576x576 with 1 Axes>"
            ]
          },
          "metadata": {
            "tags": [],
            "needs_background": "light"
          }
        }
      ]
    },
    {
      "cell_type": "markdown",
      "metadata": {
        "id": "m1QSA1BMiZht"
      },
      "source": [
        "## k = 3"
      ]
    },
    {
      "cell_type": "code",
      "metadata": {
        "colab": {
          "base_uri": "https://localhost:8080/"
        },
        "id": "2s5HAvPZiZhu",
        "outputId": "e202d7a0-b284-43b0-d64f-d0db57ace49f"
      },
      "source": [
        "kmeans = KMeans(n_clusters=3).fit(X)\n",
        "label = kmeans.labels_\n",
        "kmeans.labels_"
      ],
      "execution_count": null,
      "outputs": [
        {
          "output_type": "execute_result",
          "data": {
            "text/plain": [
              "array([1, 1, 1, 1, 1, 1, 1, 1, 1, 1, 1, 1, 0, 0, 0, 0, 0, 0, 0, 2, 2, 2,\n",
              "       2, 2], dtype=int32)"
            ]
          },
          "metadata": {
            "tags": []
          },
          "execution_count": 3
        }
      ]
    },
    {
      "cell_type": "code",
      "metadata": {
        "colab": {
          "base_uri": "https://localhost:8080/"
        },
        "id": "Oiz88qmT6UrV",
        "outputId": "7a4ba8ea-e17a-4246-d36e-88fc7de095cd"
      },
      "source": [
        "from sklearn.metrics import f1_score\n",
        "y_true = [1, 1, 1, 0, 0, 0, 0, 0, 0, 0, 0, 0, 0, 2, 2, 2,\n",
        "       2, 2,2,  2, 2,\n",
        "       2, 2,2]\n",
        "\n",
        "print(f1_score(y_true, label, average=None))\n",
        "\n",
        "from sklearn.metrics import classification_report\n",
        "print(classification_report(y_true,label))"
      ],
      "execution_count": null,
      "outputs": [
        {
          "output_type": "stream",
          "text": [
            "[0.11764706 0.4        0.625     ]\n",
            "              precision    recall  f1-score   support\n",
            "\n",
            "           0       0.14      0.10      0.12        10\n",
            "           1       0.25      1.00      0.40         3\n",
            "           2       1.00      0.45      0.62        11\n",
            "\n",
            "    accuracy                           0.38        24\n",
            "   macro avg       0.46      0.52      0.38        24\n",
            "weighted avg       0.55      0.38      0.39        24\n",
            "\n"
          ],
          "name": "stdout"
        }
      ]
    },
    {
      "cell_type": "code",
      "metadata": {
        "colab": {
          "base_uri": "https://localhost:8080/"
        },
        "id": "ZrqaTezbu_k5",
        "outputId": "f8d3a31d-9ed6-4642-de36-f346847366f1"
      },
      "source": [
        "#compute betacv\n",
        "from scipy.spatial import distance_matrix\n",
        "Nin = 97 #12c2+7c2+5c2\n",
        "Win1= distance_matrix(X[0:12], X[0:12])#c1\n",
        "Win1  = np.sum(Win1)\n",
        "Win2= distance_matrix(X[12:19], X[12:19])#c2\n",
        "Win2  = np.sum(Win2)\n",
        "Win3= distance_matrix(X[19:24], X[19:24])#c3\n",
        "Win3  = np.sum(Win3)\n",
        "Win = 0.5*(Win1+Win2+Win3)\n",
        "\n",
        "Nout = 179 #12*5+12*7+7*5\n",
        "Wout1 = distance_matrix(X[0:12], X[12:19])#c1,c2\n",
        "Wout1 = np.sum(Wout1)\n",
        "Wout2 = distance_matrix(X[0:12], X[19:24])#c1,c3\n",
        "Wout2 = np.sum(Wout2)\n",
        "Wout3 = distance_matrix(X[19:24], X[12:19])#c3,c2\n",
        "Wout3 = np.sum(Wout3)\n",
        "Wout = Wout1 + Wout2 + Wout3\n",
        "BetaCV = Win * Nout / (Wout * Nin)\n",
        "BetaCV"
      ],
      "execution_count": null,
      "outputs": [
        {
          "output_type": "execute_result",
          "data": {
            "text/plain": [
              "0.4417451872558242"
            ]
          },
          "metadata": {
            "tags": []
          },
          "execution_count": 33
        }
      ]
    },
    {
      "cell_type": "code",
      "metadata": {
        "id": "Hi3kHsnnGZwI",
        "colab": {
          "base_uri": "https://localhost:8080/"
        },
        "outputId": "5ad3bcd3-b10f-457e-d67b-fa251e5f0a2f"
      },
      "source": [
        "#compute Ncut\n",
        "NC1 = 1/(1+ Win1 / (Win1+Wout1+Wout2))\n",
        "NC2 = 1/(1+ Win2 / (Win2+Wout1+Wout3))\n",
        "NC3 = 1/(1+ Win3 / (Win3+Wout3+Wout2))\n",
        "NC = NC1 + NC2 + NC3\n",
        "NC"
      ],
      "execution_count": null,
      "outputs": [
        {
          "output_type": "execute_result",
          "data": {
            "text/plain": [
              "2.601089636353416"
            ]
          },
          "metadata": {
            "tags": []
          },
          "execution_count": 34
        }
      ]
    },
    {
      "cell_type": "code",
      "metadata": {
        "colab": {
          "base_uri": "https://localhost:8080/",
          "height": 483
        },
        "id": "0XLGqSYViZhu",
        "outputId": "ae4ff4b2-e8fa-4039-86fc-dbe4656fa979"
      },
      "source": [
        "plot_clusters()"
      ],
      "execution_count": null,
      "outputs": [
        {
          "output_type": "display_data",
          "data": {
            "image/png": "[encoded data removed]",
            "text/plain": [
              "<Figure size 576x576 with 1 Axes>"
            ]
          },
          "metadata": {
            "tags": [],
            "needs_background": "light"
          }
        }
      ]
    },
    {
      "cell_type": "markdown",
      "metadata": {
        "id": "zogmxWF4ie58"
      },
      "source": [
        "## k = 4"
      ]
    },
    {
      "cell_type": "code",
      "metadata": {
        "colab": {
          "base_uri": "https://localhost:8080/"
        },
        "id": "Nrydd06Sie58",
        "outputId": "8832940f-d1e1-4877-f393-1477676ecaf7"
      },
      "source": [
        "kmeans = KMeans(n_clusters=4).fit(X)\n",
        "label = kmeans.labels_\n",
        "kmeans.labels_"
      ],
      "execution_count": null,
      "outputs": [
        {
          "output_type": "execute_result",
          "data": {
            "text/plain": [
              "array([1, 1, 1, 1, 1, 1, 1, 1, 1, 3, 3, 3, 3, 2, 2, 2, 2, 2, 2, 0, 0, 0,\n",
              "       0, 0], dtype=int32)"
            ]
          },
          "metadata": {
            "tags": []
          },
          "execution_count": 11
        }
      ]
    },
    {
      "cell_type": "code",
      "metadata": {
        "colab": {
          "base_uri": "https://localhost:8080/",
          "height": 483
        },
        "id": "-8N5Wubeie59",
        "outputId": "9ad76e95-184c-4a7c-b66e-f436b73f7c32"
      },
      "source": [
        "plot_clusters()"
      ],
      "execution_count": null,
      "outputs": [
        {
          "output_type": "display_data",
          "data": {
            "image/png": "[encoded data removed]",
            "text/plain": [
              "<Figure size 576x576 with 1 Axes>"
            ]
          },
          "metadata": {
            "tags": [],
            "needs_background": "light"
          }
        }
      ]
    },
    {
      "cell_type": "markdown",
      "metadata": {
        "id": "6Z1DdVCUimPM"
      },
      "source": [
        "## k = 5"
      ]
    },
    {
      "cell_type": "code",
      "metadata": {
        "colab": {
          "base_uri": "https://localhost:8080/"
        },
        "id": "p9zjmx_eimPM",
        "outputId": "d622165e-e064-4876-9847-94f70ee1bcb0"
      },
      "source": [
        "kmeans = KMeans(n_clusters=5).fit(X)\n",
        "label = kmeans.labels_\n",
        "kmeans.labels_"
      ],
      "execution_count": null,
      "outputs": [
        {
          "output_type": "execute_result",
          "data": {
            "text/plain": [
              "array([3, 3, 3, 3, 4, 4, 1, 4, 4, 1, 1, 1, 1, 0, 0, 0, 0, 0, 0, 2, 2, 2,\n",
              "       2, 2], dtype=int32)"
            ]
          },
          "metadata": {
            "tags": []
          },
          "execution_count": 13
        }
      ]
    },
    {
      "cell_type": "code",
      "metadata": {
        "colab": {
          "base_uri": "https://localhost:8080/",
          "height": 483
        },
        "id": "lYH-MggXjRvZ",
        "outputId": "183d8bc6-a72d-44c7-acbc-2e10fb89ff0e"
      },
      "source": [
        "plot_clusters()"
      ],
      "execution_count": null,
      "outputs": [
        {
          "output_type": "display_data",
          "data": {
            "image/png": "[encoded data removed]",
            "text/plain": [
              "<Figure size 576x576 with 1 Axes>"
            ]
          },
          "metadata": {
            "tags": [],
            "needs_background": "light"
          }
        }
      ]
    },
    {
      "cell_type": "markdown",
      "metadata": {
        "id": "499BlhHBipaJ"
      },
      "source": [
        "## k = 6"
      ]
    },
    {
      "cell_type": "code",
      "metadata": {
        "colab": {
          "base_uri": "https://localhost:8080/"
        },
        "id": "yJ3RfdSyipaJ",
        "outputId": "e8c5d68f-55ea-468e-d0db-195213fb234f"
      },
      "source": [
        "kmeans = KMeans(n_clusters=6).fit(X)\n",
        "label = kmeans.labels_\n",
        "kmeans.labels_"
      ],
      "execution_count": null,
      "outputs": [
        {
          "output_type": "execute_result",
          "data": {
            "text/plain": [
              "array([5, 5, 5, 1, 4, 4, 1, 1, 4, 1, 1, 1, 2, 2, 3, 3, 2, 3, 3, 0, 3, 0,\n",
              "       0, 0], dtype=int32)"
            ]
          },
          "metadata": {
            "tags": []
          },
          "execution_count": 15
        }
      ]
    },
    {
      "cell_type": "code",
      "metadata": {
        "colab": {
          "base_uri": "https://localhost:8080/",
          "height": 483
        },
        "id": "n3rdee6dipaK",
        "outputId": "3e9b9dfc-9235-49a1-e5fe-8f0986ee1580"
      },
      "source": [
        "plot_clusters()"
      ],
      "execution_count": null,
      "outputs": [
        {
          "output_type": "display_data",
          "data": {
            "image/png": "[encoded data removed]",
            "text/plain": [
              "<Figure size 576x576 with 1 Axes>"
            ]
          },
          "metadata": {
            "tags": [],
            "needs_background": "light"
          }
        }
      ]
    },
    {
      "cell_type": "markdown",
      "metadata": {
        "id": "Tb8YyI4ycEbu"
      },
      "source": [
        "# K-ways Normalized Cut"
      ]
    },
    {
      "cell_type": "markdown",
      "metadata": {
        "id": "oB1vUlJCc1f8"
      },
      "source": [
        "## k = 2"
      ]
    },
    {
      "cell_type": "code",
      "metadata": {
        "colab": {
          "base_uri": "https://localhost:8080/"
        },
        "id": "YKX6YjOqcOKE",
        "outputId": "3215306a-94ef-41ec-ac20-7e979a90c67e"
      },
      "source": [
        "from sklearn.cluster import SpectralClustering\n",
        "\n",
        "clustering = SpectralClustering(n_clusters=2, assign_labels=\"discretize\",affinity='nearest_neighbors', n_neighbors=3).fit(X)\n",
        "label = clustering.labels_"
      ],
      "execution_count": null,
      "outputs": [
        {
          "output_type": "stream",
          "text": [
            "/usr/local/lib/python3.6/dist-packages/sklearn/manifold/_spectral_embedding.py:236: UserWarning: Graph is not fully connected, spectral embedding may not work as expected.\n",
            "  warnings.warn(\"Graph is not fully connected, spectral embedding\"\n"
          ],
          "name": "stderr"
        }
      ]
    },
    {
      "cell_type": "code",
      "metadata": {
        "colab": {
          "base_uri": "https://localhost:8080/",
          "height": 483
        },
        "id": "m8MGJrmNpt5i",
        "outputId": "be641a48-21e0-4af5-fa07-79face21af7c"
      },
      "source": [
        "plot_clusters()"
      ],
      "execution_count": null,
      "outputs": [
        {
          "output_type": "display_data",
          "data": {
            "image/png": "[encoded data removed]",
            "text/plain": [
              "<Figure size 576x576 with 1 Axes>"
            ]
          },
          "metadata": {
            "tags": [],
            "needs_background": "light"
          }
        }
      ]
    },
    {
      "cell_type": "markdown",
      "metadata": {
        "id": "HAQN5Dd9p7EC"
      },
      "source": [
        "## k = 3"
      ]
    },
    {
      "cell_type": "code",
      "metadata": {
        "colab": {
          "base_uri": "https://localhost:8080/"
        },
        "id": "4or299gHp7ED",
        "outputId": "44783005-53fb-4abb-cd27-1d9fc7d6a058"
      },
      "source": [
        "from sklearn.cluster import SpectralClustering\n",
        "\n",
        "clustering = SpectralClustering(n_clusters=3, assign_labels=\"discretize\",affinity='nearest_neighbors', n_neighbors=3).fit(X)\n",
        "label = clustering.labels_\n",
        "label"
      ],
      "execution_count": null,
      "outputs": [
        {
          "output_type": "stream",
          "text": [
            "/usr/local/lib/python3.6/dist-packages/sklearn/manifold/_spectral_embedding.py:236: UserWarning: Graph is not fully connected, spectral embedding may not work as expected.\n",
            "  warnings.warn(\"Graph is not fully connected, spectral embedding\"\n"
          ],
          "name": "stderr"
        },
        {
          "output_type": "execute_result",
          "data": {
            "text/plain": [
              "array([1, 1, 1, 0, 0, 0, 0, 0, 0, 0, 0, 0, 0, 2, 2, 2, 2, 2, 2, 2, 2, 2,\n",
              "       2, 2])"
            ]
          },
          "metadata": {
            "tags": []
          },
          "execution_count": 31
        }
      ]
    },
    {
      "cell_type": "code",
      "metadata": {
        "colab": {
          "base_uri": "https://localhost:8080/"
        },
        "id": "A4-fSqEqJON3",
        "outputId": "5fedcaef-94ee-4c0b-ef67-1561e31b4e1b"
      },
      "source": [
        "#compute f_measure\n",
        "from sklearn.metrics import f1_score\n",
        "y_true = [1, 1, 1, 2, 2, 2, 2, 2, 2, 2, 2, 2, 2, 0, 0, 0, 0, 0, 0, 0, 0, 0, 0, 0]\n",
        "\n",
        "print(f1_score(y_true, label, average=None))\n",
        "\n",
        "from sklearn.metrics import classification_report\n",
        "print(classification_report(y_true,label))"
      ],
      "execution_count": null,
      "outputs": [
        {
          "output_type": "stream",
          "text": [
            "[1. 1. 1.]\n",
            "              precision    recall  f1-score   support\n",
            "\n",
            "           0       1.00      1.00      1.00        11\n",
            "           1       1.00      1.00      1.00         3\n",
            "           2       1.00      1.00      1.00        10\n",
            "\n",
            "    accuracy                           1.00        24\n",
            "   macro avg       1.00      1.00      1.00        24\n",
            "weighted avg       1.00      1.00      1.00        24\n",
            "\n"
          ],
          "name": "stdout"
        }
      ]
    },
    {
      "cell_type": "code",
      "metadata": {
        "colab": {
          "base_uri": "https://localhost:8080/"
        },
        "id": "sx0rSvdvCZMc",
        "outputId": "e2b5871a-24d1-48a4-b17e-be4268e3b150"
      },
      "source": [
        "#compute betacv\n",
        "from scipy.spatial import distance_matrix\n",
        "Nin = 103 #3c2+10c2+11c2\n",
        "Win1= distance_matrix(X[0:3], X[0:3])#c1\n",
        "Win1  = np.sum(Win1)\n",
        "Win2= distance_matrix(X[3:13], X[3:13])#c2\n",
        "Win2  = np.sum(Win2)\n",
        "Win3= distance_matrix(X[13:24], X[13:24])#c3\n",
        "Win3  = np.sum(Win3)\n",
        "Win = 0.5*(Win1+Win2+Win3)\n",
        "\n",
        "Nout = 173 #3*10+3*11+10*11\n",
        "Wout1 = distance_matrix(X[0:3], X[3:13])#c1,c2\n",
        "Wout1 = np.sum(Wout1)\n",
        "Wout2 = distance_matrix(X[0:12], X[13:24])#c1,c3\n",
        "Wout2 = np.sum(Wout2)\n",
        "Wout3 = distance_matrix(X[13:24], X[3:13])#c3,c2\n",
        "Wout3 = np.sum(Wout3)\n",
        "Wout = Wout1 + Wout2 + Wout3\n",
        "BetaCV = Win * Nout / (Wout * Nin)\n",
        "BetaCV"
      ],
      "execution_count": null,
      "outputs": [
        {
          "output_type": "execute_result",
          "data": {
            "text/plain": [
              "0.2738421578286656"
            ]
          },
          "metadata": {
            "tags": []
          },
          "execution_count": 29
        }
      ]
    },
    {
      "cell_type": "code",
      "metadata": {
        "colab": {
          "base_uri": "https://localhost:8080/"
        },
        "id": "pxUaRizdFe1W",
        "outputId": "c23cad41-6082-4353-b9ec-2bee027c114a"
      },
      "source": [
        "#compute Ncut\n",
        "NC1 = 1/(1+ Win1 / (Win1+Wout1+Wout2))\n",
        "NC2 = 1/(1+ Win2 / (Win2+Wout1+Wout3))\n",
        "NC3 = 1/(1+ Win3 / (Win3+Wout3+Wout2))\n",
        "NC = NC1 + NC2 + NC3\n",
        "NC"
      ],
      "execution_count": null,
      "outputs": [
        {
          "output_type": "execute_result",
          "data": {
            "text/plain": [
              "2.663556861532425"
            ]
          },
          "metadata": {
            "tags": []
          },
          "execution_count": 32
        }
      ]
    },
    {
      "cell_type": "code",
      "metadata": {
        "colab": {
          "base_uri": "https://localhost:8080/",
          "height": 483
        },
        "id": "6Ad4q4bEp7EE",
        "outputId": "7b2f103e-9781-4038-91c4-f3cedc1b1811"
      },
      "source": [
        "plot_clusters()"
      ],
      "execution_count": null,
      "outputs": [
        {
          "output_type": "display_data",
          "data": {
            "image/png": "[encoded data removed]",
            "text/plain": [
              "<Figure size 576x576 with 1 Axes>"
            ]
          },
          "metadata": {
            "tags": [],
            "needs_background": "light"
          }
        }
      ]
    },
    {
      "cell_type": "markdown",
      "metadata": {
        "id": "xIMo2ytcp7r6"
      },
      "source": [
        "## k = 4"
      ]
    },
    {
      "cell_type": "code",
      "metadata": {
        "colab": {
          "base_uri": "https://localhost:8080/"
        },
        "id": "QccsMNzep7r6",
        "outputId": "7deca67f-7ba2-4013-cbf9-764894d8bd02"
      },
      "source": [
        "from sklearn.cluster import SpectralClustering\n",
        "\n",
        "clustering = SpectralClustering(n_clusters=4, assign_labels=\"discretize\",affinity='nearest_neighbors', n_neighbors=3).fit(X)\n",
        "label = clustering.labels_\n",
        "label"
      ],
      "execution_count": null,
      "outputs": [
        {
          "output_type": "stream",
          "text": [
            "/usr/local/lib/python3.6/dist-packages/sklearn/manifold/_spectral_embedding.py:236: UserWarning: Graph is not fully connected, spectral embedding may not work as expected.\n",
            "  warnings.warn(\"Graph is not fully connected, spectral embedding\"\n"
          ],
          "name": "stderr"
        },
        {
          "output_type": "execute_result",
          "data": {
            "text/plain": [
              "array([1, 1, 1, 3, 3, 3, 3, 3, 3, 3, 3, 3, 2, 2, 2, 2, 2, 2, 0, 0, 0, 0,\n",
              "       0, 0])"
            ]
          },
          "metadata": {
            "tags": []
          },
          "execution_count": 26
        }
      ]
    },
    {
      "cell_type": "code",
      "metadata": {
        "colab": {
          "base_uri": "https://localhost:8080/",
          "height": 483
        },
        "id": "sXA_f7qvp7r9",
        "outputId": "958cc418-6732-4836-b4a5-46a363e20d4d"
      },
      "source": [
        "plot_clusters()"
      ],
      "execution_count": null,
      "outputs": [
        {
          "output_type": "display_data",
          "data": {
            "image/png": "[encoded data removed]",
            "text/plain": [
              "<Figure size 576x576 with 1 Axes>"
            ]
          },
          "metadata": {
            "tags": [],
            "needs_background": "light"
          }
        }
      ]
    },
    {
      "cell_type": "markdown",
      "metadata": {
        "id": "Xgz_sAaWp8NP"
      },
      "source": [
        "## k = 5"
      ]
    },
    {
      "cell_type": "code",
      "metadata": {
        "colab": {
          "base_uri": "https://localhost:8080/"
        },
        "id": "hKn1010gp8NP",
        "outputId": "11a384f6-a26d-45ac-faeb-9452d93c2f52"
      },
      "source": [
        "from sklearn.cluster import SpectralClustering\n",
        "\n",
        "clustering = SpectralClustering(n_clusters=5, assign_labels=\"discretize\",affinity='nearest_neighbors', n_neighbors=3).fit(X)\n",
        "label = clustering.labels_\n",
        "label"
      ],
      "execution_count": null,
      "outputs": [
        {
          "output_type": "stream",
          "text": [
            "/usr/local/lib/python3.6/dist-packages/sklearn/manifold/_spectral_embedding.py:236: UserWarning: Graph is not fully connected, spectral embedding may not work as expected.\n",
            "  warnings.warn(\"Graph is not fully connected, spectral embedding\"\n"
          ],
          "name": "stderr"
        },
        {
          "output_type": "execute_result",
          "data": {
            "text/plain": [
              "array([1, 1, 1, 4, 3, 3, 4, 4, 3, 4, 4, 4, 4, 0, 0, 0, 0, 0, 2, 2, 2, 2,\n",
              "       2, 2])"
            ]
          },
          "metadata": {
            "tags": []
          },
          "execution_count": 28
        }
      ]
    },
    {
      "cell_type": "code",
      "metadata": {
        "colab": {
          "base_uri": "https://localhost:8080/",
          "height": 483
        },
        "id": "dd9BQOu5p8NQ",
        "outputId": "5290dfb2-a86c-484f-a944-47843c229df9"
      },
      "source": [
        "plot_clusters()"
      ],
      "execution_count": null,
      "outputs": [
        {
          "output_type": "display_data",
          "data": {
            "image/png": "[encoded data removed]",
            "text/plain": [
              "<Figure size 576x576 with 1 Axes>"
            ]
          },
          "metadata": {
            "tags": [],
            "needs_background": "light"
          }
        }
      ]
    },
    {
      "cell_type": "markdown",
      "metadata": {
        "id": "cesoTdnGp8l4"
      },
      "source": [
        "## k = 6"
      ]
    },
    {
      "cell_type": "code",
      "metadata": {
        "colab": {
          "base_uri": "https://localhost:8080/"
        },
        "id": "ZXn4OC60p8l4",
        "outputId": "075a7e7c-dbf7-42be-b0ea-c4b813b8a2ba"
      },
      "source": [
        "from sklearn.cluster import SpectralClustering\n",
        "\n",
        "clustering = SpectralClustering(n_clusters=6, assign_labels=\"discretize\",affinity='nearest_neighbors', n_neighbors=3).fit(X)\n",
        "label = clustering.labels_\n",
        "label"
      ],
      "execution_count": null,
      "outputs": [
        {
          "output_type": "stream",
          "text": [
            "/usr/local/lib/python3.6/dist-packages/sklearn/manifold/_spectral_embedding.py:236: UserWarning: Graph is not fully connected, spectral embedding may not work as expected.\n",
            "  warnings.warn(\"Graph is not fully connected, spectral embedding\"\n"
          ],
          "name": "stderr"
        },
        {
          "output_type": "execute_result",
          "data": {
            "text/plain": [
              "array([0, 0, 0, 4, 2, 2, 4, 4, 2, 3, 3, 3, 3, 5, 5, 5, 3, 5, 5, 1, 1, 1,\n",
              "       1, 1])"
            ]
          },
          "metadata": {
            "tags": []
          },
          "execution_count": 30
        }
      ]
    },
    {
      "cell_type": "code",
      "metadata": {
        "colab": {
          "base_uri": "https://localhost:8080/",
          "height": 483
        },
        "id": "dCD-5jnBp8l5",
        "outputId": "48301b40-8aaa-4131-c26a-31863e5d4a2f"
      },
      "source": [
        "plot_clusters()"
      ],
      "execution_count": null,
      "outputs": [
        {
          "output_type": "display_data",
          "data": {
            "image/png": "[encoded data removed]",
            "text/plain": [
              "<Figure size 576x576 with 1 Axes>"
            ]
          },
          "metadata": {
            "tags": [],
            "needs_background": "light"
          }
        }
      ]
    }
  ]
}