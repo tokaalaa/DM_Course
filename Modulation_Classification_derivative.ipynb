{
  "nbformat": 4,
  "nbformat_minor": 0,
  "metadata": {
    "colab": {
      "name": "Modulation Classification_derivative.ipynb",
      "provenance": [],
      "collapsed_sections": [],
      "toc_visible": true,
      "include_colab_link": true
    },
    "kernelspec": {
      "display_name": "Python 3",
      "name": "python3"
    },
    "accelerator": "GPU"
  },
  "cells": [
    {
      "cell_type": "markdown",
      "metadata": {
        "id": "view-in-github",
        "colab_type": "text"
      },
      "source": [
        "<a href=\"https://colab.research.google.com/github/tokaalaa/DM_Course/blob/main/Modulation_Classification_derivative.ipynb\" target=\"_parent\"><img src=\"https://colab.research.google.com/assets/colab-badge.svg\" alt=\"Open In Colab\"/></a>"
      ]
    },
    {
      "cell_type": "markdown",
      "metadata": {
        "id": "pX-_GD6Cp_vb"
      },
      "source": [
        "#imports"
      ]
    },
    {
      "cell_type": "code",
      "metadata": {
        "id": "OUzQhbm0qKXm",
        "colab": {
          "base_uri": "https://localhost:8080/"
        },
        "outputId": "eb4b0ca4-76fe-4510-9c06-f1732b625b3c"
      },
      "source": [
        "import numpy as np\r\n",
        "%matplotlib inline\r\n",
        "import os,random\r\n",
        "import keras.models as models\r\n",
        "import matplotlib.pyplot as plt\r\n",
        "import _pickle as cPickle\r\n",
        "from sklearn.preprocessing import normalize \r\n",
        "from sklearn.preprocessing import LabelBinarizer as LB\r\n",
        "from sklearn.metrics import confusion_matrix\r\n",
        "from sklearn.metrics import accuracy_score\r\n",
        "from tensorflow.keras.layers import Dense,Activation,Flatten,Conv2D,Reshape,Dropout,MaxPooling2D,BatchNormalization,GlobalAveragePooling2D\r\n",
        "from tensorflow.keras import regularizers\r\n",
        "from keras.callbacks import EarlyStopping\r\n",
        "from keras.models import Sequential\r\n",
        "from keras.models import load_model\r\n",
        "from keras import metrics\r\n",
        "from pandas import DataFrame as df\r\n",
        "import tensorflow as tf\r\n",
        "from tensorflow.keras.callbacks import ModelCheckpoint\r\n",
        "from sklearn.tree import DecisionTreeClassifier\r\n",
        "from sklearn.metrics import classification_report\r\n",
        "from sklearn.ensemble import RandomForestClassifier\r\n",
        "\r\n",
        "from google.colab import drive\r\n",
        "drive.mount(\"/content/drive\", force_remount=True)"
      ],
      "execution_count": null,
      "outputs": [
        {
          "output_type": "stream",
          "text": [
            "Mounted at /content/drive\n"
          ],
          "name": "stdout"
        }
      ]
    },
    {
      "cell_type": "markdown",
      "metadata": {
        "id": "GlMzKKovqDIo"
      },
      "source": [
        "#Get Data"
      ]
    },
    {
      "cell_type": "code",
      "metadata": {
        "id": "Kpa7a_Zhp_JM"
      },
      "source": [
        "!wget http://opendata.deepsig.io/datasets/2016.10/RML2016.10b.tar.bz2\r\n",
        "!mv 'RML2016.10b.tar.bz2' '../content/drive/MyDrive/DM_4/Data/'\r\n",
        "!bunzip2 '../content/drive/MyDrive/DM_4/Data/RML2016.10b.tar.bz2' "
      ],
      "execution_count": null,
      "outputs": []
    },
    {
      "cell_type": "markdown",
      "metadata": {
        "id": "NOIu3_kwmRE8"
      },
      "source": [
        "#load data"
      ]
    },
    {
      "cell_type": "code",
      "metadata": {
        "id": "J892dpY6y3YU"
      },
      "source": [
        "!tar -xf '../content/drive/MyDrive/DM_4/Data/RML2016.10b.tar'\r\n",
        "!mv 'RML2016.10b.dat' '../content/drive/MyDrive/DM_4/Data/'\r\n",
        "!mv 'LICENSE.TXT' '../content/drive/MyDrive/DM_4/Data/'"
      ],
      "execution_count": null,
      "outputs": []
    },
    {
      "cell_type": "code",
      "metadata": {
        "id": "3D8XwhYQzyE5"
      },
      "source": [
        "# Load the dataset\r\n",
        "file = open(\"../content/drive/MyDrive/DM_4/Data/RML2016.10b.dat\",'rb')\r\n",
        "Xd = cPickle.load(file, encoding = 'latin1')\r\n",
        "snrs,mods = map(lambda j: sorted(list(set(map(lambda x: x[j], Xd.keys())))), [1,0])\r\n",
        "X = []\r\n",
        "lbl = []\r\n",
        "for mod in mods:\r\n",
        "    for snr in snrs:\r\n",
        "        X.append(Xd[(mod,snr)])\r\n",
        "        for i in range(Xd[(mod,snr)].shape[0]):  lbl.append((mod,snr))\r\n",
        "X = np.vstack(X)\r\n",
        "file.close()\r\n"
      ],
      "execution_count": null,
      "outputs": []
    },
    {
      "cell_type": "code",
      "metadata": {
        "colab": {
          "base_uri": "https://localhost:8080/"
        },
        "id": "GqbXSrbEGsM_",
        "outputId": "e15a92e7-f664-4d2c-c09a-a08c694f8ea2"
      },
      "source": [
        "print(X.shape)\r\n",
        "X.shape[1:]"
      ],
      "execution_count": null,
      "outputs": [
        {
          "output_type": "stream",
          "text": [
            "(1200000, 2, 128)\n"
          ],
          "name": "stdout"
        },
        {
          "output_type": "execute_result",
          "data": {
            "text/plain": [
              "(2, 128)"
            ]
          },
          "metadata": {
            "tags": []
          },
          "execution_count": 3
        }
      ]
    },
    {
      "cell_type": "code",
      "metadata": {
        "id": "zy4TyvpQos6l",
        "colab": {
          "base_uri": "https://localhost:8080/"
        },
        "outputId": "263cb695-42b9-4530-c783-481e80408965"
      },
      "source": [
        "#input shape is (2, 128)\r\n",
        "in_shp = list(X.shape[1:])\r\n",
        "\r\n",
        "# num exist classes\r\n",
        "classes = mods\r\n",
        "print(mods, len(mods))\r\n",
        "\r\n",
        "#first feature\r\n",
        "print( X[:,0].shape)\r\n",
        "#second feature\r\n",
        "print( X[:,1].shape)"
      ],
      "execution_count": null,
      "outputs": [
        {
          "output_type": "stream",
          "text": [
            "['8PSK', 'AM-DSB', 'BPSK', 'CPFSK', 'GFSK', 'PAM4', 'QAM16', 'QAM64', 'QPSK', 'WBFM'] 10\n",
            "(1200000, 128)\n",
            "(1200000, 128)\n"
          ],
          "name": "stdout"
        }
      ]
    },
    {
      "cell_type": "markdown",
      "metadata": {
        "id": "va_RbFs-qTK3"
      },
      "source": [
        "#Create Features Space"
      ]
    },
    {
      "cell_type": "code",
      "metadata": {
        "id": "iYSatEOYqW5G"
      },
      "source": [
        "features = {}\r\n",
        "\r\n",
        "#Raw Time Feature\r\n",
        "features['raw'] = X[:,0], X[:,1]\r\n",
        "\r\n",
        "#First derivative in time\r\n",
        "features['derivative'] = normalize(np.gradient(X[:,0], axis = 1)), normalize(np.gradient(X[:,1], axis = 1))\r\n",
        "\r\n",
        "#Integral in time\r\n",
        "features['integral']   = normalize(np.cumsum(X[:,0], axis = 1)), normalize(np.cumsum(X[:,1], axis = 1))\r\n",
        "\r\n",
        "#combinations of 1,2 and 3\r\n",
        "def extract_features(*arguments):\r\n",
        "    desired = ()            \r\n",
        "    for arg in arguments:\r\n",
        "        desired += features[arg]\r\n",
        "    return np.stack(desired, axis = 1)"
      ],
      "execution_count": null,
      "outputs": []
    },
    {
      "cell_type": "markdown",
      "metadata": {
        "id": "nHr-8YZ1rq0A"
      },
      "source": [
        "#Split data into training/validation and testing\r\n",
        "    ○ Split the data into 70% for training/validation and 30% for testing.\r\n",
        "    ○ Use 5% of the training and validation dataset for validation.\r\n"
      ]
    },
    {
      "cell_type": "code",
      "metadata": {
        "colab": {
          "base_uri": "https://localhost:8080/"
        },
        "id": "V0P1mdNSr4Fc",
        "outputId": "1905c510-4d2d-40ca-bebf-bd85618132e4"
      },
      "source": [
        "#choose features\r\n",
        "#data = extract_features('raw','integral')\r\n",
        "data = extract_features('derivative')\r\n",
        "labels = np.array(lbl)\r\n",
        "print(\"data shape \", data.shape)\r\n",
        "print(\"labels shape \", labels.shape)\r\n",
        "print(\"data \", data)\r\n",
        "print(\"labels \", labels)\r\n",
        "\r\n",
        "#data shuffling & splitting\r\n",
        "np.random.seed(10)\r\n",
        "n_examples = labels.shape[0]\r\n",
        "r = np.random.choice(range(n_examples), n_examples, replace = False)\r\n",
        "\r\n",
        "num_training = n_examples*0.7\r\n",
        "train_examples = r[:int(num_training)]\r\n",
        "test_examples =  r[int(num_training):]\r\n",
        "print(\"train_examples \", len(train_examples))\r\n",
        "print(\"test_examples \", len(test_examples))\r\n",
        "\r\n",
        "X_train = data[train_examples]\r\n",
        "X_test = data[test_examples]\r\n",
        "\r\n",
        "#labal as 1 at the spacific class which get from first column of label\r\n",
        "y_train = LB().fit_transform(labels[train_examples][:,0])\r\n",
        "y_test = LB().fit_transform(labels[test_examples][:,0])\r\n",
        "\r\n",
        "#labal as SNR which get from second column of label\r\n",
        "snr_train = labels[train_examples][:,1].astype(int)\r\n",
        "snr_test = labels[test_examples][:,1].astype(int)\r\n",
        "\r\n",
        "print(y_train.shape)\r\n",
        "print(snr_train.shape)\r\n"
      ],
      "execution_count": null,
      "outputs": [
        {
          "output_type": "stream",
          "text": [
            "data shape  (1200000, 2, 128)\n",
            "labels shape  (1200000, 2)\n",
            "data  [[[-0.06029993 -0.12386337 -0.01638079 ... -0.0186449   0.06209905\n",
            "    0.09457203]\n",
            "  [ 0.16911437  0.06956524 -0.03776356 ... -0.23020586 -0.01270726\n",
            "   -0.0005663 ]]\n",
            "\n",
            " [[-0.13455155 -0.02764083  0.00650999 ... -0.0411226   0.04050773\n",
            "   -0.05447972]\n",
            "  [-0.34514645 -0.07355688  0.1361285  ... -0.02114303  0.03702613\n",
            "    0.12621552]]\n",
            "\n",
            " [[-0.18550996 -0.00250622 -0.02935102 ...  0.06251812  0.2549248\n",
            "    0.3008204 ]\n",
            "  [-0.0445585   0.00260127  0.01163624 ... -0.06970791  0.01158406\n",
            "    0.06449288]]\n",
            "\n",
            " ...\n",
            "\n",
            " [[-0.16397211 -0.15072271  0.05715781 ...  0.08676518 -0.01242725\n",
            "    0.01578163]\n",
            "  [-0.04016563 -0.06004853  0.07957528 ... -0.00850576  0.09017439\n",
            "    0.11593006]]\n",
            "\n",
            " [[-0.11283428  0.02968843  0.05834858 ...  0.00151971 -0.01446231\n",
            "   -0.05903269]\n",
            "  [ 0.01565286 -0.03616421 -0.0380171  ...  0.02515107 -0.08338179\n",
            "   -0.02031115]]\n",
            "\n",
            " [[-0.00847177  0.05038936  0.05964413 ...  0.05492792 -0.01224817\n",
            "   -0.05917422]\n",
            "  [-0.1121925  -0.01707977 -0.00930058 ...  0.06785503  0.16962604\n",
            "    0.03860729]]]\n",
            "labels  [['8PSK' '-20']\n",
            " ['8PSK' '-20']\n",
            " ['8PSK' '-20']\n",
            " ...\n",
            " ['WBFM' '18']\n",
            " ['WBFM' '18']\n",
            " ['WBFM' '18']]\n",
            "train_examples  840000\n",
            "test_examples  360000\n"
          ],
          "name": "stdout"
        }
      ]
    },
    {
      "cell_type": "markdown",
      "metadata": {
        "id": "qhFzWjTVtdm6"
      },
      "source": [
        "#Model fully connected dense layer"
      ]
    },
    {
      "cell_type": "code",
      "metadata": {
        "id": "T8UaC0dnSuTO"
      },
      "source": [
        "def full_connected_model(in_shape):\r\n",
        "  # Declare layers size\r\n",
        "  hidden1_size = 512\r\n",
        "  hidden2_size = 256\r\n",
        "  hidden3_size = 10\r\n",
        "\r\n",
        "  # Build model\r\n",
        "  model = Sequential()\r\n",
        "  model.add(Dense(hidden1_size, input_shape = in_shape, activation ='relu'))\r\n",
        "  model.add(Dense(hidden2_size, activation ='relu'))\r\n",
        "  model.add(Flatten())\r\n",
        "  model.add(Dense(hidden3_size, activation ='softmax'))\r\n",
        "\r\n",
        "  # Compile model\r\n",
        "  model.compile(optimizer = 'adam', loss = 'categorical_crossentropy',  metrics = ['accuracy'])\r\n",
        "  model.summary()\r\n",
        "  return model"
      ],
      "execution_count": null,
      "outputs": []
    },
    {
      "cell_type": "code",
      "metadata": {
        "colab": {
          "base_uri": "https://localhost:8080/",
          "height": 1000
        },
        "id": "8CkhhPe0WhwI",
        "outputId": "847e1478-ec51-4fb7-dcd2-27ea9df5d524"
      },
      "source": [
        "def train_full_connected_model(X_train, y_train, input_shape, filename, epochs):\r\n",
        "  model = full_connected_model(input_shape)\r\n",
        "  es = EarlyStopping(monitor='val_loss', mode='min', verbose=1, patience=5)\r\n",
        "  mc = ModelCheckpoint(filename, monitor='val_accuracy', mode='max', verbose=1, save_best_only=True)\r\n",
        "  train_history = model.fit(X_train, y_train, epochs=epochs, validation_split = 0.05, batch_size = 2048, callbacks=[es,mc])\r\n",
        "\r\n",
        "  # Show loss curves\r\n",
        "  # this is both on training and validation data, hence two curves. They track well.\r\n",
        "  plt.figure()\r\n",
        "  plt.title('Training performance1')\r\n",
        "  plt.plot(train_history.epoch, train_history.history['loss'], label='train_loss')\r\n",
        "  plt.plot(train_history.epoch, train_history.history['val_loss'], label='val_loss')\r\n",
        "  plt.legend()\r\n",
        "\r\n",
        "  plt.figure()\r\n",
        "  plt.title('Training performance2')\r\n",
        "  plt.plot(train_history.epoch, train_history.history['accuracy'], label='train_accuracy')\r\n",
        "  plt.plot(train_history.epoch, train_history.history['val_accuracy'], label='val_accuracy')\r\n",
        "  plt.legend()\r\n",
        "\r\n",
        "train_full_connected_model(X_train, y_train, (2,128), '../content/drive/MyDrive/DM_4/fully_connected_derivative.h5', 100)\r\n"
      ],
      "execution_count": null,
      "outputs": [
        {
          "output_type": "stream",
          "text": [
            "Model: \"sequential\"\n",
            "_________________________________________________________________\n",
            "Layer (type)                 Output Shape              Param #   \n",
            "=================================================================\n",
            "dense (Dense)                (None, 2, 512)            66048     \n",
            "_________________________________________________________________\n",
            "dense_1 (Dense)              (None, 2, 256)            131328    \n",
            "_________________________________________________________________\n",
            "flatten (Flatten)            (None, 512)               0         \n",
            "_________________________________________________________________\n",
            "dense_2 (Dense)              (None, 10)                5130      \n",
            "=================================================================\n",
            "Total params: 202,506\n",
            "Trainable params: 202,506\n",
            "Non-trainable params: 0\n",
            "_________________________________________________________________\n",
            "Epoch 1/100\n",
            "390/390 [==============================] - 5s 6ms/step - loss: 2.0686 - accuracy: 0.2208 - val_loss: 1.8773 - val_accuracy: 0.2925\n",
            "\n",
            "Epoch 00001: val_accuracy improved from -inf to 0.29255, saving model to ../content/drive/MyDrive/DM_4/fully_connected_derivative.h5\n",
            "Epoch 2/100\n",
            "390/390 [==============================] - 2s 6ms/step - loss: 1.8447 - accuracy: 0.3032 - val_loss: 1.8024 - val_accuracy: 0.3083\n",
            "\n",
            "Epoch 00002: val_accuracy improved from 0.29255 to 0.30829, saving model to ../content/drive/MyDrive/DM_4/fully_connected_derivative.h5\n",
            "Epoch 3/100\n",
            "390/390 [==============================] - 2s 5ms/step - loss: 1.7847 - accuracy: 0.3181 - val_loss: 1.7793 - val_accuracy: 0.3203\n",
            "\n",
            "Epoch 00003: val_accuracy improved from 0.30829 to 0.32026, saving model to ../content/drive/MyDrive/DM_4/fully_connected_derivative.h5\n",
            "Epoch 4/100\n",
            "390/390 [==============================] - 2s 6ms/step - loss: 1.7615 - accuracy: 0.3266 - val_loss: 1.7723 - val_accuracy: 0.3230\n",
            "\n",
            "Epoch 00004: val_accuracy improved from 0.32026 to 0.32298, saving model to ../content/drive/MyDrive/DM_4/fully_connected_derivative.h5\n",
            "Epoch 5/100\n",
            "390/390 [==============================] - 2s 5ms/step - loss: 1.7481 - accuracy: 0.3319 - val_loss: 1.7663 - val_accuracy: 0.3187\n",
            "\n",
            "Epoch 00005: val_accuracy did not improve from 0.32298\n",
            "Epoch 6/100\n",
            "390/390 [==============================] - 2s 6ms/step - loss: 1.7383 - accuracy: 0.3356 - val_loss: 1.7599 - val_accuracy: 0.3263\n",
            "\n",
            "Epoch 00006: val_accuracy improved from 0.32298 to 0.32626, saving model to ../content/drive/MyDrive/DM_4/fully_connected_derivative.h5\n",
            "Epoch 7/100\n",
            "390/390 [==============================] - 2s 5ms/step - loss: 1.7265 - accuracy: 0.3410 - val_loss: 1.7533 - val_accuracy: 0.3296\n",
            "\n",
            "Epoch 00007: val_accuracy improved from 0.32626 to 0.32960, saving model to ../content/drive/MyDrive/DM_4/fully_connected_derivative.h5\n",
            "Epoch 8/100\n",
            "390/390 [==============================] - 2s 6ms/step - loss: 1.7186 - accuracy: 0.3449 - val_loss: 1.7495 - val_accuracy: 0.3324\n",
            "\n",
            "Epoch 00008: val_accuracy improved from 0.32960 to 0.33240, saving model to ../content/drive/MyDrive/DM_4/fully_connected_derivative.h5\n",
            "Epoch 9/100\n",
            "390/390 [==============================] - 2s 5ms/step - loss: 1.7087 - accuracy: 0.3504 - val_loss: 1.7496 - val_accuracy: 0.3238\n",
            "\n",
            "Epoch 00009: val_accuracy did not improve from 0.33240\n",
            "Epoch 10/100\n",
            "390/390 [==============================] - 2s 5ms/step - loss: 1.6996 - accuracy: 0.3535 - val_loss: 1.7451 - val_accuracy: 0.3348\n",
            "\n",
            "Epoch 00010: val_accuracy improved from 0.33240 to 0.33483, saving model to ../content/drive/MyDrive/DM_4/fully_connected_derivative.h5\n",
            "Epoch 11/100\n",
            "390/390 [==============================] - 2s 5ms/step - loss: 1.6889 - accuracy: 0.3584 - val_loss: 1.7344 - val_accuracy: 0.3400\n",
            "\n",
            "Epoch 00011: val_accuracy improved from 0.33483 to 0.34002, saving model to ../content/drive/MyDrive/DM_4/fully_connected_derivative.h5\n",
            "Epoch 12/100\n",
            "390/390 [==============================] - 2s 6ms/step - loss: 1.6722 - accuracy: 0.3662 - val_loss: 1.7253 - val_accuracy: 0.3445\n",
            "\n",
            "Epoch 00012: val_accuracy improved from 0.34002 to 0.34448, saving model to ../content/drive/MyDrive/DM_4/fully_connected_derivative.h5\n",
            "Epoch 13/100\n",
            "390/390 [==============================] - 2s 5ms/step - loss: 1.6582 - accuracy: 0.3716 - val_loss: 1.7096 - val_accuracy: 0.3502\n",
            "\n",
            "Epoch 00013: val_accuracy improved from 0.34448 to 0.35019, saving model to ../content/drive/MyDrive/DM_4/fully_connected_derivative.h5\n",
            "Epoch 14/100\n",
            "390/390 [==============================] - 2s 5ms/step - loss: 1.6382 - accuracy: 0.3798 - val_loss: 1.6978 - val_accuracy: 0.3493\n",
            "\n",
            "Epoch 00014: val_accuracy did not improve from 0.35019\n",
            "Epoch 15/100\n",
            "390/390 [==============================] - 2s 5ms/step - loss: 1.6188 - accuracy: 0.3892 - val_loss: 1.6861 - val_accuracy: 0.3584\n",
            "\n",
            "Epoch 00015: val_accuracy improved from 0.35019 to 0.35836, saving model to ../content/drive/MyDrive/DM_4/fully_connected_derivative.h5\n",
            "Epoch 16/100\n",
            "390/390 [==============================] - 2s 5ms/step - loss: 1.6005 - accuracy: 0.3970 - val_loss: 1.6775 - val_accuracy: 0.3641\n",
            "\n",
            "Epoch 00016: val_accuracy improved from 0.35836 to 0.36412, saving model to ../content/drive/MyDrive/DM_4/fully_connected_derivative.h5\n",
            "Epoch 17/100\n",
            "390/390 [==============================] - 2s 6ms/step - loss: 1.5889 - accuracy: 0.4010 - val_loss: 1.6700 - val_accuracy: 0.3641\n",
            "\n",
            "Epoch 00017: val_accuracy did not improve from 0.36412\n",
            "Epoch 18/100\n",
            "390/390 [==============================] - 2s 6ms/step - loss: 1.5745 - accuracy: 0.4071 - val_loss: 1.6615 - val_accuracy: 0.3688\n",
            "\n",
            "Epoch 00018: val_accuracy improved from 0.36412 to 0.36883, saving model to ../content/drive/MyDrive/DM_4/fully_connected_derivative.h5\n",
            "Epoch 19/100\n",
            "390/390 [==============================] - 2s 6ms/step - loss: 1.5646 - accuracy: 0.4122 - val_loss: 1.6588 - val_accuracy: 0.3699\n",
            "\n",
            "Epoch 00019: val_accuracy improved from 0.36883 to 0.36990, saving model to ../content/drive/MyDrive/DM_4/fully_connected_derivative.h5\n",
            "Epoch 20/100\n",
            "390/390 [==============================] - 2s 5ms/step - loss: 1.5557 - accuracy: 0.4159 - val_loss: 1.6557 - val_accuracy: 0.3716\n",
            "\n",
            "Epoch 00020: val_accuracy improved from 0.36990 to 0.37157, saving model to ../content/drive/MyDrive/DM_4/fully_connected_derivative.h5\n",
            "Epoch 21/100\n",
            "390/390 [==============================] - 2s 6ms/step - loss: 1.5462 - accuracy: 0.4197 - val_loss: 1.6538 - val_accuracy: 0.3702\n",
            "\n",
            "Epoch 00021: val_accuracy did not improve from 0.37157\n",
            "Epoch 22/100\n",
            "390/390 [==============================] - 2s 5ms/step - loss: 1.5383 - accuracy: 0.4230 - val_loss: 1.6540 - val_accuracy: 0.3730\n",
            "\n",
            "Epoch 00022: val_accuracy improved from 0.37157 to 0.37295, saving model to ../content/drive/MyDrive/DM_4/fully_connected_derivative.h5\n",
            "Epoch 23/100\n",
            "390/390 [==============================] - 2s 5ms/step - loss: 1.5345 - accuracy: 0.4244 - val_loss: 1.6468 - val_accuracy: 0.3754\n",
            "\n",
            "Epoch 00023: val_accuracy improved from 0.37295 to 0.37536, saving model to ../content/drive/MyDrive/DM_4/fully_connected_derivative.h5\n",
            "Epoch 24/100\n",
            "390/390 [==============================] - 2s 5ms/step - loss: 1.5230 - accuracy: 0.4299 - val_loss: 1.6465 - val_accuracy: 0.3768\n",
            "\n",
            "Epoch 00024: val_accuracy improved from 0.37536 to 0.37676, saving model to ../content/drive/MyDrive/DM_4/fully_connected_derivative.h5\n",
            "Epoch 25/100\n",
            "390/390 [==============================] - 2s 5ms/step - loss: 1.5181 - accuracy: 0.4312 - val_loss: 1.6462 - val_accuracy: 0.3765\n",
            "\n",
            "Epoch 00025: val_accuracy did not improve from 0.37676\n",
            "Epoch 26/100\n",
            "390/390 [==============================] - 2s 5ms/step - loss: 1.5132 - accuracy: 0.4338 - val_loss: 1.6422 - val_accuracy: 0.3781\n",
            "\n",
            "Epoch 00026: val_accuracy improved from 0.37676 to 0.37807, saving model to ../content/drive/MyDrive/DM_4/fully_connected_derivative.h5\n",
            "Epoch 27/100\n",
            "390/390 [==============================] - 2s 6ms/step - loss: 1.5061 - accuracy: 0.4374 - val_loss: 1.6468 - val_accuracy: 0.3758\n",
            "\n",
            "Epoch 00027: val_accuracy did not improve from 0.37807\n",
            "Epoch 28/100\n",
            "390/390 [==============================] - 2s 5ms/step - loss: 1.5002 - accuracy: 0.4400 - val_loss: 1.6456 - val_accuracy: 0.3728\n",
            "\n",
            "Epoch 00028: val_accuracy did not improve from 0.37807\n",
            "Epoch 29/100\n",
            "390/390 [==============================] - 2s 6ms/step - loss: 1.4935 - accuracy: 0.4426 - val_loss: 1.6408 - val_accuracy: 0.3819\n",
            "\n",
            "Epoch 00029: val_accuracy improved from 0.37807 to 0.38190, saving model to ../content/drive/MyDrive/DM_4/fully_connected_derivative.h5\n",
            "Epoch 30/100\n",
            "390/390 [==============================] - 2s 5ms/step - loss: 1.4905 - accuracy: 0.4436 - val_loss: 1.6485 - val_accuracy: 0.3761\n",
            "\n",
            "Epoch 00030: val_accuracy did not improve from 0.38190\n",
            "Epoch 31/100\n",
            "390/390 [==============================] - 2s 6ms/step - loss: 1.4862 - accuracy: 0.4455 - val_loss: 1.6437 - val_accuracy: 0.3818\n",
            "\n",
            "Epoch 00031: val_accuracy did not improve from 0.38190\n",
            "Epoch 32/100\n",
            "390/390 [==============================] - 2s 5ms/step - loss: 1.4799 - accuracy: 0.4485 - val_loss: 1.6438 - val_accuracy: 0.3836\n",
            "\n",
            "Epoch 00032: val_accuracy improved from 0.38190 to 0.38357, saving model to ../content/drive/MyDrive/DM_4/fully_connected_derivative.h5\n",
            "Epoch 33/100\n",
            "390/390 [==============================] - 2s 6ms/step - loss: 1.4769 - accuracy: 0.4490 - val_loss: 1.6459 - val_accuracy: 0.3785\n",
            "\n",
            "Epoch 00033: val_accuracy did not improve from 0.38357\n",
            "Epoch 34/100\n",
            "390/390 [==============================] - 2s 5ms/step - loss: 1.4712 - accuracy: 0.4520 - val_loss: 1.6510 - val_accuracy: 0.3776\n",
            "\n",
            "Epoch 00034: val_accuracy did not improve from 0.38357\n",
            "Epoch 00034: early stopping\n"
          ],
          "name": "stdout"
        },
        {
          "output_type": "display_data",
          "data": {
            "image/png": "[encoded data removed]",
            "text/plain": [
              "<Figure size 432x288 with 1 Axes>"
            ]
          },
          "metadata": {
            "tags": [],
            "needs_background": "light"
          }
        },
        {
          "output_type": "display_data",
          "data": {
            "image/png": "[encoded data removed]",
            "text/plain": [
              "<Figure size 432x288 with 1 Axes>"
            ]
          },
          "metadata": {
            "tags": [],
            "needs_background": "light"
          }
        }
      ]
    },
    {
      "cell_type": "markdown",
      "metadata": {
        "id": "BaLjmqTBdzfm"
      },
      "source": [
        "#Test of fully connected"
      ]
    },
    {
      "cell_type": "code",
      "metadata": {
        "colab": {
          "base_uri": "https://localhost:8080/"
        },
        "id": "YDHWI9K5-2qY",
        "outputId": "6d821056-24e7-4709-c75e-9e46fb81befd"
      },
      "source": [
        "def test_full_connected_model(X_test, y_test, input_shape, filename, epochs):\r\n",
        "  model = full_connected_model(input_shape)\r\n",
        "  es = EarlyStopping(monitor='val_loss', mode='min', verbose=1, patience=5)\r\n",
        "  mc = ModelCheckpoint(filename, monitor='val_accuracy', mode='max', verbose=1, save_best_only=True)\r\n",
        "  model.load_weights(filename)\r\n",
        "  score = model.evaluate(X_test, y_test, verbose=0, batch_size=2048)\r\n",
        "  print(score)\r\n",
        "\r\n",
        "test_full_connected_model(X_test, y_test, (2,128), '../content/drive/MyDrive/DM_4/fully_connected_derivative.h5', 100)\r\n"
      ],
      "execution_count": null,
      "outputs": [
        {
          "output_type": "stream",
          "text": [
            "Model: \"sequential_1\"\n",
            "_________________________________________________________________\n",
            "Layer (type)                 Output Shape              Param #   \n",
            "=================================================================\n",
            "dense_3 (Dense)              (None, 2, 512)            66048     \n",
            "_________________________________________________________________\n",
            "dense_4 (Dense)              (None, 2, 256)            131328    \n",
            "_________________________________________________________________\n",
            "flatten_1 (Flatten)          (None, 512)               0         \n",
            "_________________________________________________________________\n",
            "dense_5 (Dense)              (None, 10)                5130      \n",
            "=================================================================\n",
            "Total params: 202,506\n",
            "Trainable params: 202,506\n",
            "Non-trainable params: 0\n",
            "_________________________________________________________________\n",
            "[1.6407184600830078, 0.3845277726650238]\n"
          ],
          "name": "stdout"
        }
      ]
    },
    {
      "cell_type": "markdown",
      "metadata": {
        "id": "TKojUejBoWE5"
      },
      "source": [
        "#Plots of the accuracy against the SNR "
      ]
    },
    {
      "cell_type": "code",
      "metadata": {
        "colab": {
          "base_uri": "https://localhost:8080/",
          "height": 573
        },
        "id": "GK9eUgaAoWzJ",
        "outputId": "f53cf939-b4b1-44a6-8b6b-7ca957430faa"
      },
      "source": [
        "def plot_results(predicted_labels, true_labels, snrs):\r\n",
        "  sorted_snrs = np.sort(np.unique(snrs))\r\n",
        "  \r\n",
        "  x_axis = []\r\n",
        "  y_axis = []\r\n",
        "  for snr in sorted_snrs:\r\n",
        "    idx = np.where(snrs == snr)\r\n",
        "    x_axis.append(snr)\r\n",
        "    y_axis.append(accuracy_score(np.argmax(true_labels[idx], axis = 1), np.argmax(predicted_labels[idx], axis = 1)))\r\n",
        "  \r\n",
        "  plt.xlabel('SNR')\r\n",
        "  plt.ylabel('Accuracy')\r\n",
        "  plt.title('Classification Accuracy over different SNRs')\r\n",
        "  plt.plot(x_axis, np.array(y_axis) * 100, 'ro--')\r\n",
        "  plt.grid(True)\r\n",
        "batch_size = 1024\r\n",
        "model = full_connected_model((2,128))\r\n",
        "es = EarlyStopping(monitor='val_loss', mode='min', verbose=1, patience=5)\r\n",
        "mc = ModelCheckpoint('../content/drive/MyDrive/DM_4/fully_connected_derivative.h5', monitor='val_accuracy', mode='max', verbose=1, save_best_only=True)\r\n",
        "model.load_weights('../content/drive/MyDrive/DM_4/fully_connected_derivative.h5')\r\n",
        "y_pred_FC = model.predict(X_test, batch_size=batch_size)\r\n",
        "\r\n",
        "plot_results(y_pred_FC, y_test, snr_test)"
      ],
      "execution_count": null,
      "outputs": [
        {
          "output_type": "stream",
          "text": [
            "Model: \"sequential\"\n",
            "_________________________________________________________________\n",
            "Layer (type)                 Output Shape              Param #   \n",
            "=================================================================\n",
            "dense (Dense)                (None, 2, 512)            66048     \n",
            "_________________________________________________________________\n",
            "dense_1 (Dense)              (None, 2, 256)            131328    \n",
            "_________________________________________________________________\n",
            "flatten (Flatten)            (None, 512)               0         \n",
            "_________________________________________________________________\n",
            "dense_2 (Dense)              (None, 10)                5130      \n",
            "=================================================================\n",
            "Total params: 202,506\n",
            "Trainable params: 202,506\n",
            "Non-trainable params: 0\n",
            "_________________________________________________________________\n"
          ],
          "name": "stdout"
        },
        {
          "output_type": "display_data",
          "data": {
            "image/png": "[encoded data removed]",
            "text/plain": [
              "<Figure size 432x288 with 1 Axes>"
            ]
          },
          "metadata": {
            "tags": [],
            "needs_background": "light"
          }
        }
      ]
    },
    {
      "cell_type": "markdown",
      "metadata": {
        "id": "LrWwYshdoX9C"
      },
      "source": [
        "#Report the average overall accuracy as well as the results at SNR=0dB"
      ]
    },
    {
      "cell_type": "code",
      "metadata": {
        "colab": {
          "base_uri": "https://localhost:8080/",
          "height": 359
        },
        "id": "0RvW5auHopm3",
        "outputId": "5d6c6e60-3b5f-4faa-cad5-a485102f8c42"
      },
      "source": [
        "def print_results(predicted_labels, true_labels, snrs):\r\n",
        "  sorted_snrs = np.sort(np.unique(snrs))\r\n",
        "  x_axis = []\r\n",
        "  y_axis = []\r\n",
        "  for snr in sorted_snrs:\r\n",
        "    idx = np.where(snrs == snr)\r\n",
        "    x_axis.append(snr)\r\n",
        "    y_axis.append(accuracy_score(np.argmax(true_labels[idx], axis = 1), np.argmax(predicted_labels[idx], axis = 1)))\r\n",
        "  \r\n",
        "  return df(data = np.array(y_axis).reshape(1, -1) * 100,  columns = sorted_snrs, index = ['accuracy']).round(2)\r\n",
        "\r\n",
        "model = full_connected_model((2,128))\r\n",
        "es = EarlyStopping(monitor='val_loss', mode='min', verbose=1, patience=5)\r\n",
        "mc = ModelCheckpoint('../content/drive/MyDrive/DM_4/fully_connected_derivative.h5', monitor='val_accuracy', mode='max', verbose=1, save_best_only=True)\r\n",
        "model.load_weights('../content/drive/MyDrive/DM_4/fully_connected_derivative.h5')\r\n",
        "y_pred_FC = model.predict(X_test, batch_size=batch_size)\r\n",
        "\r\n",
        "print_results(y_pred_FC, y_test, snr_test)\r\n"
      ],
      "execution_count": null,
      "outputs": [
        {
          "output_type": "stream",
          "text": [
            "Model: \"sequential_1\"\n",
            "_________________________________________________________________\n",
            "Layer (type)                 Output Shape              Param #   \n",
            "=================================================================\n",
            "dense_3 (Dense)              (None, 2, 512)            66048     \n",
            "_________________________________________________________________\n",
            "dense_4 (Dense)              (None, 2, 256)            131328    \n",
            "_________________________________________________________________\n",
            "flatten_1 (Flatten)          (None, 512)               0         \n",
            "_________________________________________________________________\n",
            "dense_5 (Dense)              (None, 10)                5130      \n",
            "=================================================================\n",
            "Total params: 202,506\n",
            "Trainable params: 202,506\n",
            "Non-trainable params: 0\n",
            "_________________________________________________________________\n"
          ],
          "name": "stdout"
        },
        {
          "output_type": "execute_result",
          "data": {
            "text/html": [
              "<div>\n",
              "<style scoped>\n",
              "    .dataframe tbody tr th:only-of-type {\n",
              "        vertical-align: middle;\n",
              "    }\n",
              "\n",
              "    .dataframe tbody tr th {\n",
              "        vertical-align: top;\n",
              "    }\n",
              "\n",
              "    .dataframe thead th {\n",
              "        text-align: right;\n",
              "    }\n",
              "</style>\n",
              "<table border=\"1\" class=\"dataframe\">\n",
              "  <thead>\n",
              "    <tr style=\"text-align: right;\">\n",
              "      <th></th>\n",
              "      <th>-20</th>\n",
              "      <th>-18</th>\n",
              "      <th>-16</th>\n",
              "      <th>-14</th>\n",
              "      <th>-12</th>\n",
              "      <th>-10</th>\n",
              "      <th>-8</th>\n",
              "      <th>-6</th>\n",
              "      <th>-4</th>\n",
              "      <th>-2</th>\n",
              "      <th>0</th>\n",
              "      <th>2</th>\n",
              "      <th>4</th>\n",
              "      <th>6</th>\n",
              "      <th>8</th>\n",
              "      <th>10</th>\n",
              "      <th>12</th>\n",
              "      <th>14</th>\n",
              "      <th>16</th>\n",
              "      <th>18</th>\n",
              "    </tr>\n",
              "  </thead>\n",
              "  <tbody>\n",
              "    <tr>\n",
              "      <th>accuracy</th>\n",
              "      <td>10.0</td>\n",
              "      <td>9.83</td>\n",
              "      <td>10.54</td>\n",
              "      <td>11.7</td>\n",
              "      <td>14.07</td>\n",
              "      <td>17.48</td>\n",
              "      <td>22.44</td>\n",
              "      <td>27.78</td>\n",
              "      <td>34.19</td>\n",
              "      <td>38.64</td>\n",
              "      <td>42.87</td>\n",
              "      <td>47.67</td>\n",
              "      <td>52.05</td>\n",
              "      <td>56.77</td>\n",
              "      <td>61.49</td>\n",
              "      <td>64.37</td>\n",
              "      <td>65.01</td>\n",
              "      <td>63.67</td>\n",
              "      <td>60.78</td>\n",
              "      <td>58.3</td>\n",
              "    </tr>\n",
              "  </tbody>\n",
              "</table>\n",
              "</div>"
            ],
            "text/plain": [
              "           -20   -18    -16   -14    -12  ...     10     12     14     16    18\n",
              "accuracy  10.0  9.83  10.54  11.7  14.07  ...  64.37  65.01  63.67  60.78  58.3\n",
              "\n",
              "[1 rows x 20 columns]"
            ]
          },
          "metadata": {
            "tags": []
          },
          "execution_count": 9
        }
      ]
    },
    {
      "cell_type": "markdown",
      "metadata": {
        "id": "RgeCJrWJjEH4"
      },
      "source": [
        "#confusion matrices and find the most confusing classes"
      ]
    },
    {
      "cell_type": "code",
      "metadata": {
        "colab": {
          "base_uri": "https://localhost:8080/",
          "height": 1000
        },
        "id": "h5_COKsGjFLu",
        "outputId": "73dc4a7b-d16c-4a96-b4ee-bdec740bb3f6"
      },
      "source": [
        "def plot_confusion_matrix(cm, title='Confusion matrix', cmap=plt.cm.Reds, labels=[]):\r\n",
        "    #plt.cm.Reds - color shades to use, Reds, Blues, etc.\r\n",
        "    # made the image bigger- 800x800\r\n",
        "    my_dpi=96\r\n",
        "    plt.figure(figsize=(800/my_dpi, 800/my_dpi), dpi=my_dpi)\r\n",
        "    #key call- data, how to interpolate thefp vakues, color map\r\n",
        "    plt.imshow(cm, interpolation='nearest', cmap=cmap)\r\n",
        "    plt.title(title)\r\n",
        "    #adds a color legend to right hand side. Shows values for different shadings of blue.\r\n",
        "    plt.colorbar()\r\n",
        "    # create tickmarks with count = number of labels\r\n",
        "    tick_marks = np.arange(len(labels))\r\n",
        "    plt.xticks(tick_marks, labels, rotation=45)\r\n",
        "    plt.yticks(tick_marks, labels)\r\n",
        "    plt.tight_layout()\r\n",
        "    plt.ylabel('True label')\r\n",
        "    plt.xlabel('Predicted label')\r\n",
        "    \r\n",
        "batch_size = 1024  # training batch size\r\n",
        "# Plot confusion matrix\r\n",
        "def Plot_confusion(X_test, y_test, input_shape, filename, epochs):\r\n",
        "  model = full_connected_model(input_shape)\r\n",
        "  es = EarlyStopping(monitor='val_loss', mode='min', verbose=1, patience=5)\r\n",
        "  mc = ModelCheckpoint(filename, monitor='val_accuracy', mode='max', verbose=1, save_best_only=True)\r\n",
        "  model.load_weights(filename)\r\n",
        "  # Show simple version of performance\r\n",
        "  test_Y_hat = model.predict(X_test, batch_size=batch_size)\r\n",
        "  #fill matrices with zeros\r\n",
        "  conf = np.zeros([len(classes),len(classes)])\r\n",
        "  #normalize confusion matrix\r\n",
        "  confnorm = np.zeros([len(classes),len(classes)])\r\n",
        " \r\n",
        "  #this puts all the data into an 11 x 11 matrix for plotting.\r\n",
        "  for i in range(0,X_test.shape[0]):\r\n",
        "    # j is first value in list\r\n",
        "    j = list(y_test[i,:]).index(1)\r\n",
        "    #np.argmax gives the index of the max value in the array, assuming flattened into single vector\r\n",
        "    k = int(np.argmax(test_Y_hat[i,:]))\r\n",
        "    #why add 1 to each value??\r\n",
        "    conf[j,k] = conf[j,k] + 1\r\n",
        " \r\n",
        "  #takes the data to plot and normalizes it\r\n",
        "  for i in range(0,len(classes)):\r\n",
        "    confnorm[i,:] = conf[i,:] / np.sum(conf[i,:])\r\n",
        "  print (confnorm)\r\n",
        "  print (classes)\r\n",
        "  plot_confusion_matrix(confnorm, labels=classes)\r\n",
        "\r\n",
        "Plot_confusion(X_test, y_test, (2,128), '../content/drive/MyDrive/DM_4/fully_connected_derivative.h5', 100)\r\n"
      ],
      "execution_count": null,
      "outputs": [
        {
          "output_type": "stream",
          "text": [
            "Model: \"sequential_2\"\n",
            "_________________________________________________________________\n",
            "Layer (type)                 Output Shape              Param #   \n",
            "=================================================================\n",
            "dense_6 (Dense)              (None, 2, 512)            66048     \n",
            "_________________________________________________________________\n",
            "dense_7 (Dense)              (None, 2, 256)            131328    \n",
            "_________________________________________________________________\n",
            "flatten_2 (Flatten)          (None, 512)               0         \n",
            "_________________________________________________________________\n",
            "dense_8 (Dense)              (None, 10)                5130      \n",
            "=================================================================\n",
            "Total params: 202,506\n",
            "Trainable params: 202,506\n",
            "Non-trainable params: 0\n",
            "_________________________________________________________________\n",
            "[[0.17106694 0.20126014 0.06417798 0.04990382 0.01720148 0.07580362\n",
            "  0.1103181  0.13646882 0.08826563 0.08553347]\n",
            " [0.01594167 0.57947268 0.03116249 0.03751144 0.04416535 0.02212426\n",
            "  0.0077629  0.00332696 0.01283651 0.24569575]\n",
            " [0.03623754 0.19361038 0.38816779 0.04570776 0.0181884  0.13787533\n",
            "  0.02295137 0.02186508 0.05141775 0.08397861]\n",
            " [0.0236947  0.19730717 0.02882391 0.55370334 0.02804338 0.02224514\n",
            "  0.02146461 0.02079558 0.01817523 0.08574694]\n",
            " [0.00896527 0.21334584 0.01324101 0.02940609 0.59019062 0.01186174\n",
            "  0.0058757  0.00391713 0.0060688  0.1171278 ]\n",
            " [0.03161111 0.14372222 0.08413889 0.03961111 0.01675    0.50044444\n",
            "  0.04055556 0.05691667 0.0245     0.06175   ]\n",
            " [0.1155601  0.12288803 0.04418881 0.04535022 0.01310732 0.1020933\n",
            "  0.1557946  0.29997511 0.048392   0.0526505 ]\n",
            " [0.10454001 0.07987514 0.04286391 0.04041136 0.01123157 0.10242189\n",
            "  0.1662161  0.37510103 0.04239012 0.03494886]\n",
            " [0.12081976 0.19703172 0.11051708 0.05014897 0.01734748 0.06911146\n",
            "  0.09141536 0.11302314 0.1459917  0.08459332]\n",
            " [0.01424651 0.45519554 0.02608165 0.02954627 0.05338285 0.01854264\n",
            "  0.00623631 0.00268854 0.01028299 0.38379667]]\n",
            "['8PSK', 'AM-DSB', 'BPSK', 'CPFSK', 'GFSK', 'PAM4', 'QAM16', 'QAM64', 'QPSK', 'WBFM']\n"
          ],
          "name": "stdout"
        },
        {
          "output_type": "display_data",
          "data": {
            "image/png": "[encoded data removed]",
            "text/plain": [
              "<Figure size 800x800 with 2 Axes>"
            ]
          },
          "metadata": {
            "tags": [],
            "needs_background": "light"
          }
        }
      ]
    },
    {
      "cell_type": "markdown",
      "metadata": {
        "id": "qui1dKVm7uIm"
      },
      "source": [
        "#Model CNN"
      ]
    },
    {
      "cell_type": "code",
      "metadata": {
        "id": "Km2ZwacubImF"
      },
      "source": [
        "def cnn_model(in_shape):\r\n",
        "  conv1_kernel_shape=(3,1)\r\n",
        "  conv1_number_of_filters=64\r\n",
        "  conv2_kernel_shape=(3,2)\r\n",
        "  conv2_number_of_filters=16\r\n",
        "  dense1_size = 128\r\n",
        "  dense2_size = 10\r\n",
        "  dropout = 0.4\r\n",
        "\r\n",
        "  # Build model\r\n",
        "  model_conv = Sequential()\r\n",
        "  model_conv.add(Reshape((128,in_shape[0],1), input_shape=in_shape))\r\n",
        "  model_conv.add(Conv2D(conv1_number_of_filters, conv1_kernel_shape, strides=1,\r\n",
        "                   padding='same', data_format='channels_last', activation='relu'))\r\n",
        "  model_conv.add(BatchNormalization())\r\n",
        "  model_conv.add(MaxPooling2D())\r\n",
        "  model_conv.add(Conv2D(conv2_number_of_filters, conv2_kernel_shape, strides=1,\r\n",
        "                   padding='same', data_format='channels_last', activation='relu'))\r\n",
        "  model_conv.add(Flatten())\r\n",
        "  model_conv.add(Dropout(rate=1-dropout))\r\n",
        "  model_conv.add(Dense(dense1_size, activation='relu'))\r\n",
        "  model_conv.add(Dense(dense2_size, activation='softmax'))\r\n",
        "\r\n",
        "  # Compile model\r\n",
        "  model_conv.compile(loss='categorical_crossentropy', optimizer='adam', metrics=['accuracy'])\r\n",
        "  model_conv.summary()\r\n",
        "  return model_conv"
      ],
      "execution_count": null,
      "outputs": []
    },
    {
      "cell_type": "code",
      "metadata": {
        "colab": {
          "base_uri": "https://localhost:8080/",
          "height": 1000
        },
        "id": "K7zOk5EW7sfi",
        "outputId": "cbf6484e-6d64-4c0f-bdd6-346c87a8bee3"
      },
      "source": [
        "def train_cnn_model(X_train, y_train, input_shape, filename, epochs):\r\n",
        "  model = cnn_model(input_shape)\r\n",
        "  es = EarlyStopping(monitor='val_loss', mode='min', verbose=1, patience=5)\r\n",
        "  mc = ModelCheckpoint(filename, monitor='val_accuracy', mode='max', verbose=1, save_best_only=True)\r\n",
        "  train_history = model.fit(X_train, y_train, epochs=epochs, validation_split = 0.05, batch_size = 2048, callbacks=[es,mc])\r\n",
        "\r\n",
        "  # Show loss curves\r\n",
        "  plt.figure()\r\n",
        "  plt.title('Training performance1')\r\n",
        "  plt.plot(train_history.epoch, train_history.history['loss'], label='train_loss')\r\n",
        "  plt.plot(train_history.epoch, train_history.history['val_loss'], label='val_loss')\r\n",
        "  plt.legend()\r\n",
        "\r\n",
        "  # Show accuracy curves\r\n",
        "  plt.figure()\r\n",
        "  plt.title('Training performance2')\r\n",
        "  plt.plot(train_history.epoch, train_history.history['accuracy'], label='train_accuracy')\r\n",
        "  plt.plot(train_history.epoch, train_history.history['val_accuracy'], label='val_accuracy')\r\n",
        "  plt.legend()\r\n",
        "\r\n",
        "train_cnn_model(X_train, y_train, (2,128), '../content/drive/MyDrive/DM_4/CNN_derivative.h5', 100)\r\n"
      ],
      "execution_count": null,
      "outputs": [
        {
          "output_type": "stream",
          "text": [
            "Model: \"sequential_5\"\n",
            "_________________________________________________________________\n",
            "Layer (type)                 Output Shape              Param #   \n",
            "=================================================================\n",
            "reshape (Reshape)            (None, 128, 2, 1)         0         \n",
            "_________________________________________________________________\n",
            "conv2d (Conv2D)              (None, 128, 2, 64)        256       \n",
            "_________________________________________________________________\n",
            "batch_normalization (BatchNo (None, 128, 2, 64)        256       \n",
            "_________________________________________________________________\n",
            "max_pooling2d (MaxPooling2D) (None, 64, 1, 64)         0         \n",
            "_________________________________________________________________\n",
            "conv2d_1 (Conv2D)            (None, 64, 1, 16)         6160      \n",
            "_________________________________________________________________\n",
            "flatten_5 (Flatten)          (None, 1024)              0         \n",
            "_________________________________________________________________\n",
            "dropout (Dropout)            (None, 1024)              0         \n",
            "_________________________________________________________________\n",
            "dense_15 (Dense)             (None, 128)               131200    \n",
            "_________________________________________________________________\n",
            "dense_16 (Dense)             (None, 10)                1290      \n",
            "=================================================================\n",
            "Total params: 139,162\n",
            "Trainable params: 139,034\n",
            "Non-trainable params: 128\n",
            "_________________________________________________________________\n",
            "Epoch 1/100\n",
            "390/390 [==============================] - 15s 25ms/step - loss: 2.0678 - accuracy: 0.2162 - val_loss: 2.2148 - val_accuracy: 0.1910\n",
            "\n",
            "Epoch 00001: val_accuracy improved from -inf to 0.19095, saving model to ../content/drive/MyDrive/DM_4/CNN_derivative.h5\n",
            "Epoch 2/100\n",
            "390/390 [==============================] - 9s 24ms/step - loss: 1.7654 - accuracy: 0.3271 - val_loss: 1.6441 - val_accuracy: 0.3769\n",
            "\n",
            "Epoch 00002: val_accuracy improved from 0.19095 to 0.37686, saving model to ../content/drive/MyDrive/DM_4/CNN_derivative.h5\n",
            "Epoch 3/100\n",
            "390/390 [==============================] - 9s 24ms/step - loss: 1.6633 - accuracy: 0.3638 - val_loss: 1.6046 - val_accuracy: 0.3738\n",
            "\n",
            "Epoch 00003: val_accuracy did not improve from 0.37686\n",
            "Epoch 4/100\n",
            "390/390 [==============================] - 10s 25ms/step - loss: 1.6346 - accuracy: 0.3739 - val_loss: 1.5718 - val_accuracy: 0.3917\n",
            "\n",
            "Epoch 00004: val_accuracy improved from 0.37686 to 0.39174, saving model to ../content/drive/MyDrive/DM_4/CNN_derivative.h5\n",
            "Epoch 5/100\n",
            "390/390 [==============================] - 10s 25ms/step - loss: 1.6140 - accuracy: 0.3836 - val_loss: 1.5481 - val_accuracy: 0.4073\n",
            "\n",
            "Epoch 00005: val_accuracy improved from 0.39174 to 0.40726, saving model to ../content/drive/MyDrive/DM_4/CNN_derivative.h5\n",
            "Epoch 6/100\n",
            "390/390 [==============================] - 10s 25ms/step - loss: 1.5996 - accuracy: 0.3869 - val_loss: 1.5463 - val_accuracy: 0.3979\n",
            "\n",
            "Epoch 00006: val_accuracy did not improve from 0.40726\n",
            "Epoch 7/100\n",
            "390/390 [==============================] - 10s 25ms/step - loss: 1.5877 - accuracy: 0.3915 - val_loss: 1.5446 - val_accuracy: 0.4069\n",
            "\n",
            "Epoch 00007: val_accuracy did not improve from 0.40726\n",
            "Epoch 8/100\n",
            "390/390 [==============================] - 10s 25ms/step - loss: 1.5820 - accuracy: 0.3936 - val_loss: 1.5120 - val_accuracy: 0.4192\n",
            "\n",
            "Epoch 00008: val_accuracy improved from 0.40726 to 0.41921, saving model to ../content/drive/MyDrive/DM_4/CNN_derivative.h5\n",
            "Epoch 9/100\n",
            "390/390 [==============================] - 10s 25ms/step - loss: 1.5718 - accuracy: 0.3975 - val_loss: 1.5487 - val_accuracy: 0.3919\n",
            "\n",
            "Epoch 00009: val_accuracy did not improve from 0.41921\n",
            "Epoch 10/100\n",
            "390/390 [==============================] - 10s 25ms/step - loss: 1.5646 - accuracy: 0.4004 - val_loss: 1.5360 - val_accuracy: 0.4005\n",
            "\n",
            "Epoch 00010: val_accuracy did not improve from 0.41921\n",
            "Epoch 11/100\n",
            "390/390 [==============================] - 10s 25ms/step - loss: 1.5584 - accuracy: 0.4032 - val_loss: 1.5426 - val_accuracy: 0.4013\n",
            "\n",
            "Epoch 00011: val_accuracy did not improve from 0.41921\n",
            "Epoch 12/100\n",
            "390/390 [==============================] - 10s 25ms/step - loss: 1.5511 - accuracy: 0.4055 - val_loss: 1.4936 - val_accuracy: 0.4280\n",
            "\n",
            "Epoch 00012: val_accuracy improved from 0.41921 to 0.42802, saving model to ../content/drive/MyDrive/DM_4/CNN_derivative.h5\n",
            "Epoch 13/100\n",
            "390/390 [==============================] - 10s 25ms/step - loss: 1.5466 - accuracy: 0.4067 - val_loss: 1.4952 - val_accuracy: 0.4241\n",
            "\n",
            "Epoch 00013: val_accuracy did not improve from 0.42802\n",
            "Epoch 14/100\n",
            "390/390 [==============================] - 10s 25ms/step - loss: 1.5403 - accuracy: 0.4096 - val_loss: 1.4790 - val_accuracy: 0.4291\n",
            "\n",
            "Epoch 00014: val_accuracy improved from 0.42802 to 0.42912, saving model to ../content/drive/MyDrive/DM_4/CNN_derivative.h5\n",
            "Epoch 15/100\n",
            "390/390 [==============================] - 10s 25ms/step - loss: 1.5382 - accuracy: 0.4095 - val_loss: 1.5745 - val_accuracy: 0.3829\n",
            "\n",
            "Epoch 00015: val_accuracy did not improve from 0.42912\n",
            "Epoch 16/100\n",
            "390/390 [==============================] - 10s 25ms/step - loss: 1.5341 - accuracy: 0.4111 - val_loss: 1.5319 - val_accuracy: 0.4060\n",
            "\n",
            "Epoch 00016: val_accuracy did not improve from 0.42912\n",
            "Epoch 17/100\n",
            "390/390 [==============================] - 10s 25ms/step - loss: 1.5314 - accuracy: 0.4110 - val_loss: 1.5038 - val_accuracy: 0.4169\n",
            "\n",
            "Epoch 00017: val_accuracy did not improve from 0.42912\n",
            "Epoch 18/100\n",
            "390/390 [==============================] - 10s 25ms/step - loss: 1.5277 - accuracy: 0.4127 - val_loss: 1.4977 - val_accuracy: 0.4195\n",
            "\n",
            "Epoch 00018: val_accuracy did not improve from 0.42912\n",
            "Epoch 19/100\n",
            "390/390 [==============================] - 10s 25ms/step - loss: 1.5287 - accuracy: 0.4125 - val_loss: 1.4882 - val_accuracy: 0.4257\n",
            "\n",
            "Epoch 00019: val_accuracy did not improve from 0.42912\n",
            "Epoch 00019: early stopping\n"
          ],
          "name": "stdout"
        },
        {
          "output_type": "display_data",
          "data": {
            "image/png": "[encoded data removed]",
            "text/plain": [
              "<Figure size 432x288 with 1 Axes>"
            ]
          },
          "metadata": {
            "tags": [],
            "needs_background": "light"
          }
        },
        {
          "output_type": "display_data",
          "data": {
            "image/png": "[encoded data removed]",
            "text/plain": [
              "<Figure size 432x288 with 1 Axes>"
            ]
          },
          "metadata": {
            "tags": [],
            "needs_background": "light"
          }
        }
      ]
    },
    {
      "cell_type": "markdown",
      "metadata": {
        "id": "-N7uHTG7eBtA"
      },
      "source": [
        "#Test of CNN"
      ]
    },
    {
      "cell_type": "code",
      "metadata": {
        "colab": {
          "base_uri": "https://localhost:8080/"
        },
        "id": "0sxxPtNzeDwy",
        "outputId": "333bee44-054d-4ce1-e48f-02e3489e68eb"
      },
      "source": [
        "def test_cnn_model(X_test, y_test, input_shape, filename, epochs):\r\n",
        "  model = cnn_model(input_shape)\r\n",
        "  es = EarlyStopping(monitor='val_loss', mode='min', verbose=1, patience=5)\r\n",
        "  mc = ModelCheckpoint(filename, monitor='val_accuracy', mode='max', verbose=1, save_best_only=True)\r\n",
        "  model.load_weights(filename)\r\n",
        "  score = model.evaluate(X_test, y_test, verbose=0, batch_size=2048)\r\n",
        "  print(score)\r\n",
        "\r\n",
        "test_cnn_model(X_test, y_test, (2,128), '../content/drive/MyDrive/DM_4/CNN_derivative.h5', 100)\r\n"
      ],
      "execution_count": null,
      "outputs": [
        {
          "output_type": "stream",
          "text": [
            "Model: \"sequential_6\"\n",
            "_________________________________________________________________\n",
            "Layer (type)                 Output Shape              Param #   \n",
            "=================================================================\n",
            "reshape_1 (Reshape)          (None, 128, 2, 1)         0         \n",
            "_________________________________________________________________\n",
            "conv2d_2 (Conv2D)            (None, 128, 2, 64)        256       \n",
            "_________________________________________________________________\n",
            "batch_normalization_1 (Batch (None, 128, 2, 64)        256       \n",
            "_________________________________________________________________\n",
            "max_pooling2d_1 (MaxPooling2 (None, 64, 1, 64)         0         \n",
            "_________________________________________________________________\n",
            "conv2d_3 (Conv2D)            (None, 64, 1, 16)         6160      \n",
            "_________________________________________________________________\n",
            "flatten_6 (Flatten)          (None, 1024)              0         \n",
            "_________________________________________________________________\n",
            "dropout_1 (Dropout)          (None, 1024)              0         \n",
            "_________________________________________________________________\n",
            "dense_17 (Dense)             (None, 128)               131200    \n",
            "_________________________________________________________________\n",
            "dense_18 (Dense)             (None, 10)                1290      \n",
            "=================================================================\n",
            "Total params: 139,162\n",
            "Trainable params: 139,034\n",
            "Non-trainable params: 128\n",
            "_________________________________________________________________\n",
            "[1.4803590774536133, 0.4301472306251526]\n"
          ],
          "name": "stdout"
        }
      ]
    },
    {
      "cell_type": "markdown",
      "metadata": {
        "id": "9UUrft8Opxhb"
      },
      "source": [
        "#Plots of the accuracy against the SNR "
      ]
    },
    {
      "cell_type": "code",
      "metadata": {
        "colab": {
          "base_uri": "https://localhost:8080/",
          "height": 747
        },
        "id": "_94RXDvepyqH",
        "outputId": "14ddea2a-36bb-4a64-89b0-d93cf497796e"
      },
      "source": [
        "def plot_results(predicted_labels, true_labels, snrs):\r\n",
        "  sorted_snrs = np.sort(np.unique(snrs))\r\n",
        "  x_axis = []\r\n",
        "  y_axis = []\r\n",
        "  for snr in sorted_snrs:\r\n",
        "    idx = np.where(snrs == snr)\r\n",
        "    x_axis.append(snr)\r\n",
        "    y_axis.append(accuracy_score(np.argmax(true_labels[idx], axis = 1), np.argmax(predicted_labels[idx], axis = 1)))\r\n",
        "  \r\n",
        "  plt.xlabel('SNR')\r\n",
        "  plt.ylabel('Accuracy')\r\n",
        "  plt.title('Classification Accuracy over different SNRs')\r\n",
        "  plt.plot(x_axis, np.array(y_axis) * 100, 'ro--')\r\n",
        "  plt.grid(True)\r\n",
        "\r\n",
        "model = cnn_model((2,128))\r\n",
        "es = EarlyStopping(monitor='val_loss', mode='min', verbose=1, patience=5)\r\n",
        "mc = ModelCheckpoint('../content/drive/MyDrive/DM_4/CNN_derivative.h5', monitor='val_accuracy', mode='max', verbose=1, save_best_only=True)\r\n",
        "model.load_weights('../content/drive/MyDrive/DM_4/CNN_derivative.h5')\r\n",
        "y_pred_FC = model.predict(X_test, batch_size=batch_size)\r\n",
        "\r\n",
        "plot_results(y_pred_FC, y_test, snr_test)"
      ],
      "execution_count": null,
      "outputs": [
        {
          "output_type": "stream",
          "text": [
            "Model: \"sequential_7\"\n",
            "_________________________________________________________________\n",
            "Layer (type)                 Output Shape              Param #   \n",
            "=================================================================\n",
            "reshape_2 (Reshape)          (None, 128, 2, 1)         0         \n",
            "_________________________________________________________________\n",
            "conv2d_4 (Conv2D)            (None, 128, 2, 64)        256       \n",
            "_________________________________________________________________\n",
            "batch_normalization_2 (Batch (None, 128, 2, 64)        256       \n",
            "_________________________________________________________________\n",
            "max_pooling2d_2 (MaxPooling2 (None, 64, 1, 64)         0         \n",
            "_________________________________________________________________\n",
            "conv2d_5 (Conv2D)            (None, 64, 1, 16)         6160      \n",
            "_________________________________________________________________\n",
            "flatten_7 (Flatten)          (None, 1024)              0         \n",
            "_________________________________________________________________\n",
            "dropout_2 (Dropout)          (None, 1024)              0         \n",
            "_________________________________________________________________\n",
            "dense_19 (Dense)             (None, 128)               131200    \n",
            "_________________________________________________________________\n",
            "dense_20 (Dense)             (None, 10)                1290      \n",
            "=================================================================\n",
            "Total params: 139,162\n",
            "Trainable params: 139,034\n",
            "Non-trainable params: 128\n",
            "_________________________________________________________________\n"
          ],
          "name": "stdout"
        },
        {
          "output_type": "display_data",
          "data": {
            "image/png": "[encoded data removed]",
            "text/plain": [
              "<Figure size 432x288 with 1 Axes>"
            ]
          },
          "metadata": {
            "tags": [],
            "needs_background": "light"
          }
        }
      ]
    },
    {
      "cell_type": "markdown",
      "metadata": {
        "id": "KgUqayd8pzK_"
      },
      "source": [
        "#Report the average overall accuracy as well as the results at SNR=0dB"
      ]
    },
    {
      "cell_type": "code",
      "metadata": {
        "colab": {
          "base_uri": "https://localhost:8080/",
          "height": 533
        },
        "id": "TcMR9Mjmpzmu",
        "outputId": "17e15500-cd45-4697-e6e4-7fe9cb0612b1"
      },
      "source": [
        "def print_results(predicted_labels, true_labels, snrs):\r\n",
        "  sorted_snrs = np.sort(np.unique(snrs))\r\n",
        "  x_axis = []\r\n",
        "  y_axis = []\r\n",
        "  for snr in sorted_snrs:\r\n",
        "    idx = np.where(snrs == snr)\r\n",
        "    x_axis.append(snr)\r\n",
        "    y_axis.append(accuracy_score(np.argmax(true_labels[idx], axis = 1), np.argmax(predicted_labels[idx], axis = 1)))\r\n",
        "  \r\n",
        "  return df(data = np.array(y_axis).reshape(1, -1) * 100,  columns = sorted_snrs, index = ['accuracy']).round(2)\r\n",
        "\r\n",
        "model = cnn_model((2,128))\r\n",
        "es = EarlyStopping(monitor='val_loss', mode='min', verbose=1, patience=5)\r\n",
        "mc = ModelCheckpoint('../content/drive/MyDrive/DM_4/CNN_derivative.h5', monitor='val_accuracy', mode='max', verbose=1, save_best_only=True)\r\n",
        "model.load_weights('../content/drive/MyDrive/DM_4/CNN_derivative.h5')\r\n",
        "y_pred_FC = model.predict(X_test, batch_size=batch_size)\r\n",
        "\r\n",
        "print_results(y_pred_FC, y_test, snr_test)\r\n"
      ],
      "execution_count": null,
      "outputs": [
        {
          "output_type": "stream",
          "text": [
            "Model: \"sequential_8\"\n",
            "_________________________________________________________________\n",
            "Layer (type)                 Output Shape              Param #   \n",
            "=================================================================\n",
            "reshape_3 (Reshape)          (None, 128, 2, 1)         0         \n",
            "_________________________________________________________________\n",
            "conv2d_6 (Conv2D)            (None, 128, 2, 64)        256       \n",
            "_________________________________________________________________\n",
            "batch_normalization_3 (Batch (None, 128, 2, 64)        256       \n",
            "_________________________________________________________________\n",
            "max_pooling2d_3 (MaxPooling2 (None, 64, 1, 64)         0         \n",
            "_________________________________________________________________\n",
            "conv2d_7 (Conv2D)            (None, 64, 1, 16)         6160      \n",
            "_________________________________________________________________\n",
            "flatten_8 (Flatten)          (None, 1024)              0         \n",
            "_________________________________________________________________\n",
            "dropout_3 (Dropout)          (None, 1024)              0         \n",
            "_________________________________________________________________\n",
            "dense_21 (Dense)             (None, 128)               131200    \n",
            "_________________________________________________________________\n",
            "dense_22 (Dense)             (None, 10)                1290      \n",
            "=================================================================\n",
            "Total params: 139,162\n",
            "Trainable params: 139,034\n",
            "Non-trainable params: 128\n",
            "_________________________________________________________________\n"
          ],
          "name": "stdout"
        },
        {
          "output_type": "execute_result",
          "data": {
            "text/html": [
              "<div>\n",
              "<style scoped>\n",
              "    .dataframe tbody tr th:only-of-type {\n",
              "        vertical-align: middle;\n",
              "    }\n",
              "\n",
              "    .dataframe tbody tr th {\n",
              "        vertical-align: top;\n",
              "    }\n",
              "\n",
              "    .dataframe thead th {\n",
              "        text-align: right;\n",
              "    }\n",
              "</style>\n",
              "<table border=\"1\" class=\"dataframe\">\n",
              "  <thead>\n",
              "    <tr style=\"text-align: right;\">\n",
              "      <th></th>\n",
              "      <th>-20</th>\n",
              "      <th>-18</th>\n",
              "      <th>-16</th>\n",
              "      <th>-14</th>\n",
              "      <th>-12</th>\n",
              "      <th>-10</th>\n",
              "      <th>-8</th>\n",
              "      <th>-6</th>\n",
              "      <th>-4</th>\n",
              "      <th>-2</th>\n",
              "      <th>0</th>\n",
              "      <th>2</th>\n",
              "      <th>4</th>\n",
              "      <th>6</th>\n",
              "      <th>8</th>\n",
              "      <th>10</th>\n",
              "      <th>12</th>\n",
              "      <th>14</th>\n",
              "      <th>16</th>\n",
              "      <th>18</th>\n",
              "    </tr>\n",
              "  </thead>\n",
              "  <tbody>\n",
              "    <tr>\n",
              "      <th>accuracy</th>\n",
              "      <td>9.89</td>\n",
              "      <td>9.88</td>\n",
              "      <td>10.28</td>\n",
              "      <td>10.26</td>\n",
              "      <td>11.17</td>\n",
              "      <td>12.58</td>\n",
              "      <td>16.64</td>\n",
              "      <td>18.89</td>\n",
              "      <td>29.51</td>\n",
              "      <td>45.8</td>\n",
              "      <td>55.96</td>\n",
              "      <td>62.24</td>\n",
              "      <td>66.44</td>\n",
              "      <td>68.91</td>\n",
              "      <td>72.01</td>\n",
              "      <td>74.24</td>\n",
              "      <td>73.58</td>\n",
              "      <td>72.98</td>\n",
              "      <td>71.5</td>\n",
              "      <td>68.24</td>\n",
              "    </tr>\n",
              "  </tbody>\n",
              "</table>\n",
              "</div>"
            ],
            "text/plain": [
              "           -20   -18    -16    -14    -12  ...     10     12     14    16     18\n",
              "accuracy  9.89  9.88  10.28  10.26  11.17  ...  74.24  73.58  72.98  71.5  68.24\n",
              "\n",
              "[1 rows x 20 columns]"
            ]
          },
          "metadata": {
            "tags": []
          },
          "execution_count": 18
        }
      ]
    },
    {
      "cell_type": "markdown",
      "metadata": {
        "id": "d2OK9QWwgKPq"
      },
      "source": [
        "#confusion matrices and find the most confusing classes"
      ]
    },
    {
      "cell_type": "code",
      "metadata": {
        "colab": {
          "base_uri": "https://localhost:8080/",
          "height": 1000
        },
        "id": "TzACTdD7gPQE",
        "outputId": "9bcd674a-a7db-4ae7-f517-9719c4a3b59a"
      },
      "source": [
        "def plot_confusion_matrix(cm, title='Confusion matrix', cmap=plt.cm.Reds, labels=[]):\r\n",
        "    #plt.cm.Reds - color shades to use, Reds, Blues, etc.\r\n",
        "    # made the image bigger- 800x800\r\n",
        "    my_dpi=96\r\n",
        "    plt.figure(figsize=(800/my_dpi, 800/my_dpi), dpi=my_dpi)\r\n",
        "    #key call- data, how to interpolate thefp vakues, color map\r\n",
        "    plt.imshow(cm, interpolation='nearest', cmap=cmap)\r\n",
        "    plt.title(title)\r\n",
        "    #adds a color legend to right hand side. Shows values for different shadings of blue.\r\n",
        "    plt.colorbar()\r\n",
        "    # create tickmarks with count = number of labels\r\n",
        "    tick_marks = np.arange(len(labels))\r\n",
        "    plt.xticks(tick_marks, labels, rotation=45)\r\n",
        "    plt.yticks(tick_marks, labels)\r\n",
        "    plt.tight_layout()\r\n",
        "    plt.ylabel('True label')\r\n",
        "    plt.xlabel('Predicted label')\r\n",
        "    \r\n",
        "batch_size = 1024  # training batch size\r\n",
        "# Plot confusion matrix\r\n",
        "def Plot_confusion(X_test, y_test, input_shape, filename, epochs):\r\n",
        "  model = cnn_model(input_shape)\r\n",
        "  es = EarlyStopping(monitor='val_loss', mode='min', verbose=1, patience=5)\r\n",
        "  mc = ModelCheckpoint(filename, monitor='val_accuracy', mode='max', verbose=1, save_best_only=True)\r\n",
        "  model.load_weights(filename)\r\n",
        "  # Show simple version of performance\r\n",
        "  test_Y_hat = model.predict(X_test, batch_size=batch_size)\r\n",
        "  #fill matrices with zeros\r\n",
        "  conf = np.zeros([len(classes),len(classes)])\r\n",
        "  #normalize confusion matrix\r\n",
        "  confnorm = np.zeros([len(classes),len(classes)])\r\n",
        " \r\n",
        "  #this puts all the data into an 11 x 11 matrix for plotting.\r\n",
        "  for i in range(0,X_test.shape[0]):\r\n",
        "    # j is first value in list\r\n",
        "    j = list(y_test[i,:]).index(1)\r\n",
        "    #np.argmax gives the index of the max value in the array, assuming flattened into single vector\r\n",
        "    k = int(np.argmax(test_Y_hat[i,:]))\r\n",
        "    #why add 1 to each value??\r\n",
        "    conf[j,k] = conf[j,k] + 1\r\n",
        " \r\n",
        "  #takes the data to plot and normalizes it\r\n",
        "  for i in range(0,len(classes)):\r\n",
        "    confnorm[i,:] = conf[i,:] / np.sum(conf[i,:])\r\n",
        "  print (confnorm)\r\n",
        "  print (classes)\r\n",
        "  plot_confusion_matrix(confnorm, labels=classes)\r\n",
        "\r\n",
        "Plot_confusion(X_test, y_test, (2,128), '../content/drive/MyDrive/DM_4/CNN_derivative.h5', 100)\r\n"
      ],
      "execution_count": null,
      "outputs": [
        {
          "output_type": "stream",
          "text": [
            "Model: \"sequential_9\"\n",
            "_________________________________________________________________\n",
            "Layer (type)                 Output Shape              Param #   \n",
            "=================================================================\n",
            "reshape_4 (Reshape)          (None, 128, 2, 1)         0         \n",
            "_________________________________________________________________\n",
            "conv2d_8 (Conv2D)            (None, 128, 2, 64)        256       \n",
            "_________________________________________________________________\n",
            "batch_normalization_4 (Batch (None, 128, 2, 64)        256       \n",
            "_________________________________________________________________\n",
            "max_pooling2d_4 (MaxPooling2 (None, 64, 1, 64)         0         \n",
            "_________________________________________________________________\n",
            "conv2d_9 (Conv2D)            (None, 64, 1, 16)         6160      \n",
            "_________________________________________________________________\n",
            "flatten_9 (Flatten)          (None, 1024)              0         \n",
            "_________________________________________________________________\n",
            "dropout_4 (Dropout)          (None, 1024)              0         \n",
            "_________________________________________________________________\n",
            "dense_23 (Dense)             (None, 128)               131200    \n",
            "_________________________________________________________________\n",
            "dense_24 (Dense)             (None, 10)                1290      \n",
            "=================================================================\n",
            "Total params: 139,162\n",
            "Trainable params: 139,034\n",
            "Non-trainable params: 128\n",
            "_________________________________________________________________\n",
            "[[2.03267445e-01 3.64911205e-01 1.73130001e-02 6.37040341e-02\n",
            "  2.55094929e-02 1.33820291e-02 6.10276283e-02 4.79522708e-02\n",
            "  1.99224957e-01 3.70793722e-03]\n",
            " [5.76672489e-03 9.30799301e-01 2.07934792e-03 3.07743492e-03\n",
            "  2.96376390e-02 6.40439158e-03 5.54492778e-05 2.77246389e-05\n",
            "  1.94072472e-04 2.19579140e-02]\n",
            " [1.55980168e-02 3.61233357e-01 5.17102111e-01 1.60993817e-02\n",
            "  1.82998162e-02 5.60971534e-02 2.00545931e-03 1.86619130e-03\n",
            "  8.02183722e-03 3.67667539e-03]\n",
            " [1.04256683e-02 3.63030692e-01 4.46017896e-03 5.60588744e-01\n",
            "  4.01694868e-02 7.72168483e-03 1.67256711e-03 1.39380593e-03\n",
            "  5.82610877e-03 4.71106403e-03]\n",
            " [3.42059529e-03 4.27519241e-01 2.42751924e-03 1.15031309e-02\n",
            "  5.33750793e-01 6.78601970e-03 3.86196243e-04 3.86196243e-04\n",
            "  4.41367135e-04 1.33789413e-02]\n",
            " [1.03611111e-02 2.74500000e-01 8.81666667e-02 1.25833333e-02\n",
            "  1.76944444e-02 5.83416667e-01 2.55555556e-03 2.19444444e-03\n",
            "  5.11111111e-03 3.41666667e-03]\n",
            " [1.52338025e-01 2.38779968e-01 1.48217792e-02 5.54434090e-02\n",
            "  2.40853911e-02 2.45831375e-02 1.46890468e-01 2.33719548e-01\n",
            "  1.06655974e-01 2.68229959e-03]\n",
            " [1.46651431e-01 1.64181600e-01 1.54677963e-02 5.65201639e-02\n",
            "  2.34107188e-02 2.81486023e-02 1.48184276e-01 3.17856247e-01\n",
            "  9.65970848e-02 2.98207965e-03]\n",
            " [1.15584886e-01 3.62236516e-01 3.01005207e-02 6.30133935e-02\n",
            "  2.53668588e-02 1.13886336e-02 2.32784785e-02 2.30557180e-02\n",
            "  3.42466516e-01 3.50847882e-03]\n",
            " [5.43252307e-03 7.79899665e-01 1.55214945e-03 2.96571413e-03\n",
            "  4.07439231e-02 4.35156185e-03 2.77169545e-05 2.77169545e-05\n",
            "  1.94018681e-04 1.64805011e-01]]\n",
            "['8PSK', 'AM-DSB', 'BPSK', 'CPFSK', 'GFSK', 'PAM4', 'QAM16', 'QAM64', 'QPSK', 'WBFM']\n"
          ],
          "name": "stdout"
        },
        {
          "output_type": "display_data",
          "data": {
            "image/png": "[encoded data removed]",
            "text/plain": [
              "<Figure size 800x800 with 2 Axes>"
            ]
          },
          "metadata": {
            "tags": [],
            "needs_background": "light"
          }
        }
      ]
    },
    {
      "cell_type": "markdown",
      "metadata": {
        "id": "_0EX3weTfpVr"
      },
      "source": [
        "#Model Logistic Regression Classifier"
      ]
    },
    {
      "cell_type": "code",
      "metadata": {
        "id": "riF-gq16iGG6"
      },
      "source": [
        "y_train_convert = []\r\n",
        "for y in y_train:\r\n",
        "  maximum = np.max(y)\r\n",
        "  index_of_maximum = np.where(y == maximum)\r\n",
        "  y_train_convert.append(index_of_maximum)\r\n",
        "\r\n",
        "y_test_convert = []\r\n",
        "for y in y_test:\r\n",
        "  maximum = np.max(y)\r\n",
        "  index_of_maximum = np.where(y == maximum)\r\n",
        "  y_test_convert.append(index_of_maximum)"
      ],
      "execution_count": null,
      "outputs": []
    },
    {
      "cell_type": "code",
      "metadata": {
        "id": "sGxbDA4Zft_B",
        "colab": {
          "base_uri": "https://localhost:8080/"
        },
        "outputId": "86739b67-20ee-464a-cd4c-6ce5035161b2"
      },
      "source": [
        "from sklearn.linear_model import LogisticRegression\r\n",
        "print(X_train.shape)\r\n",
        "print(snr_train.shape)\r\n",
        "# Create an instance of the scaler and apply it to the data\r\n",
        "nsamples, nx, ny = X_train.shape\r\n",
        "d2_train_dataset = X_train.reshape((nsamples,nx*ny))\r\n",
        "\r\n",
        "nsamples, nx, ny = X_test.shape\r\n",
        "d2_test_dataset = X_test.reshape((nsamples,nx*ny))\r\n",
        "\r\n",
        "y_train_convert = np.squeeze(y_train_convert) \r\n",
        "y_test_convert = np.squeeze(y_test_convert)\r\n",
        "print(y_train_convert.shape)\r\n",
        "print(y_test_convert.shape)\r\n",
        "\r\n",
        "LogReg_clf = LogisticRegression()\r\n",
        "lrcModel = LogReg_clf.fit(d2_train_dataset, y_train_convert)\r\n",
        "\r\n",
        "\r\n",
        "y_pred_lrcModel = lrcModel.predict(d2_test_dataset)\r\n",
        "\r\n",
        "from sklearn import metrics\r\n",
        "# Model Accuracy, how often is the classifier correct?\r\n",
        "print(\"Accuracy:\",metrics.accuracy_score(y_test_convert, y_pred_lrcModel))\r\n",
        "print(confusion_matrix(y_test_convert, y_pred_lrcModel))\r\n",
        "print(metrics.classification_report(y_test_convert, y_pred_lrcModel,target_names=['8PSK', 'AM-DSB', 'BPSK', 'CPFSK', 'GFSK', 'PAM4', 'QAM16', 'QAM64', 'QPSK', 'WBFM'] ))"
      ],
      "execution_count": null,
      "outputs": [
        {
          "output_type": "stream",
          "text": [
            "(840000, 2, 128)\n",
            "(840000,)\n",
            "(840000,)\n",
            "(360000,)\n"
          ],
          "name": "stdout"
        },
        {
          "output_type": "stream",
          "text": [
            "/usr/local/lib/python3.6/dist-packages/sklearn/linear_model/_logistic.py:940: ConvergenceWarning: lbfgs failed to converge (status=1):\n",
            "STOP: TOTAL NO. of ITERATIONS REACHED LIMIT.\n",
            "\n",
            "Increase the number of iterations (max_iter) or scale the data as shown in:\n",
            "    https://scikit-learn.org/stable/modules/preprocessing.html\n",
            "Please also refer to the documentation for alternative solver options:\n",
            "    https://scikit-learn.org/stable/modules/linear_model.html#logistic-regression\n",
            "  extra_warning_msg=_LOGISTIC_SOLVER_CONVERGENCE_MSG)\n"
          ],
          "name": "stderr"
        },
        {
          "output_type": "stream",
          "text": [
            "Accuracy: 0.11668055555555555\n",
            "[[3798 3543 3734 4102 3188 3487 3585 3601 3011 3820]\n",
            " [4060 5296 3536 3733 3425 3112 2431 2409 3196 4871]\n",
            " [3805 3704 3742 4122 3151 3445 3319 3624 3228 3762]\n",
            " [3965 3942 3488 4248 3605 3137 3083 3143 3013 4249]\n",
            " [3821 4410 3136 3964 4723 2615 2417 2939 3273 4953]\n",
            " [3701 3417 3912 4154 3134 3423 3627 3932 3180 3520]\n",
            " [3823 2884 3604 4536 3124 3589 3969 4171 2997 3466]\n",
            " [3692 2539 3687 4669 3046 3626 4139 4293 3021 3169]\n",
            " [3719 3614 3551 4285 3085 3529 3612 3604 3180 3734]\n",
            " [4056 5026 3331 3523 3903 3030 2333 2502 3042 5333]]\n",
            "              precision    recall  f1-score   support\n",
            "\n",
            "        8PSK       0.10      0.11      0.10     35869\n",
            "      AM-DSB       0.14      0.15      0.14     36069\n",
            "        BPSK       0.10      0.10      0.10     35902\n",
            "       CPFSK       0.10      0.12      0.11     35873\n",
            "        GFSK       0.14      0.13      0.13     36251\n",
            "        PAM4       0.10      0.10      0.10     36000\n",
            "       QAM16       0.12      0.11      0.12     36163\n",
            "       QAM64       0.13      0.12      0.12     35881\n",
            "        QPSK       0.10      0.09      0.09     35913\n",
            "        WBFM       0.13      0.15      0.14     36079\n",
            "\n",
            "    accuracy                           0.12    360000\n",
            "   macro avg       0.12      0.12      0.12    360000\n",
            "weighted avg       0.12      0.12      0.12    360000\n",
            "\n"
          ],
          "name": "stdout"
        }
      ]
    },
    {
      "cell_type": "code",
      "metadata": {
        "id": "pqLNqH2ZepcX"
      },
      "source": [
        "rows, cols = (360000, 10)\r\n",
        "y_pred_lrcModel_convert = [[0 for i in range(cols)] for j in range(rows)] \r\n",
        "for i in range(360000):\r\n",
        "  y_pred_lrcModel_convert[i][y_pred_lrcModel[i]] = 1"
      ],
      "execution_count": null,
      "outputs": []
    },
    {
      "cell_type": "code",
      "metadata": {
        "id": "uz3RI7b4esTr",
        "colab": {
          "base_uri": "https://localhost:8080/"
        },
        "outputId": "687f720a-6505-452f-a724-ed5c60aa89d3"
      },
      "source": [
        "print(y_pred_lrcModel_convert[0:5])\r\n",
        "print(y_pred_lrcModel_convert[0][0])\r\n",
        "print(y_pred_lrcModel[0:5])\r\n",
        "y_pred_lrcModel_convert = np.array(y_pred_lrcModel_convert)\r\n",
        "print(y_pred_lrcModel_convert.shape)"
      ],
      "execution_count": null,
      "outputs": [
        {
          "output_type": "stream",
          "text": [
            "[[0, 0, 0, 0, 0, 0, 0, 0, 0, 1], [0, 1, 0, 0, 0, 0, 0, 0, 0, 0], [1, 0, 0, 0, 0, 0, 0, 0, 0, 0], [0, 0, 0, 1, 0, 0, 0, 0, 0, 0], [0, 0, 0, 0, 0, 0, 0, 0, 0, 1]]\n",
            "0\n",
            "[9 1 0 3 9]\n",
            "(360000, 10)\n"
          ],
          "name": "stdout"
        }
      ]
    },
    {
      "cell_type": "markdown",
      "metadata": {
        "id": "a1mMZZgFukEw"
      },
      "source": [
        "#Evaluation"
      ]
    },
    {
      "cell_type": "code",
      "metadata": {
        "id": "b81rTPlbsuJr"
      },
      "source": [
        "def plot_results(predicted_labels, true_labels, snrs):\n",
        "  sorted_snrs = np.sort(np.unique(snrs))\n",
        "  \n",
        "  x_axis = []\n",
        "  y_axis = []\n",
        "  for snr in sorted_snrs:\n",
        "    idx = np.where(snrs == snr)\n",
        "    x_axis.append(snr)\n",
        "    y_axis.append(accuracy_score(np.argmax(true_labels[idx], axis = 1), np.argmax(predicted_labels[idx], axis = 1)))\n",
        "  \n",
        "  plt.xlabel('SNR')\n",
        "  plt.ylabel('Accuracy')\n",
        "  plt.title('Classification Accuracy over different SNRs')\n",
        "  plt.plot(x_axis, np.array(y_axis) * 100, 'ro--')\n",
        "  plt.grid(True)\n",
        "batch_size = 1024\n",
        "def print_results(predicted_labels, true_labels, snrs):\n",
        "  sorted_snrs = np.sort(np.unique(snrs))\n",
        "  x_axis = []\n",
        "  y_axis = []\n",
        "  for snr in sorted_snrs:\n",
        "    idx = np.where(snrs == snr)\n",
        "    x_axis.append(snr)\n",
        "    y_axis.append(accuracy_score(np.argmax(true_labels[idx], axis = 1), np.argmax(predicted_labels[idx], axis = 1)))\n",
        "  \n",
        "  return df(data = np.array(y_axis).reshape(1, -1) * 100,  columns = sorted_snrs, index = ['accuracy']).round(2)\n",
        "\n",
        "def plot_confusion_matrix(cm, title='Confusion matrix', cmap=plt.cm.Reds, labels=[]):\n",
        "    #plt.cm.Reds - color shades to use, Reds, Blues, etc.\n",
        "    # made the image bigger- 800x800\n",
        "    my_dpi=96\n",
        "    plt.figure(figsize=(800/my_dpi, 800/my_dpi), dpi=my_dpi)\n",
        "    #key call- data, how to interpolate thefp vakues, color map\n",
        "    plt.imshow(cm, interpolation='nearest', cmap=cmap)\n",
        "    plt.title(title)\n",
        "    #adds a color legend to right hand side. Shows values for different shadings of blue.\n",
        "    plt.colorbar()\n",
        "    # create tickmarks with count = number of labels\n",
        "    tick_marks = np.arange(len(labels))\n",
        "    plt.xticks(tick_marks, labels, rotation=45)\n",
        "    plt.yticks(tick_marks, labels)\n",
        "    plt.tight_layout()\n",
        "    plt.ylabel('True label')\n",
        "    plt.xlabel('Predicted label')"
      ],
      "execution_count": null,
      "outputs": []
    },
    {
      "cell_type": "code",
      "metadata": {
        "id": "gRFzPfcercDU",
        "colab": {
          "base_uri": "https://localhost:8080/",
          "height": 1000
        },
        "outputId": "47f65a8a-606d-4b0c-c4be-6ea609abdf53"
      },
      "source": [
        "plot_results(y_pred_lrcModel_convert, y_test, snr_test)\r\n",
        "print_results(y_pred_lrcModel_convert, y_test, snr_test)\r\n",
        "\r\n",
        "conf = np.zeros([len(classes),len(classes)])\r\n",
        "#normalize confusion matrix\r\n",
        "confnorm = np.zeros([len(classes),len(classes)])\r\n",
        " \r\n",
        "#this puts all the data into an 11 x 11 matrix for plotting.\r\n",
        "for i in range(0,X_test.shape[0]):\r\n",
        "    # j is first value in list\r\n",
        "    j = list(y_test[i,:]).index(1)\r\n",
        "    #np.argmax gives the index of the max value in the array, assuming flattened into single vector\r\n",
        "    k = int(np.argmax(y_pred_lrcModel_convert[i,:]))\r\n",
        "    #why add 1 to each value??\r\n",
        "    conf[j,k] = conf[j,k] + 1\r\n",
        " \r\n",
        "#takes the data to plot and normalizes it\r\n",
        "for i in range(0,len(classes)):\r\n",
        "    confnorm[i,:] = conf[i,:] / np.sum(conf[i,:])\r\n",
        "print (confnorm)\r\n",
        "print (classes)\r\n",
        "plot_confusion_matrix(confnorm, labels=classes)"
      ],
      "execution_count": null,
      "outputs": [
        {
          "output_type": "stream",
          "text": [
            "[[0.1058853  0.0987761  0.10410103 0.11436059 0.08887898 0.09721487\n",
            "  0.09994703 0.1003931  0.08394435 0.10649865]\n",
            " [0.11256203 0.14682969 0.09803432 0.10349608 0.09495689 0.08627908\n",
            "  0.0673986  0.06678866 0.08860795 0.13504672]\n",
            " [0.10598295 0.10316974 0.10422818 0.11481255 0.0877667  0.09595566\n",
            "  0.0924461  0.10094145 0.08991143 0.10478525]\n",
            " [0.11052881 0.10988766 0.0972319  0.11841775 0.10049341 0.08744738\n",
            "  0.08594207 0.08761464 0.08399075 0.11844563]\n",
            " [0.10540399 0.12165182 0.08650796 0.10934871 0.13028606 0.07213594\n",
            "  0.06667402 0.08107363 0.09028716 0.13663071]\n",
            " [0.10280556 0.09491667 0.10866667 0.11538889 0.08705556 0.09508333\n",
            "  0.10075    0.10922222 0.08833333 0.09777778]\n",
            " [0.10571579 0.07975002 0.09965987 0.12543207 0.08638664 0.09924508\n",
            "  0.10975306 0.11533888 0.08287476 0.09584382]\n",
            " [0.10289568 0.07076168 0.10275633 0.13012458 0.08489173 0.10105627\n",
            "  0.11535353 0.11964549 0.08419498 0.08831972]\n",
            " [0.10355582 0.10063208 0.09887784 0.11931613 0.08590204 0.09826525\n",
            "  0.10057639 0.10035363 0.08854732 0.10397349]\n",
            " [0.11241997 0.13930541 0.09232518 0.09764683 0.10817927 0.08398237\n",
            "  0.06466365 0.06934782 0.08431498 0.14781452]]\n",
            "['8PSK', 'AM-DSB', 'BPSK', 'CPFSK', 'GFSK', 'PAM4', 'QAM16', 'QAM64', 'QPSK', 'WBFM']\n"
          ],
          "name": "stdout"
        },
        {
          "output_type": "display_data",
          "data": {
            "image/png": "[encoded data removed]",
            "text/plain": [
              "<Figure size 432x288 with 1 Axes>"
            ]
          },
          "metadata": {
            "tags": [],
            "needs_background": "light"
          }
        },
        {
          "output_type": "display_data",
          "data": {
            "image/png": "[encoded data removed]",
            "text/plain": [
              "<Figure size 800x800 with 2 Axes>"
            ]
          },
          "metadata": {
            "tags": [],
            "needs_background": "light"
          }
        }
      ]
    },
    {
      "cell_type": "code",
      "metadata": {
        "colab": {
          "base_uri": "https://localhost:8080/",
          "height": 81
        },
        "id": "44yaP7W1dbjV",
        "outputId": "3776c5b1-03ca-411d-9c48-63a0dbbe7fc9"
      },
      "source": [
        "print_results(y_pred_lrcModel_convert, y_test, snr_test)"
      ],
      "execution_count": null,
      "outputs": [
        {
          "output_type": "execute_result",
          "data": {
            "text/html": [
              "<div>\n",
              "<style scoped>\n",
              "    .dataframe tbody tr th:only-of-type {\n",
              "        vertical-align: middle;\n",
              "    }\n",
              "\n",
              "    .dataframe tbody tr th {\n",
              "        vertical-align: top;\n",
              "    }\n",
              "\n",
              "    .dataframe thead th {\n",
              "        text-align: right;\n",
              "    }\n",
              "</style>\n",
              "<table border=\"1\" class=\"dataframe\">\n",
              "  <thead>\n",
              "    <tr style=\"text-align: right;\">\n",
              "      <th></th>\n",
              "      <th>-20</th>\n",
              "      <th>-18</th>\n",
              "      <th>-16</th>\n",
              "      <th>-14</th>\n",
              "      <th>-12</th>\n",
              "      <th>-10</th>\n",
              "      <th>-8</th>\n",
              "      <th>-6</th>\n",
              "      <th>-4</th>\n",
              "      <th>-2</th>\n",
              "      <th>0</th>\n",
              "      <th>2</th>\n",
              "      <th>4</th>\n",
              "      <th>6</th>\n",
              "      <th>8</th>\n",
              "      <th>10</th>\n",
              "      <th>12</th>\n",
              "      <th>14</th>\n",
              "      <th>16</th>\n",
              "      <th>18</th>\n",
              "    </tr>\n",
              "  </thead>\n",
              "  <tbody>\n",
              "    <tr>\n",
              "      <th>accuracy</th>\n",
              "      <td>9.87</td>\n",
              "      <td>9.78</td>\n",
              "      <td>10.09</td>\n",
              "      <td>9.77</td>\n",
              "      <td>10.07</td>\n",
              "      <td>10.28</td>\n",
              "      <td>10.17</td>\n",
              "      <td>10.03</td>\n",
              "      <td>10.83</td>\n",
              "      <td>10.97</td>\n",
              "      <td>11.21</td>\n",
              "      <td>11.49</td>\n",
              "      <td>12.23</td>\n",
              "      <td>12.72</td>\n",
              "      <td>13.16</td>\n",
              "      <td>13.62</td>\n",
              "      <td>13.96</td>\n",
              "      <td>14.65</td>\n",
              "      <td>14.41</td>\n",
              "      <td>14.15</td>\n",
              "    </tr>\n",
              "  </tbody>\n",
              "</table>\n",
              "</div>"
            ],
            "text/plain": [
              "           -20   -18    -16   -14    -12  ...     10     12     14     16     18\n",
              "accuracy  9.87  9.78  10.09  9.77  10.07  ...  13.62  13.96  14.65  14.41  14.15\n",
              "\n",
              "[1 rows x 20 columns]"
            ]
          },
          "metadata": {
            "tags": []
          },
          "execution_count": 15
        }
      ]
    },
    {
      "cell_type": "markdown",
      "metadata": {
        "id": "gkPTM4qchHXR"
      },
      "source": [
        "#Model Decision Tree "
      ]
    },
    {
      "cell_type": "code",
      "metadata": {
        "id": "dUBoe3A_hN62"
      },
      "source": [
        "decisionTreeClassifier = DecisionTreeClassifier()\r\n",
        "nsamples, nx, ny = X_train.shape\r\n",
        "d2_train_dataset = X_train.reshape((nsamples,nx*ny))\r\n",
        "decisionTreeClassifier.fit(d2_train_dataset, y_train)\r\n",
        "\r\n",
        "nsamples, nx, ny = X_test.shape\r\n",
        "d2_test_dataset = X_test.reshape((nsamples,nx*ny))\r\n",
        "y_pred_dtcModel = decisionTreeClassifier.predict(d2_test_dataset)\r\n"
      ],
      "execution_count": null,
      "outputs": []
    },
    {
      "cell_type": "code",
      "metadata": {
        "colab": {
          "base_uri": "https://localhost:8080/"
        },
        "id": "0aCjnV12u5IR",
        "outputId": "61172339-5391-4ffd-ea44-f56e6042daf2"
      },
      "source": [
        "# Model Accuracy, how often is the classifier correct\r\n",
        "print(\"Accuracy:\",metrics.accuracy_score(y_test, y_pred_dtcModel))\r\n",
        "print(confusion_matrix(y_test.argmax(axis=1), y_pred_dtcModel.argmax(axis=1)))\r\n",
        "print(metrics.classification_report(y_test, y_pred_dtcModel,target_names=['8PSK', 'AM-DSB', 'BPSK', 'CPFSK', 'GFSK', 'PAM4', 'QAM16', 'QAM64', 'QPSK', 'WBFM'] ))"
      ],
      "execution_count": null,
      "outputs": [
        {
          "output_type": "stream",
          "text": [
            "Accuracy: 0.17616944444444443\n",
            "[[ 4313  3341  3158  2849  2936  2988  4444  4479  4151  3210]\n",
            " [ 3340  5600  3392  3474  4016  2943  2580  2217  3343  5164]\n",
            " [ 3150  3482  6473  2703  2986  5034  2870  2666  3242  3296]\n",
            " [ 2947  3329  2639 10392  3123  2415  2597  2318  2831  3282]\n",
            " [ 3147  4136  2969  3264  7423  2692  2866  2609  3016  4129]\n",
            " [ 3042  3042  5107  2421  2626  7722  3085  3098  2960  2897]\n",
            " [ 4433  2585  2883  2466  2762  3151  5183  5724  4367  2609]\n",
            " [ 4655  2169  2716  2265  2533  3127  5582  6249  4392  2193]\n",
            " [ 4332  3338  3161  2832  2916  3021  4352  4316  4450  3195]\n",
            " [ 3334  5269  3376  3260  4188  2938  2587  2315  3196  5616]]\n",
            "              precision    recall  f1-score   support\n",
            "\n",
            "        8PSK       0.12      0.12      0.12     35869\n",
            "      AM-DSB       0.15      0.16      0.15     36069\n",
            "        BPSK       0.18      0.18      0.18     35902\n",
            "       CPFSK       0.29      0.29      0.29     35873\n",
            "        GFSK       0.21      0.20      0.21     36251\n",
            "        PAM4       0.21      0.21      0.21     36000\n",
            "       QAM16       0.14      0.14      0.14     36163\n",
            "       QAM64       0.17      0.17      0.17     35881\n",
            "        QPSK       0.12      0.12      0.12     35913\n",
            "        WBFM       0.16      0.16      0.16     36079\n",
            "\n",
            "   micro avg       0.18      0.18      0.18    360000\n",
            "   macro avg       0.18      0.18      0.18    360000\n",
            "weighted avg       0.18      0.18      0.18    360000\n",
            " samples avg       0.18      0.18      0.18    360000\n",
            "\n"
          ],
          "name": "stdout"
        }
      ]
    },
    {
      "cell_type": "markdown",
      "metadata": {
        "id": "VciYrP4vugeQ"
      },
      "source": [
        "#Evaluation"
      ]
    },
    {
      "cell_type": "code",
      "metadata": {
        "colab": {
          "base_uri": "https://localhost:8080/",
          "height": 1000
        },
        "id": "1CVIeXUfs83n",
        "outputId": "d510243e-60f0-4251-837d-ab40760b1357"
      },
      "source": [
        "plot_results(y_pred_dtcModel, y_test, snr_test)\r\n",
        "conf = np.zeros([len(classes),len(classes)])\r\n",
        "#normalize confusion matrix\r\n",
        "confnorm = np.zeros([len(classes),len(classes)])\r\n",
        " \r\n",
        "#this puts all the data into an 11 x 11 matrix for plotting.\r\n",
        "for i in range(0,X_test.shape[0]):\r\n",
        "    # j is first value in list\r\n",
        "    j = list(y_test[i,:]).index(1)\r\n",
        "    #np.argmax gives the index of the max value in the array, assuming flattened into single vector\r\n",
        "    k = int(np.argmax(y_pred_dtcModel[i,:]))\r\n",
        "    #why add 1 to each value??\r\n",
        "    conf[j,k] = conf[j,k] + 1\r\n",
        " \r\n",
        "#takes the data to plot and normalizes it\r\n",
        "for i in range(0,len(classes)):\r\n",
        "    confnorm[i,:] = conf[i,:] / np.sum(conf[i,:])\r\n",
        "print (confnorm)\r\n",
        "print (classes)\r\n",
        "plot_confusion_matrix(confnorm, labels=classes)"
      ],
      "execution_count": null,
      "outputs": [
        {
          "output_type": "stream",
          "text": [
            "[[0.12024311 0.0931445  0.0880426  0.07942792 0.08185341 0.08330313\n",
            "  0.12389529 0.12487106 0.11572667 0.08949232]\n",
            " [0.09260029 0.15525798 0.09404198 0.0963154  0.11134215 0.08159361\n",
            "  0.07152957 0.06146552 0.09268347 0.14317004]\n",
            " [0.08773884 0.09698624 0.18029636 0.07528828 0.08317085 0.14021503\n",
            "  0.07993984 0.0742577  0.09030138 0.09180547]\n",
            " [0.08215092 0.0927996  0.07356508 0.28968862 0.08705712 0.06732083\n",
            "  0.07239428 0.06461684 0.07891729 0.09148942]\n",
            " [0.0868114  0.1140934  0.08190119 0.0900389  0.20476677 0.07426002\n",
            "  0.07905989 0.07197043 0.0831977  0.11390031]\n",
            " [0.0845     0.0845     0.14186111 0.06725    0.07294444 0.2145\n",
            "  0.08569444 0.08605556 0.08222222 0.08047222]\n",
            " [0.12258386 0.0714819  0.07972237 0.06819125 0.07637641 0.08713326\n",
            "  0.14332329 0.15828333 0.12075879 0.07214556]\n",
            " [0.1297344  0.06044982 0.07569466 0.06312533 0.07059447 0.08714919\n",
            "  0.1555698  0.17415903 0.12240462 0.0611187 ]\n",
            " [0.12062484 0.09294684 0.08801827 0.07885724 0.08119622 0.08411996\n",
            "  0.12118174 0.12017932 0.12391056 0.088965  ]\n",
            " [0.09240833 0.14604063 0.09357244 0.09035727 0.11607861 0.08143241\n",
            "  0.07170376 0.06416475 0.08858339 0.15565842]]\n",
            "['8PSK', 'AM-DSB', 'BPSK', 'CPFSK', 'GFSK', 'PAM4', 'QAM16', 'QAM64', 'QPSK', 'WBFM']\n"
          ],
          "name": "stdout"
        },
        {
          "output_type": "display_data",
          "data": {
            "image/png": "[encoded data removed]",
            "text/plain": [
              "<Figure size 432x288 with 1 Axes>"
            ]
          },
          "metadata": {
            "tags": [],
            "needs_background": "light"
          }
        },
        {
          "output_type": "display_data",
          "data": {
            "image/png": "[encoded data removed]",
            "text/plain": [
              "<Figure size 800x800 with 2 Axes>"
            ]
          },
          "metadata": {
            "tags": [],
            "needs_background": "light"
          }
        }
      ]
    },
    {
      "cell_type": "code",
      "metadata": {
        "colab": {
          "base_uri": "https://localhost:8080/",
          "height": 81
        },
        "id": "ZhBiPAAufCvj",
        "outputId": "7d9b93cc-e676-48e4-961b-408bdf9eaf96"
      },
      "source": [
        "print_results(y_pred_dtcModel, y_test, snr_test)\n"
      ],
      "execution_count": null,
      "outputs": [
        {
          "output_type": "execute_result",
          "data": {
            "text/html": [
              "<div>\n",
              "<style scoped>\n",
              "    .dataframe tbody tr th:only-of-type {\n",
              "        vertical-align: middle;\n",
              "    }\n",
              "\n",
              "    .dataframe tbody tr th {\n",
              "        vertical-align: top;\n",
              "    }\n",
              "\n",
              "    .dataframe thead th {\n",
              "        text-align: right;\n",
              "    }\n",
              "</style>\n",
              "<table border=\"1\" class=\"dataframe\">\n",
              "  <thead>\n",
              "    <tr style=\"text-align: right;\">\n",
              "      <th></th>\n",
              "      <th>-20</th>\n",
              "      <th>-18</th>\n",
              "      <th>-16</th>\n",
              "      <th>-14</th>\n",
              "      <th>-12</th>\n",
              "      <th>-10</th>\n",
              "      <th>-8</th>\n",
              "      <th>-6</th>\n",
              "      <th>-4</th>\n",
              "      <th>-2</th>\n",
              "      <th>0</th>\n",
              "      <th>2</th>\n",
              "      <th>4</th>\n",
              "      <th>6</th>\n",
              "      <th>8</th>\n",
              "      <th>10</th>\n",
              "      <th>12</th>\n",
              "      <th>14</th>\n",
              "      <th>16</th>\n",
              "      <th>18</th>\n",
              "    </tr>\n",
              "  </thead>\n",
              "  <tbody>\n",
              "    <tr>\n",
              "      <th>accuracy</th>\n",
              "      <td>10.13</td>\n",
              "      <td>10.33</td>\n",
              "      <td>10.07</td>\n",
              "      <td>10.24</td>\n",
              "      <td>9.71</td>\n",
              "      <td>10.21</td>\n",
              "      <td>10.15</td>\n",
              "      <td>10.52</td>\n",
              "      <td>11.09</td>\n",
              "      <td>12.02</td>\n",
              "      <td>13.09</td>\n",
              "      <td>14.24</td>\n",
              "      <td>16.03</td>\n",
              "      <td>18.68</td>\n",
              "      <td>22.33</td>\n",
              "      <td>26.83</td>\n",
              "      <td>30.67</td>\n",
              "      <td>34.18</td>\n",
              "      <td>35.84</td>\n",
              "      <td>36.62</td>\n",
              "    </tr>\n",
              "  </tbody>\n",
              "</table>\n",
              "</div>"
            ],
            "text/plain": [
              "            -20    -18    -16    -14   -12  ...     10     12     14     16     18\n",
              "accuracy  10.13  10.33  10.07  10.24  9.71  ...  26.83  30.67  34.18  35.84  36.62\n",
              "\n",
              "[1 rows x 20 columns]"
            ]
          },
          "metadata": {
            "tags": []
          },
          "execution_count": 19
        }
      ]
    },
    {
      "cell_type": "markdown",
      "metadata": {
        "id": "_OCdvKWGidxN"
      },
      "source": [
        "#Model Random Forest"
      ]
    },
    {
      "cell_type": "code",
      "metadata": {
        "id": "1LiGcu380tnI"
      },
      "source": [
        "X_train = data[train_examples]\n",
        "X_test = data[test_examples]\n",
        "\n",
        "#labal as 1 at the spacific class which get from first column of label\n",
        "y_train = LB().fit_transform(labels[train_examples][:,0])\n",
        "y_test = LB().fit_transform(labels[test_examples][:,0])\n",
        "\n",
        "#labal as SNR which get from second column of label\n",
        "snr_train = labels[train_examples][:,1].astype(int)\n",
        "snr_test = labels[test_examples][:,1].astype(int)\n",
        "\n",
        "print(y_train.shape)\n",
        "print(snr_train.shape)\n"
      ],
      "execution_count": null,
      "outputs": []
    },
    {
      "cell_type": "code",
      "metadata": {
        "id": "y-XtaouUiixb"
      },
      "source": [
        "#Create a Gaussian Classifier\r\n",
        "clf=RandomForestClassifier(n_estimators=100,n_jobs = 1)\r\n",
        "nsamples, nx, ny = data[train_examples].shape\r\n",
        "#d2_train_dataset = data[train_examples].reshape((nsamples,nx*ny))\r\n",
        "#Train the model using the training sets y_pred=clf.predict(X_test)\r\n",
        "clf.fit(data[train_examples].reshape((nsamples,nx*ny)), LB().fit_transform(labels[train_examples][:,0]))\r\n",
        "\r\n",
        "nsamples, nx, ny = data[test_examples].shape\r\n",
        "#d2_test_dataset = data[test_examples].reshape((nsamples,nx*ny))\r\n",
        "y_pred_mrfModel = clf.predict(data[test_examples].reshape((nsamples,nx*ny)))\r\n",
        "\r\n",
        "from sklearn import metrics\r\n",
        "# Model Accuracy, how often is the classifier correct?\r\n",
        "print(\"Accuracy:\",metrics.accuracy_score(LB().fit_transform(labels[test_examples][:,0]), y_pred_mrfModel))\r\n",
        "print(confusion_matrix(LB().fit_transform(labels[test_examples][:,0]).argmax(axis=1), y_pred_mrfModel.argmax(axis=1)))\r\n",
        "print(metrics.classification_report(LB().fit_transform(labels[test_examples][:,0]), y_pred_mrfModel,target_names=['8PSK', 'AM-DSB', 'BPSK', 'CPFSK', 'GFSK', 'PAM4', 'QAM16', 'QAM64', 'QPSK', 'WBFM'] ))"
      ],
      "execution_count": null,
      "outputs": []
    },
    {
      "cell_type": "markdown",
      "metadata": {
        "id": "BEKbiCo5usNt"
      },
      "source": [
        "#Evaluation"
      ]
    },
    {
      "cell_type": "code",
      "metadata": {
        "id": "6xAs0rNgutI4"
      },
      "source": [
        "plot_results(y_pred_mrfModel, LB().fit_transform(labels[test_examples][:,0]), labels[test_examples][:,1].astype(int))\r\n",
        "conf = np.zeros([len(classes),len(classes)])\r\n",
        "#normalize confusion matrix\r\n",
        "confnorm = np.zeros([len(classes),len(classes)])\r\n",
        " \r\n",
        "#this puts all the data into an 11 x 11 matrix for plotting.\r\n",
        "for i in range(0,data[test_examples].shape[0]):\r\n",
        "    # j is first value in list\r\n",
        "    j = list(LB().fit_transform(labels[test_examples][:,0])[i,:]).index(1)\r\n",
        "    #np.argmax gives the index of the max value in the array, assuming flattened into single vector\r\n",
        "    k = int(np.argmax(y_pred_mrfModel[i,:]))\r\n",
        "    #why add 1 to each value??\r\n",
        "    conf[j,k] = conf[j,k] + 1\r\n",
        " \r\n",
        "#takes the data to plot and normalizes it\r\n",
        "for i in range(0,len(classes)):\r\n",
        "    confnorm[i,:] = conf[i,:] / np.sum(conf[i,:])\r\n",
        "print (confnorm)\r\n",
        "print (classes)\r\n",
        "plot_confusion_matrix(confnorm, labels=classes)"
      ],
      "execution_count": null,
      "outputs": []
    },
    {
      "cell_type": "code",
      "metadata": {
        "id": "OiJjrvpTfFm4"
      },
      "source": [
        "print_results(y_pred_mrfModel, LB().fit_transform(labels[test_examples][:,0]), labels[test_examples][:,1].astype(int))"
      ],
      "execution_count": null,
      "outputs": []
    },
    {
      "cell_type": "code",
      "metadata": {
        "id": "ilUBXPu-xEov"
      },
      "source": [
        ""
      ],
      "execution_count": null,
      "outputs": []
    }
  ]
}