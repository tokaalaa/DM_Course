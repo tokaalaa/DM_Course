{
  "nbformat": 4,
  "nbformat_minor": 0,
  "metadata": {
    "accelerator": "GPU",
    "colab": {
      "name": "DM1.ipynb",
      "provenance": [],
      "collapsed_sections": [],
      "toc_visible": true,
      "include_colab_link": true
    },
    "kernelspec": {
      "display_name": "Python 3",
      "name": "python3"
    }
  },
  "cells": [
    {
      "cell_type": "markdown",
      "metadata": {
        "id": "view-in-github",
        "colab_type": "text"
      },
      "source": [
        "<a href=\"https://colab.research.google.com/github/tokaalaa/DM_Course/blob/main/DM1.ipynb\" target=\"_parent\"><img src=\"https://colab.research.google.com/assets/colab-badge.svg\" alt=\"Open In Colab\"/></a>"
      ]
    },
    {
      "cell_type": "markdown",
      "metadata": {
        "id": "gx3_mR57Y_Hw"
      },
      "source": [
        "# Imports"
      ]
    },
    {
      "cell_type": "code",
      "metadata": {
        "id": "ZKxDGwIIX0JL"
      },
      "source": [
        "# Import the dependencies\n",
        "import re\n",
        "import numpy\n",
        "import numpy as np\n",
        "from matplotlib import pyplot\n",
        "from sklearn.model_selection import train_test_split\n",
        "from sklearn.neighbors import KNeighborsClassifier\n",
        "from sklearn.metrics import classification_report\n",
        "from sklearn.metrics import accuracy_score\n"
      ],
      "execution_count": null,
      "outputs": []
    },
    {
      "cell_type": "code",
      "metadata": {
        "id": "FFzIiGBdZEkl",
        "colab": {
          "base_uri": "https://localhost:8080/"
        },
        "outputId": "5ccbf766-e01a-4248-a3e7-b7fbc5c01cdb"
      },
      "source": [
        "from google.colab import drive\n",
        "drive.mount('/content/drive', force_remount=True)"
      ],
      "execution_count": null,
      "outputs": [
        {
          "output_type": "stream",
          "text": [
            "Mounted at /content/drive\n"
          ],
          "name": "stdout"
        }
      ]
    },
    {
      "cell_type": "markdown",
      "metadata": {
        "id": "2CgzXyp0dNId"
      },
      "source": [
        "#2-Generate the Data Matrix and the Label vector"
      ]
    },
    {
      "cell_type": "code",
      "metadata": {
        "id": "MRo0pezddS05"
      },
      "source": [
        "def read_pgm(filename):\n",
        "    with open(filename, 'rb') as f:\n",
        "        buffer = f.read()\n",
        "    try:\n",
        "        header, width, height, maxval = re.search(\n",
        "            b\"(^P5\\s(?:\\s*#.*[\\r\\n])*\"\n",
        "            b\"(\\d+)\\s(?:\\s*#.*[\\r\\n])*\"\n",
        "            b\"(\\d+)\\s(?:\\s*#.*[\\r\\n])*\"\n",
        "            b\"(\\d+)\\s(?:\\s*#.*[\\r\\n]\\s)*)\", buffer).groups()\n",
        "    except AttributeError:\n",
        "        raise ValueError(\"Not a raw PGM file: '%s'\" % filename)\n",
        "    \n",
        "    return numpy.frombuffer(buffer,\n",
        "                            dtype='u1',\n",
        "                            count=int(width)*int(height),\n",
        "                            offset=len(header)\n",
        "                            ).flatten()\n",
        "Data_Matrix = [] \n",
        "label = []                           \n",
        "for j in range(40):                            \n",
        "  for i in range(10):\n",
        "    image = read_pgm(\"/content/drive/My Drive/Face_Recognition/orl_dataset/s\"+ str(j+1)+ \"/\" + str(i+1) + \".pgm\")\n",
        "    label.append(j+1)\n",
        "    Data_Matrix.append(image)\n",
        "  "
      ],
      "execution_count": null,
      "outputs": []
    },
    {
      "cell_type": "code",
      "metadata": {
        "id": "DkB7rgH5eZ5B",
        "colab": {
          "base_uri": "https://localhost:8080/"
        },
        "outputId": "b387cfda-bfc9-452d-ebc3-718ed5039153"
      },
      "source": [
        "Data_Matrix = np.array(Data_Matrix)\n",
        "print(Data_Matrix.shape)"
      ],
      "execution_count": null,
      "outputs": [
        {
          "output_type": "stream",
          "text": [
            "(400, 10304)\n"
          ],
          "name": "stdout"
        }
      ]
    },
    {
      "cell_type": "code",
      "metadata": {
        "id": "pAIyxcFosk25",
        "colab": {
          "base_uri": "https://localhost:8080/"
        },
        "outputId": "e97adb93-6ec7-4ebb-b98f-2c8ed1d418a7"
      },
      "source": [
        "label = np.array(label)\n",
        "print(label.shape)"
      ],
      "execution_count": null,
      "outputs": [
        {
          "output_type": "stream",
          "text": [
            "(400,)\n"
          ],
          "name": "stdout"
        }
      ]
    },
    {
      "cell_type": "markdown",
      "metadata": {
        "id": "mVdfF52PsFM3"
      },
      "source": [
        "#3-Split the Dataset into Training and Test sets"
      ]
    },
    {
      "cell_type": "code",
      "metadata": {
        "id": "HxkvpDeEsJy2"
      },
      "source": [
        "def split_data(Data_Matrix, label,way = 1):\n",
        "    if way == 1:\n",
        "      Train_Data, Test_Data = Data_Matrix[::2], Data_Matrix[1::2]\n",
        "      Train_Label, Test_Label = label[::2], label[1::2]\n",
        "    else:\n",
        "      Train_Data, Test_Data, Train_Label, Test_Label = train_test_split(Data_Matrix, label, \n",
        "                                                    train_size=0.7)\n",
        "    return Train_Data, Test_Data, Train_Label, Test_Label"
      ],
      "execution_count": null,
      "outputs": []
    },
    {
      "cell_type": "code",
      "metadata": {
        "id": "CrXgLp-dtZAD",
        "colab": {
          "base_uri": "https://localhost:8080/"
        },
        "outputId": "620c8e5e-00c2-4a2a-d07d-313e87f2ccda"
      },
      "source": [
        "Train_Data, Test_Data, Train_Label, Test_Label = split_data(Data_Matrix, label,way = 1)\n",
        "\n",
        "print(Train_Data.shape)\n",
        "print(Train_Label.shape)"
      ],
      "execution_count": null,
      "outputs": [
        {
          "output_type": "stream",
          "text": [
            "(200, 10304)\n",
            "(200,)\n"
          ],
          "name": "stdout"
        }
      ]
    },
    {
      "cell_type": "markdown",
      "metadata": {
        "id": "nEmdxTlDvgTL"
      },
      "source": [
        "#4-Classification using PCA"
      ]
    },
    {
      "cell_type": "code",
      "metadata": {
        "id": "ukK8b-PxJnIG"
      },
      "source": [
        "def PCA(Train_Data, Test_Data, Train_Label, Test_Label, alpha, k = 1):\n",
        "    mean = numpy.mean(Train_Data, axis=0)\n",
        "    Z = Train_Data - mean\n",
        "    COV = (np.dot(Z.T,Z)) / Z.shape[0]\n",
        "    eigvals, eigvecs = np.linalg.eigh(COV)\n",
        "    eigvals = np.diag(eigvals)\n",
        "    \n",
        "    explained_variances = []\n",
        "    for i in range(len(eigvals)):\n",
        "      explained_variances.append(np.diag(eigvals)[i] / np.sum(np.diag(eigvals)))\n",
        "    \n",
        "    explained_variances.reverse()\n",
        "    eigvecs[:] = eigvecs[::-1]\n",
        "\n",
        "    out = 0\n",
        "    for i in range(len(explained_variances)):\n",
        "      out = out + explained_variances[i]\n",
        "      if out > alpha:\n",
        "        break\n",
        "    \n",
        "    reduceEigvecs = eigvecs.T[i]\n",
        "    for j in range(i):\n",
        "      reduceEigvecs = np.vstack((reduceEigvecs.T,eigvecs.T[i-1-j])).T\n",
        "    \n",
        "    A = np.dot(reduceEigvecs.T ,Train_Data.T)\n",
        "    \n",
        "    A2 = np.dot(reduceEigvecs.T ,Test_Data.T)\n",
        "\n",
        "    #Create KNN Classifier\n",
        "    knn = KNeighborsClassifier(n_neighbors=k)\n",
        "    #Train the model using the training sets\n",
        "    knn.fit(A.T, Train_Label)\n",
        "    #Predict the response for test dataset\n",
        "    y_pred = knn.predict(A2.T)\n",
        "\n",
        "    return y_pred"
      ],
      "execution_count": null,
      "outputs": []
    },
    {
      "cell_type": "markdown",
      "metadata": {
        "id": "tpqGrOvZfGf3"
      },
      "source": [
        "##For k = 1"
      ]
    },
    {
      "cell_type": "code",
      "metadata": {
        "id": "2sSm-jETZEOv"
      },
      "source": [
        "y_pred = PCA(Train_Data, Test_Data, Train_Label, Test_Label, alpha=0.99, k = 1)"
      ],
      "execution_count": null,
      "outputs": []
    },
    {
      "cell_type": "markdown",
      "metadata": {
        "id": "a0K9Fegoc7xJ"
      },
      "source": [
        "##d- Accuracy for every value of alpha separately"
      ]
    },
    {
      "cell_type": "code",
      "metadata": {
        "id": "amLvnGpHRS6O",
        "colab": {
          "base_uri": "https://localhost:8080/"
        },
        "outputId": "8963f878-745b-460b-b4af-8d546ab1514b"
      },
      "source": [
        "#for 0.8\n",
        "print(classification_report(Test_Label, y_pred))\n",
        "accuracy_score(Test_Label, y_pred)"
      ],
      "execution_count": null,
      "outputs": [
        {
          "output_type": "stream",
          "text": [
            "              precision    recall  f1-score   support\n",
            "\n",
            "           1       0.33      0.20      0.25         5\n",
            "           2       1.00      0.40      0.57         5\n",
            "           3       0.38      0.60      0.46         5\n",
            "           4       1.00      0.60      0.75         5\n",
            "           5       0.25      0.80      0.38         5\n",
            "           6       0.75      0.60      0.67         5\n",
            "           7       1.00      0.80      0.89         5\n",
            "           8       1.00      1.00      1.00         5\n",
            "           9       0.60      0.60      0.60         5\n",
            "          10       1.00      0.60      0.75         5\n",
            "          11       0.75      0.60      0.67         5\n",
            "          12       0.75      0.60      0.67         5\n",
            "          13       1.00      0.20      0.33         5\n",
            "          14       1.00      0.60      0.75         5\n",
            "          15       0.75      0.60      0.67         5\n",
            "          16       0.67      0.40      0.50         5\n",
            "          17       0.60      0.60      0.60         5\n",
            "          18       0.67      0.40      0.50         5\n",
            "          19       0.44      0.80      0.57         5\n",
            "          20       1.00      0.20      0.33         5\n",
            "          21       1.00      0.40      0.57         5\n",
            "          22       0.67      0.40      0.50         5\n",
            "          23       0.60      0.60      0.60         5\n",
            "          24       0.60      0.60      0.60         5\n",
            "          25       0.40      0.40      0.40         5\n",
            "          26       0.20      0.40      0.27         5\n",
            "          27       1.00      1.00      1.00         5\n",
            "          28       1.00      0.20      0.33         5\n",
            "          29       0.56      1.00      0.71         5\n",
            "          30       0.36      1.00      0.53         5\n",
            "          31       0.50      0.60      0.55         5\n",
            "          32       0.83      1.00      0.91         5\n",
            "          33       1.00      0.20      0.33         5\n",
            "          34       0.71      1.00      0.83         5\n",
            "          35       0.62      1.00      0.77         5\n",
            "          36       1.00      0.60      0.75         5\n",
            "          37       0.50      0.20      0.29         5\n",
            "          38       0.71      1.00      0.83         5\n",
            "          39       0.57      0.80      0.67         5\n",
            "          40       0.00      0.00      0.00         5\n",
            "\n",
            "    accuracy                           0.59       200\n",
            "   macro avg       0.69      0.59      0.58       200\n",
            "weighted avg       0.69      0.59      0.58       200\n",
            "\n"
          ],
          "name": "stdout"
        },
        {
          "output_type": "execute_result",
          "data": {
            "text/plain": [
              "0.59"
            ]
          },
          "metadata": {
            "tags": []
          },
          "execution_count": 47
        }
      ]
    },
    {
      "cell_type": "code",
      "metadata": {
        "id": "7x_m5xxpRPgt",
        "colab": {
          "base_uri": "https://localhost:8080/"
        },
        "outputId": "76e6ce69-15ba-4c01-c73d-db92d4bc4f53"
      },
      "source": [
        "#for 0.85\n",
        "print(classification_report(Test_Label, y_pred))"
      ],
      "execution_count": null,
      "outputs": [
        {
          "output_type": "stream",
          "text": [
            "              precision    recall  f1-score   support\n",
            "\n",
            "           1       0.50      0.20      0.29         5\n",
            "           2       1.00      0.40      0.57         5\n",
            "           3       0.43      0.60      0.50         5\n",
            "           4       1.00      0.60      0.75         5\n",
            "           5       0.33      1.00      0.50         5\n",
            "           6       0.71      1.00      0.83         5\n",
            "           7       0.83      1.00      0.91         5\n",
            "           8       1.00      0.80      0.89         5\n",
            "           9       1.00      0.80      0.89         5\n",
            "          10       1.00      0.80      0.89         5\n",
            "          11       1.00      0.40      0.57         5\n",
            "          12       0.75      0.60      0.67         5\n",
            "          13       1.00      0.40      0.57         5\n",
            "          14       1.00      0.60      0.75         5\n",
            "          15       0.60      0.60      0.60         5\n",
            "          16       1.00      0.80      0.89         5\n",
            "          17       0.57      0.80      0.67         5\n",
            "          18       0.75      0.60      0.67         5\n",
            "          19       0.71      1.00      0.83         5\n",
            "          20       1.00      0.20      0.33         5\n",
            "          21       1.00      0.60      0.75         5\n",
            "          22       0.67      0.40      0.50         5\n",
            "          23       0.80      0.80      0.80         5\n",
            "          24       0.60      0.60      0.60         5\n",
            "          25       0.40      0.40      0.40         5\n",
            "          26       0.33      0.80      0.47         5\n",
            "          27       1.00      1.00      1.00         5\n",
            "          28       1.00      0.20      0.33         5\n",
            "          29       0.50      1.00      0.67         5\n",
            "          30       0.25      0.80      0.38         5\n",
            "          31       0.60      0.60      0.60         5\n",
            "          32       1.00      0.60      0.75         5\n",
            "          33       0.00      0.00      0.00         5\n",
            "          34       1.00      1.00      1.00         5\n",
            "          35       0.62      1.00      0.77         5\n",
            "          36       1.00      0.40      0.57         5\n",
            "          37       0.50      0.20      0.29         5\n",
            "          38       0.67      0.80      0.73         5\n",
            "          39       0.57      0.80      0.67         5\n",
            "          40       0.00      0.00      0.00         5\n",
            "\n",
            "    accuracy                           0.63       200\n",
            "   macro avg       0.72      0.63      0.62       200\n",
            "weighted avg       0.72      0.63      0.62       200\n",
            "\n"
          ],
          "name": "stdout"
        },
        {
          "output_type": "stream",
          "text": [
            "/usr/local/lib/python3.6/dist-packages/sklearn/metrics/_classification.py:1272: UndefinedMetricWarning: Precision and F-score are ill-defined and being set to 0.0 in labels with no predicted samples. Use `zero_division` parameter to control this behavior.\n",
            "  _warn_prf(average, modifier, msg_start, len(result))\n"
          ],
          "name": "stderr"
        }
      ]
    },
    {
      "cell_type": "code",
      "metadata": {
        "id": "R6QUtUUnUJqi",
        "colab": {
          "base_uri": "https://localhost:8080/"
        },
        "outputId": "313618c5-2c35-49d0-8505-768cb5faf1a4"
      },
      "source": [
        "accuracy_score(Test_Label, y_pred)"
      ],
      "execution_count": null,
      "outputs": [
        {
          "output_type": "execute_result",
          "data": {
            "text/plain": [
              "0.63"
            ]
          },
          "metadata": {
            "tags": []
          },
          "execution_count": 39
        }
      ]
    },
    {
      "cell_type": "code",
      "metadata": {
        "id": "ldqUiFnpRC4T",
        "colab": {
          "base_uri": "https://localhost:8080/"
        },
        "outputId": "07a10ac1-0c97-4b49-e0aa-4f1f98669a2f"
      },
      "source": [
        "#for 0.9\n",
        "print(classification_report(Test_Label, y_pred))\n",
        "accuracy_score(Test_Label, y_pred)"
      ],
      "execution_count": null,
      "outputs": [
        {
          "output_type": "stream",
          "text": [
            "              precision    recall  f1-score   support\n",
            "\n",
            "           1       0.50      0.20      0.29         5\n",
            "           2       1.00      0.40      0.57         5\n",
            "           3       0.67      0.80      0.73         5\n",
            "           4       0.75      0.60      0.67         5\n",
            "           5       0.31      0.80      0.44         5\n",
            "           6       0.80      0.80      0.80         5\n",
            "           7       0.83      1.00      0.91         5\n",
            "           8       0.83      1.00      0.91         5\n",
            "           9       1.00      0.60      0.75         5\n",
            "          10       1.00      0.80      0.89         5\n",
            "          11       1.00      0.60      0.75         5\n",
            "          12       1.00      0.60      0.75         5\n",
            "          13       1.00      0.40      0.57         5\n",
            "          14       1.00      0.60      0.75         5\n",
            "          15       0.80      0.80      0.80         5\n",
            "          16       0.80      0.80      0.80         5\n",
            "          17       0.80      0.80      0.80         5\n",
            "          18       0.50      0.60      0.55         5\n",
            "          19       0.50      1.00      0.67         5\n",
            "          20       1.00      0.20      0.33         5\n",
            "          21       0.67      0.40      0.50         5\n",
            "          22       0.67      0.40      0.50         5\n",
            "          23       0.75      0.60      0.67         5\n",
            "          24       0.75      0.60      0.67         5\n",
            "          25       0.60      0.60      0.60         5\n",
            "          26       0.50      0.80      0.62         5\n",
            "          27       1.00      1.00      1.00         5\n",
            "          28       1.00      0.20      0.33         5\n",
            "          29       0.44      0.80      0.57         5\n",
            "          30       0.45      1.00      0.62         5\n",
            "          31       0.50      0.60      0.55         5\n",
            "          32       1.00      0.80      0.89         5\n",
            "          33       1.00      0.40      0.57         5\n",
            "          34       0.83      1.00      0.91         5\n",
            "          35       0.62      1.00      0.77         5\n",
            "          36       1.00      0.60      0.75         5\n",
            "          37       1.00      0.40      0.57         5\n",
            "          38       0.62      1.00      0.77         5\n",
            "          39       0.44      0.80      0.57         5\n",
            "          40       0.20      0.20      0.20         5\n",
            "\n",
            "    accuracy                           0.67       200\n",
            "   macro avg       0.75      0.67      0.66       200\n",
            "weighted avg       0.75      0.67      0.66       200\n",
            "\n"
          ],
          "name": "stdout"
        },
        {
          "output_type": "execute_result",
          "data": {
            "text/plain": [
              "0.665"
            ]
          },
          "metadata": {
            "tags": []
          },
          "execution_count": 49
        }
      ]
    },
    {
      "cell_type": "code",
      "metadata": {
        "id": "foqQoj8QQoCV",
        "colab": {
          "base_uri": "https://localhost:8080/"
        },
        "outputId": "8b7dbfe6-3aba-4b94-d095-9f2f10f04b9e"
      },
      "source": [
        "#for 0.95\n",
        "print(classification_report(Test_Label, y_pred))\n",
        "accuracy_score(Test_Label, y_pred)"
      ],
      "execution_count": null,
      "outputs": [
        {
          "output_type": "stream",
          "text": [
            "              precision    recall  f1-score   support\n",
            "\n",
            "           1       1.00      0.40      0.57         5\n",
            "           2       1.00      0.80      0.89         5\n",
            "           3       0.71      1.00      0.83         5\n",
            "           4       1.00      0.80      0.89         5\n",
            "           5       0.33      0.80      0.47         5\n",
            "           6       0.83      1.00      0.91         5\n",
            "           7       1.00      1.00      1.00         5\n",
            "           8       0.80      0.80      0.80         5\n",
            "           9       1.00      0.60      0.75         5\n",
            "          10       1.00      0.80      0.89         5\n",
            "          11       1.00      0.80      0.89         5\n",
            "          12       1.00      1.00      1.00         5\n",
            "          13       1.00      0.60      0.75         5\n",
            "          14       1.00      0.60      0.75         5\n",
            "          15       0.80      0.80      0.80         5\n",
            "          16       1.00      0.80      0.89         5\n",
            "          17       1.00      1.00      1.00         5\n",
            "          18       0.67      0.80      0.73         5\n",
            "          19       0.62      1.00      0.77         5\n",
            "          20       1.00      0.20      0.33         5\n",
            "          21       0.67      0.40      0.50         5\n",
            "          22       1.00      0.40      0.57         5\n",
            "          23       1.00      0.60      0.75         5\n",
            "          24       1.00      0.80      0.89         5\n",
            "          25       0.57      0.80      0.67         5\n",
            "          26       0.67      0.80      0.73         5\n",
            "          27       1.00      1.00      1.00         5\n",
            "          28       1.00      0.20      0.33         5\n",
            "          29       0.67      0.80      0.73         5\n",
            "          30       0.50      0.80      0.62         5\n",
            "          31       1.00      0.80      0.89         5\n",
            "          32       1.00      0.80      0.89         5\n",
            "          33       1.00      0.40      0.57         5\n",
            "          34       0.83      1.00      0.91         5\n",
            "          35       0.62      1.00      0.77         5\n",
            "          36       1.00      0.80      0.89         5\n",
            "          37       0.75      0.60      0.67         5\n",
            "          38       0.56      1.00      0.71         5\n",
            "          39       0.36      1.00      0.53         5\n",
            "          40       0.00      0.00      0.00         5\n",
            "\n",
            "    accuracy                           0.74       200\n",
            "   macro avg       0.82      0.74      0.74       200\n",
            "weighted avg       0.82      0.74      0.74       200\n",
            "\n"
          ],
          "name": "stdout"
        },
        {
          "output_type": "execute_result",
          "data": {
            "text/plain": [
              "0.74"
            ]
          },
          "metadata": {
            "tags": []
          },
          "execution_count": 51
        }
      ]
    },
    {
      "cell_type": "code",
      "metadata": {
        "id": "K_bdJCTXa7OE",
        "colab": {
          "base_uri": "https://localhost:8080/"
        },
        "outputId": "bdd0016c-8529-4e5d-f33b-11f3da056b30"
      },
      "source": [
        "#for 0.99\n",
        "print(classification_report(Test_Label, y_pred))\n",
        "accuracy_score(Test_Label, y_pred)"
      ],
      "execution_count": null,
      "outputs": [
        {
          "output_type": "stream",
          "text": [
            "              precision    recall  f1-score   support\n",
            "\n",
            "           1       1.00      0.40      0.57         5\n",
            "           2       1.00      0.60      0.75         5\n",
            "           3       1.00      1.00      1.00         5\n",
            "           4       1.00      1.00      1.00         5\n",
            "           5       0.29      0.80      0.42         5\n",
            "           6       0.83      1.00      0.91         5\n",
            "           7       1.00      1.00      1.00         5\n",
            "           8       0.62      1.00      0.77         5\n",
            "           9       1.00      0.60      0.75         5\n",
            "          10       1.00      0.80      0.89         5\n",
            "          11       1.00      0.80      0.89         5\n",
            "          12       1.00      1.00      1.00         5\n",
            "          13       1.00      0.80      0.89         5\n",
            "          14       1.00      0.80      0.89         5\n",
            "          15       1.00      0.80      0.89         5\n",
            "          16       0.75      0.60      0.67         5\n",
            "          17       1.00      1.00      1.00         5\n",
            "          18       0.75      0.60      0.67         5\n",
            "          19       0.62      1.00      0.77         5\n",
            "          20       1.00      0.20      0.33         5\n",
            "          21       1.00      1.00      1.00         5\n",
            "          22       0.75      0.60      0.67         5\n",
            "          23       0.50      0.60      0.55         5\n",
            "          24       0.80      0.80      0.80         5\n",
            "          25       0.80      0.80      0.80         5\n",
            "          26       0.80      0.80      0.80         5\n",
            "          27       1.00      1.00      1.00         5\n",
            "          28       1.00      0.20      0.33         5\n",
            "          29       0.50      1.00      0.67         5\n",
            "          30       0.71      1.00      0.83         5\n",
            "          31       1.00      0.80      0.89         5\n",
            "          32       1.00      0.60      0.75         5\n",
            "          33       0.75      0.60      0.67         5\n",
            "          34       0.83      1.00      0.91         5\n",
            "          35       0.57      0.80      0.67         5\n",
            "          36       1.00      0.80      0.89         5\n",
            "          37       1.00      0.80      0.89         5\n",
            "          38       0.83      1.00      0.91         5\n",
            "          39       0.57      0.80      0.67         5\n",
            "          40       0.00      0.00      0.00         5\n",
            "\n",
            "    accuracy                           0.77       200\n",
            "   macro avg       0.83      0.77      0.77       200\n",
            "weighted avg       0.83      0.77      0.77       200\n",
            "\n"
          ],
          "name": "stdout"
        },
        {
          "output_type": "execute_result",
          "data": {
            "text/plain": [
              "0.77"
            ]
          },
          "metadata": {
            "tags": []
          },
          "execution_count": 56
        }
      ]
    },
    {
      "cell_type": "markdown",
      "metadata": {
        "id": "cmq5K4_ecZjr"
      },
      "source": [
        "##e- relation between alpha and the classification accuracy"
      ]
    },
    {
      "cell_type": "code",
      "metadata": {
        "id": "DScyT32VYcHn",
        "colab": {
          "base_uri": "https://localhost:8080/",
          "height": 282
        },
        "outputId": "d7b1df75-793a-4767-eb82-174c49e20433"
      },
      "source": [
        "from matplotlib import pyplot as plt\n",
        "\n",
        "plt.plot([0.8, 0.85, 0.9, 0.95], [59, 63, 66.5, 74])"
      ],
      "execution_count": null,
      "outputs": [
        {
          "output_type": "execute_result",
          "data": {
            "text/plain": [
              "[<matplotlib.lines.Line2D at 0x7fd00af2e6a0>]"
            ]
          },
          "metadata": {
            "tags": []
          },
          "execution_count": 58
        },
        {
          "output_type": "display_data",
          "data": {
            "image/png": "[encoded data removed]",
            "text/plain": [
              "<Figure size 432x288 with 1 Axes>"
            ]
          },
          "metadata": {
            "tags": []
          }
        }
      ]
    },
    {
      "cell_type": "markdown",
      "metadata": {
        "id": "iLrVuOFccmW8"
      },
      "source": [
        "## For k = 3"
      ]
    },
    {
      "cell_type": "code",
      "metadata": {
        "id": "seD41OD6crK4"
      },
      "source": [
        "y_pred1 = PCA(Train_Data, Test_Data, Train_Label, Test_Label, alpha=0.95, k = 3)\n",
        "y_pred2 = PCA(Train_Data, Test_Data, Train_Label, Test_Label, alpha=0.9, k = 3)\n",
        "y_pred3 = PCA(Train_Data, Test_Data, Train_Label, Test_Label, alpha=0.85, k = 3)\n",
        "y_pred4 = PCA(Train_Data, Test_Data, Train_Label, Test_Label, alpha=0.8, k = 3)"
      ],
      "execution_count": null,
      "outputs": []
    },
    {
      "cell_type": "code",
      "metadata": {
        "id": "w3jo5STLc3BF"
      },
      "source": [
        "acc1 = accuracy_score(Test_Label, y_pred1)\n",
        "acc2 = accuracy_score(Test_Label, y_pred2)\n",
        "acc3 = accuracy_score(Test_Label, y_pred3)\n",
        "acc4 = accuracy_score(Test_Label, y_pred4)"
      ],
      "execution_count": null,
      "outputs": []
    },
    {
      "cell_type": "code",
      "metadata": {
        "id": "ctR2gYk1dGg2",
        "colab": {
          "base_uri": "https://localhost:8080/",
          "height": 353
        },
        "outputId": "f0ffa468-cf5f-4ba8-969b-4fc292faee2b"
      },
      "source": [
        "print(acc1)\n",
        "print(acc2)\n",
        "print(acc3)\n",
        "print(acc4)\n",
        "\n",
        "plt.plot([0.8, 0.85, 0.9, 0.95], [acc4, acc3, acc2, acc1])"
      ],
      "execution_count": null,
      "outputs": [
        {
          "output_type": "stream",
          "text": [
            "0.6\n",
            "0.56\n",
            "0.515\n",
            "0.44\n"
          ],
          "name": "stdout"
        },
        {
          "output_type": "execute_result",
          "data": {
            "text/plain": [
              "[<matplotlib.lines.Line2D at 0x7fd00ae28da0>]"
            ]
          },
          "metadata": {
            "tags": []
          },
          "execution_count": 61
        },
        {
          "output_type": "display_data",
          "data": {
            "image/png": "[encoded data removed]",
            "text/plain": [
              "<Figure size 432x288 with 1 Axes>"
            ]
          },
          "metadata": {
            "tags": []
          }
        }
      ]
    },
    {
      "cell_type": "markdown",
      "metadata": {
        "id": "r6xaLj9ddmF-"
      },
      "source": [
        "##For k = 5"
      ]
    },
    {
      "cell_type": "code",
      "metadata": {
        "id": "Tdts_Z0udsNU"
      },
      "source": [
        "y_pred1 = PCA(Train_Data, Test_Data, Train_Label, Test_Label, alpha=0.95, k = 5)\n",
        "y_pred2 = PCA(Train_Data, Test_Data, Train_Label, Test_Label, alpha=0.9, k = 5)\n",
        "y_pred3 = PCA(Train_Data, Test_Data, Train_Label, Test_Label, alpha=0.85, k = 5)\n",
        "y_pred4 = PCA(Train_Data, Test_Data, Train_Label, Test_Label, alpha=0.8, k = 5)"
      ],
      "execution_count": null,
      "outputs": []
    },
    {
      "cell_type": "code",
      "metadata": {
        "id": "YZ7afwg2dwRQ"
      },
      "source": [
        "acc51 = accuracy_score(Test_Label, y_pred1)\n",
        "acc52 = accuracy_score(Test_Label, y_pred2)\n",
        "acc53 = accuracy_score(Test_Label, y_pred3)\n",
        "acc54 = accuracy_score(Test_Label, y_pred4)"
      ],
      "execution_count": null,
      "outputs": []
    },
    {
      "cell_type": "code",
      "metadata": {
        "id": "FtC3JSpbdx8c",
        "colab": {
          "base_uri": "https://localhost:8080/",
          "height": 353
        },
        "outputId": "56be8723-3daa-4f4a-d6b5-75a89872b6a5"
      },
      "source": [
        "print(acc51)\n",
        "print(acc52)\n",
        "print(acc53)\n",
        "print(acc54)\n",
        "\n",
        "plt.plot([0.8, 0.85, 0.9, 0.95], [acc54, acc53, acc52, acc51])"
      ],
      "execution_count": null,
      "outputs": [
        {
          "output_type": "stream",
          "text": [
            "0.585\n",
            "0.555\n",
            "0.45\n",
            "0.445\n"
          ],
          "name": "stdout"
        },
        {
          "output_type": "execute_result",
          "data": {
            "text/plain": [
              "[<matplotlib.lines.Line2D at 0x7fd00ad9f240>]"
            ]
          },
          "metadata": {
            "tags": []
          },
          "execution_count": 64
        },
        {
          "output_type": "display_data",
          "data": {
            "image/png": "[encoded data removed]",
            "text/plain": [
              "<Figure size 432x288 with 1 Axes>"
            ]
          },
          "metadata": {
            "tags": []
          }
        }
      ]
    },
    {
      "cell_type": "markdown",
      "metadata": {
        "id": "2F4pDCtdeGdd"
      },
      "source": [
        "##For k = 7"
      ]
    },
    {
      "cell_type": "code",
      "metadata": {
        "id": "HCpAS64CeA3W"
      },
      "source": [
        "y_pred1 = PCA(Train_Data, Test_Data, Train_Label, Test_Label, alpha=0.95, k = 7)\n",
        "y_pred2 = PCA(Train_Data, Test_Data, Train_Label, Test_Label, alpha=0.9, k = 7)\n",
        "y_pred3 = PCA(Train_Data, Test_Data, Train_Label, Test_Label, alpha=0.85, k = 7)\n",
        "y_pred4 = PCA(Train_Data, Test_Data, Train_Label, Test_Label, alpha=0.8, k = 7)"
      ],
      "execution_count": null,
      "outputs": []
    },
    {
      "cell_type": "code",
      "metadata": {
        "id": "UTKPnENUeJvU"
      },
      "source": [
        "acc71 = accuracy_score(Test_Label, y_pred1)\n",
        "acc72 = accuracy_score(Test_Label, y_pred2)\n",
        "acc73 = accuracy_score(Test_Label, y_pred3)\n",
        "acc74 = accuracy_score(Test_Label, y_pred4)"
      ],
      "execution_count": null,
      "outputs": []
    },
    {
      "cell_type": "code",
      "metadata": {
        "id": "dspbvBd3eK0D",
        "colab": {
          "base_uri": "https://localhost:8080/",
          "height": 353
        },
        "outputId": "a6804549-6697-4d0a-9240-74ae30bff0b4"
      },
      "source": [
        "print(acc71)\n",
        "print(acc72)\n",
        "print(acc73)\n",
        "print(acc74)\n",
        "\n",
        "plt.plot([0.8, 0.85, 0.9, 0.95], [acc74, acc73, acc72, acc71])"
      ],
      "execution_count": null,
      "outputs": [
        {
          "output_type": "stream",
          "text": [
            "0.545\n",
            "0.51\n",
            "0.4\n",
            "0.415\n"
          ],
          "name": "stdout"
        },
        {
          "output_type": "execute_result",
          "data": {
            "text/plain": [
              "[<matplotlib.lines.Line2D at 0x7fd00ad04fd0>]"
            ]
          },
          "metadata": {
            "tags": []
          },
          "execution_count": 67
        },
        {
          "output_type": "display_data",
          "data": {
            "image/png": "[encoded data removed]",
            "text/plain": [
              "<Figure size 432x288 with 1 Axes>"
            ]
          },
          "metadata": {
            "tags": []
          }
        }
      ]
    },
    {
      "cell_type": "markdown",
      "metadata": {
        "id": "9y9OmXSbegBB"
      },
      "source": [
        "##Plot accuracy against the K value"
      ]
    },
    {
      "cell_type": "code",
      "metadata": {
        "id": "9-hsy9T2elZV",
        "colab": {
          "base_uri": "https://localhost:8080/",
          "height": 264
        },
        "outputId": "e8572b77-895c-4535-b750-5407156fc0b7"
      },
      "source": [
        "import matplotlib.pyplot as plt\n",
        "\n",
        "plt.plot([0.8, 0.85, 0.9, 0.95], [0.59, 0.63, 0.665, 0.74], 'r') # for k = 1\n",
        "plt.plot([0.8, 0.85, 0.9, 0.95], [0.44, 0.515, 0.56, 0.6], 'b') # for k = 3\n",
        "plt.plot([0.8, 0.85, 0.9, 0.95], [0.445, 0.45, 0.555, 0.585], 'g') # for k = 5\n",
        "plt.plot([0.8, 0.85, 0.9, 0.95], [0.415, 0.4, 0.51, 0.545],'y') # for k = 7 \n",
        "plt.show()"
      ],
      "execution_count": null,
      "outputs": [
        {
          "output_type": "display_data",
          "data": {
            "image/png": "[encoded data removed]",
            "text/plain": [
              "<Figure size 432x288 with 1 Axes>"
            ]
          },
          "metadata": {
            "tags": []
          }
        }
      ]
    },
    {
      "cell_type": "markdown",
      "metadata": {
        "id": "YqWrKYu9j5kM"
      },
      "source": [
        "##For split with 70%"
      ]
    },
    {
      "cell_type": "code",
      "metadata": {
        "id": "Qkld9YDfk4CH"
      },
      "source": [
        "Train_Data, Test_Data, Train_Label, Test_Label = split_data(Data_Matrix, label,way = 0)"
      ],
      "execution_count": null,
      "outputs": []
    },
    {
      "cell_type": "code",
      "metadata": {
        "id": "wAzbllPej-gj"
      },
      "source": [
        "y_pred1 = PCA(Train_Data, Test_Data, Train_Label, Test_Label, alpha=0.95, k = 1)\n",
        "y_pred2 = PCA(Train_Data, Test_Data, Train_Label, Test_Label, alpha=0.9, k = 1)\n",
        "y_pred3 = PCA(Train_Data, Test_Data, Train_Label, Test_Label, alpha=0.85, k = 1)\n",
        "y_pred4 = PCA(Train_Data, Test_Data, Train_Label, Test_Label, alpha=0.8, k = 1)"
      ],
      "execution_count": null,
      "outputs": []
    },
    {
      "cell_type": "code",
      "metadata": {
        "id": "TeVmemZ2k9UH"
      },
      "source": [
        "acc12 = accuracy_score(Test_Label, y_pred1)\n",
        "acc22 = accuracy_score(Test_Label, y_pred2)\n",
        "acc32 = accuracy_score(Test_Label, y_pred3)\n",
        "acc42 = accuracy_score(Test_Label, y_pred4)"
      ],
      "execution_count": null,
      "outputs": []
    },
    {
      "cell_type": "code",
      "metadata": {
        "id": "7ydZFVp_lFDb",
        "colab": {
          "base_uri": "https://localhost:8080/",
          "height": 353
        },
        "outputId": "36a4cc3b-08f2-43ad-8a8f-72f786d2ae4f"
      },
      "source": [
        "print(acc12)\n",
        "print(acc22)\n",
        "print(acc32)\n",
        "print(acc42)\n",
        "\n",
        "plt.plot([0.8, 0.85, 0.9, 0.95], [acc42, acc32, acc22, acc12])"
      ],
      "execution_count": null,
      "outputs": [
        {
          "output_type": "stream",
          "text": [
            "0.7166666666666667\n",
            "0.7166666666666667\n",
            "0.7083333333333334\n",
            "0.5833333333333334\n"
          ],
          "name": "stdout"
        },
        {
          "output_type": "execute_result",
          "data": {
            "text/plain": [
              "[<matplotlib.lines.Line2D at 0x7fd00adddcc0>]"
            ]
          },
          "metadata": {
            "tags": []
          },
          "execution_count": 82
        },
        {
          "output_type": "display_data",
          "data": {
            "image/png": "[encoded data removed]",
            "text/plain": [
              "<Figure size 432x288 with 1 Axes>"
            ]
          },
          "metadata": {
            "tags": []
          }
        }
      ]
    },
    {
      "cell_type": "code",
      "metadata": {
        "id": "hc7TSWLrlQUd",
        "colab": {
          "base_uri": "https://localhost:8080/",
          "height": 264
        },
        "outputId": "80e1eeeb-e85d-4ff5-8cd2-2b0f5d0265a4"
      },
      "source": [
        "plt.plot([0.8, 0.85, 0.9, 0.95], [0.59, 0.63, 0.665, 0.74], 'r') #for 50%\n",
        "plt.plot([0.8, 0.85, 0.9, 0.95], [0.583, 0.708, 0.717, 0.717], 'b') #for 70%\n",
        "plt.show()"
      ],
      "execution_count": null,
      "outputs": [
        {
          "output_type": "display_data",
          "data": {
            "image/png": "[encoded data removed]",
            "text/plain": [
              "<Figure size 432x288 with 1 Axes>"
            ]
          },
          "metadata": {
            "tags": []
          }
        }
      ]
    },
    {
      "cell_type": "code",
      "metadata": {
        "id": "QS9rKHoqSURk",
        "colab": {
          "base_uri": "https://localhost:8080/"
        },
        "outputId": "36350824-1ce1-42b0-e07f-9ece2e3f723e"
      },
      "source": [
        "Train_Data2 =Train_Data.reshape(40,5, -1)\n",
        "mean = numpy.mean(Train_Data2, axis=1)\n",
        "print(mean.shape)\n",
        "overall_mean = numpy.mean(mean, axis=0)\n",
        "print(overall_mean)\n",
        "m = numpy.mean(Train_Data, axis=0)\n",
        "print(m)\n",
        "Z = Train_Data2 - mean.reshape(40,1,-1)\n",
        "print(Z.shape)\n",
        "print(Z.T.shape)\n",
        "(Z[0].T@Z[0]).shape"
      ],
      "execution_count": null,
      "outputs": [
        {
          "output_type": "stream",
          "text": [
            "(40, 10304)\n",
            "[86.115 86.265 86.685 ... 76.5   77.395 77.085]\n",
            "[86.115 86.265 86.685 ... 76.5   77.395 77.085]\n",
            "(40, 5, 10304)\n",
            "(10304, 5, 40)\n"
          ],
          "name": "stdout"
        },
        {
          "output_type": "execute_result",
          "data": {
            "text/plain": [
              "(10304, 10304)"
            ]
          },
          "metadata": {
            "tags": []
          },
          "execution_count": 15
        }
      ]
    },
    {
      "cell_type": "markdown",
      "metadata": {
        "id": "1JyoVDQNGmcR"
      },
      "source": [
        "# **5-LDA**"
      ]
    },
    {
      "cell_type": "markdown",
      "metadata": {
        "id": "YDPmzW86nf77"
      },
      "source": [
        "## **Algorithm**"
      ]
    },
    {
      "cell_type": "code",
      "metadata": {
        "id": "zZOJNObepBz6"
      },
      "source": [
        "def LDA(Train_Data, Test_Data, Train_Label, Test_Label, NClassSamples = 5):\n",
        "    m,n = Train_Data.shape\n",
        "    Nclasses = int(m / NClassSamples)\n",
        "    Train_Data =Train_Data.reshape(Nclasses, NClassSamples, -1)\n",
        "    mean = numpy.mean(Train_Data, axis=1)\n",
        "    overall_mean = numpy.mean(mean, axis=0)\n",
        "\n",
        "    Sb = np.zeros((n,n))\n",
        "    for i in range(Nclasses):\n",
        "      Sb+= NClassSamples * (mean[i] - overall_mean) @ (mean[i] - overall_mean).T\n",
        "\n",
        "    Z = Train_Data - mean.reshape(40,1,-1)\n",
        "    S = np.zeros((n,n))\n",
        "    for i in range(Nclasses):\n",
        "      S+= Z[i].T@Z[i]\n",
        "\n",
        "    eigvals, w = np.linalg.eigh(np.linalg.inv(S)@Sb)\n",
        "\n",
        " \n",
        "\n",
        "    return eigvals, w"
      ],
      "execution_count": null,
      "outputs": []
    },
    {
      "cell_type": "code",
      "metadata": {
        "id": "IZM3XeY-NuGo"
      },
      "source": [
        "eigvals, w = LDA(Train_Data, Test_Data, Train_Label, Test_Label)"
      ],
      "execution_count": null,
      "outputs": []
    },
    {
      "cell_type": "code",
      "metadata": {
        "id": "tH2ECNICdfNo"
      },
      "source": [
        "U = np.flip(w,axis=1)[:,0:39]\n",
        "projected_Train_Data = Train_Data @ U\n",
        "projected_Test_Data = Test_Data @ U"
      ],
      "execution_count": null,
      "outputs": []
    },
    {
      "cell_type": "code",
      "metadata": {
        "id": "IBMCv2HXf87Z"
      },
      "source": [
        "def KNN_prediction(k = 1):\n",
        "    #Create KNN Classifier\n",
        "    knn = KNeighborsClassifier(n_neighbors=k)\n",
        "    #Train the model using the training sets\n",
        "    knn.fit(projected_Train_Data, Train_Label)\n",
        "    #Predict the response for test dataset\n",
        "    y_pred = knn.predict(projected_Test_Data)\n",
        "\n",
        "    return np.sum(Test_Label == y_pred)/Test_Label.shape[0] * 100"
      ],
      "execution_count": null,
      "outputs": []
    },
    {
      "cell_type": "markdown",
      "metadata": {
        "id": "lOrGvN8Kny8Y"
      },
      "source": [
        "## **Prediction**"
      ]
    },
    {
      "cell_type": "markdown",
      "metadata": {
        "id": "uIYevLz6lOd1"
      },
      "source": [
        "### **For k = 1**"
      ]
    },
    {
      "cell_type": "code",
      "metadata": {
        "id": "dYbaIVW7goX1",
        "colab": {
          "base_uri": "https://localhost:8080/"
        },
        "outputId": "c463fae6-eb5f-48f7-9a78-db3cc70ed29f"
      },
      "source": [
        "accuracy_k1 =  KNN_prediction()\n",
        "accuracy_k1"
      ],
      "execution_count": null,
      "outputs": [
        {
          "output_type": "execute_result",
          "data": {
            "text/plain": [
              "88.33333333333333"
            ]
          },
          "metadata": {
            "tags": []
          },
          "execution_count": 77
        }
      ]
    },
    {
      "cell_type": "markdown",
      "metadata": {
        "id": "Ij8SpBjgmJYw"
      },
      "source": [
        "### **For k = 3**"
      ]
    },
    {
      "cell_type": "code",
      "metadata": {
        "id": "fhtbpmCDgtzb",
        "colab": {
          "base_uri": "https://localhost:8080/"
        },
        "outputId": "8c2fff42-16e5-4eff-88aa-e4dac259d496"
      },
      "source": [
        "accuracy_k3 =  KNN_prediction(3)\n",
        "accuracy_k3"
      ],
      "execution_count": null,
      "outputs": [
        {
          "output_type": "execute_result",
          "data": {
            "text/plain": [
              "77.5"
            ]
          },
          "metadata": {
            "tags": []
          },
          "execution_count": 78
        }
      ]
    },
    {
      "cell_type": "markdown",
      "metadata": {
        "id": "hWYX1ySYmSBe"
      },
      "source": [
        "### **For k = 5**"
      ]
    },
    {
      "cell_type": "code",
      "metadata": {
        "id": "P8meqKFwmZoS",
        "colab": {
          "base_uri": "https://localhost:8080/"
        },
        "outputId": "054bcf26-6ae3-449c-9599-89f917512484"
      },
      "source": [
        "accuracy_k5 =  KNN_prediction(5)\n",
        "accuracy_k5"
      ],
      "execution_count": null,
      "outputs": [
        {
          "output_type": "execute_result",
          "data": {
            "text/plain": [
              "65.83333333333333"
            ]
          },
          "metadata": {
            "tags": []
          },
          "execution_count": 79
        }
      ]
    },
    {
      "cell_type": "markdown",
      "metadata": {
        "id": "oRBgfbkZoBl2"
      },
      "source": [
        "### **For k = 7**"
      ]
    },
    {
      "cell_type": "code",
      "metadata": {
        "id": "FvQJE9acmmoJ",
        "colab": {
          "base_uri": "https://localhost:8080/"
        },
        "outputId": "3017bdb7-6a89-43eb-e4ba-e7352e15f94a"
      },
      "source": [
        "accuracy_k7 =  KNN_prediction(7)\n",
        "accuracy_k7"
      ],
      "execution_count": null,
      "outputs": [
        {
          "output_type": "execute_result",
          "data": {
            "text/plain": [
              "60.83333333333333"
            ]
          },
          "metadata": {
            "tags": []
          },
          "execution_count": 80
        }
      ]
    },
    {
      "cell_type": "markdown",
      "metadata": {
        "id": "KqtyIwblnElF"
      },
      "source": [
        "## **Plot the accuracy againist the k value**"
      ]
    },
    {
      "cell_type": "code",
      "metadata": {
        "id": "1xFtBEzznPZF",
        "colab": {
          "base_uri": "https://localhost:8080/",
          "height": 265
        },
        "outputId": "cc1b713c-68f8-4a7c-bd1b-451c8803e462"
      },
      "source": [
        "import matplotlib.pyplot as plt\n",
        "# for 50% split\n",
        "plt.plot([1, 3, 5, 7], [accuracy_k1, accuracy_k3, accuracy_k5, accuracy_k7], 'r')\n",
        "plt.show()"
      ],
      "execution_count": null,
      "outputs": [
        {
          "output_type": "display_data",
          "data": {
            "image/png": "[encoded data removed]",
            "text/plain": [
              "<Figure size 432x288 with 1 Axes>"
            ]
          },
          "metadata": {
            "tags": [],
            "needs_background": "light"
          }
        }
      ]
    },
    {
      "cell_type": "markdown",
      "metadata": {
        "id": "FWPQZLrHqW31"
      },
      "source": [
        "## **Bonus: Split with 70%**"
      ]
    },
    {
      "cell_type": "code",
      "metadata": {
        "id": "5Yn4fZ7FrP_o"
      },
      "source": [
        "eigvals, w = LDA(Train_Data, Test_Data, Train_Label, Test_Label, NClassSamples = 7)"
      ],
      "execution_count": null,
      "outputs": []
    },
    {
      "cell_type": "code",
      "metadata": {
        "id": "1yd65q13czyF"
      },
      "source": [
        "U = np.flip(w,axis=1)[:,0:39]\n",
        "projected_Train_Data = Train_Data @ U\n",
        "projected_Test_Data = Test_Data @ U"
      ],
      "execution_count": null,
      "outputs": []
    },
    {
      "cell_type": "markdown",
      "metadata": {
        "id": "-cLWp52Zczy7"
      },
      "source": [
        "## **Prediction**"
      ]
    },
    {
      "cell_type": "code",
      "metadata": {
        "id": "LKs5MN9Zsme5",
        "colab": {
          "base_uri": "https://localhost:8080/",
          "height": 265
        },
        "outputId": "8358559a-b91a-48e9-b556-176752527395"
      },
      "source": [
        "import matplotlib.pyplot as plt\n",
        "# for 70% split\n",
        "plt.plot([1, 3, 5, 7], [accuracy_k1, accuracy_k3, accuracy_k5, accuracy_k7], 'r')\n",
        "plt.show()"
      ],
      "execution_count": null,
      "outputs": [
        {
          "output_type": "display_data",
          "data": {
            "image/png": "[encoded data removed]",
            "text/plain": [
              "<Figure size 432x288 with 1 Axes>"
            ]
          },
          "metadata": {
            "tags": [],
            "needs_background": "light"
          }
        }
      ]
    }
  ]
}