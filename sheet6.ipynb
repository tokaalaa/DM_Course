{
  "nbformat": 4,
  "nbformat_minor": 0,
  "metadata": {
    "colab": {
      "name": "sheet6.ipynb",
      "provenance": [],
      "authorship_tag": "ABX9TyNhF4tkTsSRlKGtD58vJfTn",
      "include_colab_link": true
    },
    "kernelspec": {
      "name": "python3",
      "display_name": "Python 3"
    }
  },
  "cells": [
    {
      "cell_type": "markdown",
      "metadata": {
        "id": "view-in-github",
        "colab_type": "text"
      },
      "source": [
        "<a href=\"https://colab.research.google.com/github/tokaalaa/DM_Course/blob/main/sheet6.ipynb\" target=\"_parent\"><img src=\"https://colab.research.google.com/assets/colab-badge.svg\" alt=\"Open In Colab\"/></a>"
      ]
    },
    {
      "cell_type": "code",
      "metadata": {
        "id": "4nW6ldCMgTcj"
      },
      "source": [
        "import numpy as np"
      ],
      "execution_count": null,
      "outputs": []
    },
    {
      "cell_type": "code",
      "metadata": {
        "id": "aJooIhUsgaox"
      },
      "source": [
        "X = np.array([[1,5],\r\n",
        "              [2,6],\r\n",
        "              [2,10],\r\n",
        "              [2,12],\r\n",
        "              [3,17],\r\n",
        "              [3,12],\r\n",
        "              [4,6],\r\n",
        "              [4,5],\r\n",
        "              [4,7],\r\n",
        "              [5,10]              \r\n",
        "])\r\n",
        "Y = np.array([10, 40, 50, 60, 70, 50, 30, 20, 40, 70])"
      ],
      "execution_count": null,
      "outputs": []
    },
    {
      "cell_type": "code",
      "metadata": {
        "id": "faMZgLhIhEJF"
      },
      "source": [
        "X_ = np.column_stack((np.ones((10,1)),X))\r\n",
        "XTX = X_.T @ X_\r\n",
        "invXTX = np.linalg.inv(XTX)"
      ],
      "execution_count": null,
      "outputs": []
    },
    {
      "cell_type": "code",
      "metadata": {
        "colab": {
          "base_uri": "https://localhost:8080/"
        },
        "id": "9z17pauzjygL",
        "outputId": "48ba9774-7002-4833-9ad3-b43c3e638393"
      },
      "source": [
        "XTY = X_.T @ Y\r\n",
        "theta = invXTX @ XTY\r\n",
        "theta"
      ],
      "execution_count": null,
      "outputs": [
        {
          "output_type": "execute_result",
          "data": {
            "text/plain": [
              "array([-7.98757764,  4.28571429,  4.34782609])"
            ]
          },
          "metadata": {
            "tags": []
          },
          "execution_count": 22
        }
      ]
    },
    {
      "cell_type": "code",
      "metadata": {
        "colab": {
          "base_uri": "https://localhost:8080/"
        },
        "id": "mqLE0gumlXSl",
        "outputId": "4d40070f-5f13-4b98-c043-64e422bca498"
      },
      "source": [
        "from sklearn.linear_model import LinearRegression\r\n",
        "reg = LinearRegression().fit(X, Y)\r\n",
        "print(reg.score(X, Y))\r\n",
        "print(reg.coef_)\r\n",
        "print(reg.intercept_)\r\n",
        "reg.predict(test)"
      ],
      "execution_count": null,
      "outputs": [
        {
          "output_type": "stream",
          "text": [
            "0.7873182717903215\n",
            "[4.28571429 4.34782609]\n",
            "-7.987577639751542\n"
          ],
          "name": "stdout"
        },
        {
          "output_type": "execute_result",
          "data": {
            "text/plain": [
              "array([74.43478261, 17.97515528, 30.83229814])"
            ]
          },
          "metadata": {
            "tags": []
          },
          "execution_count": 30
        }
      ]
    },
    {
      "cell_type": "code",
      "metadata": {
        "colab": {
          "base_uri": "https://localhost:8080/"
        },
        "id": "p0fFMT_jmZqn",
        "outputId": "77f8cab1-1c63-4eae-bbe7-5d473402ebaa"
      },
      "source": [
        "from sklearn.linear_model import Ridge\r\n",
        "clf = Ridge(alpha=0.1)\r\n",
        "reg = clf.fit(X, Y)\r\n",
        "print(reg.score(X, Y))\r\n",
        "print(reg.coef_)\r\n",
        "print(reg.intercept_)"
      ],
      "execution_count": null,
      "outputs": [
        {
          "output_type": "stream",
          "text": [
            "0.7873143426850626\n",
            "[4.25531915 4.34467777]\n",
            "-7.868057374397225\n"
          ],
          "name": "stdout"
        }
      ]
    },
    {
      "cell_type": "code",
      "metadata": {
        "colab": {
          "base_uri": "https://localhost:8080/"
        },
        "id": "3-YPNedzqMFz",
        "outputId": "ac3dac77-7576-425d-b9f6-72140c0bc80a"
      },
      "source": [
        "test =np.array([[3,16],\r\n",
        "                [2,4],\r\n",
        "                [5,4]               \r\n",
        "])\r\n",
        "reg.predict(test)"
      ],
      "execution_count": null,
      "outputs": [
        {
          "output_type": "execute_result",
          "data": {
            "text/plain": [
              "array([74.41274439, 18.021292  , 30.78724945])"
            ]
          },
          "metadata": {
            "tags": []
          },
          "execution_count": 38
        }
      ]
    }
  ]
}